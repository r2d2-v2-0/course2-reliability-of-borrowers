{
 "cells": [
  {
   "cell_type": "markdown",
   "id": "e684af68",
   "metadata": {},
   "source": [
    "# Исследование надежности заемщиков."
   ]
  },
  {
   "cell_type": "markdown",
   "id": "c74863d2",
   "metadata": {},
   "source": [
    "<div class=\"alert alert-info\">\n",
    "    <b>Описание проекта:</b>\n",
    "<br>Задача проекта: узнать влияет ли семейное положение и количество детей клиента на факт погашения кредита в срок.\n",
    "<br>Промежуточные задачи: проверить и провести предварительную обработку данных.\n",
    "<br>Исходные данные: входные данные от банка — статистика о платёжеспособности клиентов.\n",
    "<br>Описание данных:\n",
    "<ul>\n",
    "    <li> children — количество детей в семье\n",
    "    <li> days_employed — общий трудовой стаж в днях\n",
    "    <li> dob_years — возраст клиента в годах\n",
    "    <li> education — уровень образования клиента\n",
    "    <li> education_id — идентификатор уровня образования\n",
    "    <li> family_status — семейное положение\n",
    "    <li> family_status_id — идентификатор семейного положения\n",
    "    <li> gender — пол клиента\n",
    "    <li> income_type — тип занятости\n",
    "    <li> debt — имел ли задолженность по возврату кредитов\n",
    "    <li> total_income — ежемесячный доход\n",
    "    <li> purpose — цель получения кредита\n",
    "</ul>\n",
    "</div>"
   ]
  },
  {
   "cell_type": "markdown",
   "id": "785d1bdc",
   "metadata": {},
   "source": [
    "### Шаг 1. Обзор данных"
   ]
  },
  {
   "cell_type": "code",
   "execution_count": 1,
   "id": "259c7b27",
   "metadata": {},
   "outputs": [],
   "source": [
    "import pandas as pd"
   ]
  },
  {
   "cell_type": "code",
   "execution_count": 2,
   "id": "6c2a90fe",
   "metadata": {},
   "outputs": [],
   "source": [
    "df = pd.read_csv('datasets/data.csv')"
   ]
  },
  {
   "cell_type": "markdown",
   "id": "038b3a2b",
   "metadata": {},
   "source": [
    "### Шаг 2.1 Заполнение пропусков"
   ]
  },
  {
   "cell_type": "markdown",
   "id": "fe1a7501",
   "metadata": {},
   "source": [
    "<div class=\"alert alert-info\">\n",
    "Сперва знакомлюсь с df:\n",
    "</div>"
   ]
  },
  {
   "cell_type": "code",
   "execution_count": 3,
   "id": "57c7d586",
   "metadata": {
    "scrolled": true
   },
   "outputs": [
    {
     "data": {
      "text/html": [
       "<div>\n",
       "<style scoped>\n",
       "    .dataframe tbody tr th:only-of-type {\n",
       "        vertical-align: middle;\n",
       "    }\n",
       "\n",
       "    .dataframe tbody tr th {\n",
       "        vertical-align: top;\n",
       "    }\n",
       "\n",
       "    .dataframe thead th {\n",
       "        text-align: right;\n",
       "    }\n",
       "</style>\n",
       "<table border=\"1\" class=\"dataframe\">\n",
       "  <thead>\n",
       "    <tr style=\"text-align: right;\">\n",
       "      <th></th>\n",
       "      <th>children</th>\n",
       "      <th>days_employed</th>\n",
       "      <th>dob_years</th>\n",
       "      <th>education</th>\n",
       "      <th>education_id</th>\n",
       "      <th>family_status</th>\n",
       "      <th>family_status_id</th>\n",
       "      <th>gender</th>\n",
       "      <th>income_type</th>\n",
       "      <th>debt</th>\n",
       "      <th>total_income</th>\n",
       "      <th>purpose</th>\n",
       "    </tr>\n",
       "  </thead>\n",
       "  <tbody>\n",
       "    <tr>\n",
       "      <th>0</th>\n",
       "      <td>1</td>\n",
       "      <td>-8437.673028</td>\n",
       "      <td>42</td>\n",
       "      <td>высшее</td>\n",
       "      <td>0</td>\n",
       "      <td>женат / замужем</td>\n",
       "      <td>0</td>\n",
       "      <td>F</td>\n",
       "      <td>сотрудник</td>\n",
       "      <td>0</td>\n",
       "      <td>253875.639453</td>\n",
       "      <td>покупка жилья</td>\n",
       "    </tr>\n",
       "    <tr>\n",
       "      <th>1</th>\n",
       "      <td>1</td>\n",
       "      <td>-4024.803754</td>\n",
       "      <td>36</td>\n",
       "      <td>среднее</td>\n",
       "      <td>1</td>\n",
       "      <td>женат / замужем</td>\n",
       "      <td>0</td>\n",
       "      <td>F</td>\n",
       "      <td>сотрудник</td>\n",
       "      <td>0</td>\n",
       "      <td>112080.014102</td>\n",
       "      <td>приобретение автомобиля</td>\n",
       "    </tr>\n",
       "    <tr>\n",
       "      <th>2</th>\n",
       "      <td>0</td>\n",
       "      <td>-5623.422610</td>\n",
       "      <td>33</td>\n",
       "      <td>Среднее</td>\n",
       "      <td>1</td>\n",
       "      <td>женат / замужем</td>\n",
       "      <td>0</td>\n",
       "      <td>M</td>\n",
       "      <td>сотрудник</td>\n",
       "      <td>0</td>\n",
       "      <td>145885.952297</td>\n",
       "      <td>покупка жилья</td>\n",
       "    </tr>\n",
       "    <tr>\n",
       "      <th>3</th>\n",
       "      <td>3</td>\n",
       "      <td>-4124.747207</td>\n",
       "      <td>32</td>\n",
       "      <td>среднее</td>\n",
       "      <td>1</td>\n",
       "      <td>женат / замужем</td>\n",
       "      <td>0</td>\n",
       "      <td>M</td>\n",
       "      <td>сотрудник</td>\n",
       "      <td>0</td>\n",
       "      <td>267628.550329</td>\n",
       "      <td>дополнительное образование</td>\n",
       "    </tr>\n",
       "    <tr>\n",
       "      <th>4</th>\n",
       "      <td>0</td>\n",
       "      <td>340266.072047</td>\n",
       "      <td>53</td>\n",
       "      <td>среднее</td>\n",
       "      <td>1</td>\n",
       "      <td>гражданский брак</td>\n",
       "      <td>1</td>\n",
       "      <td>F</td>\n",
       "      <td>пенсионер</td>\n",
       "      <td>0</td>\n",
       "      <td>158616.077870</td>\n",
       "      <td>сыграть свадьбу</td>\n",
       "    </tr>\n",
       "  </tbody>\n",
       "</table>\n",
       "</div>"
      ],
      "text/plain": [
       "   children  days_employed  dob_years education  education_id  \\\n",
       "0         1   -8437.673028         42    высшее             0   \n",
       "1         1   -4024.803754         36   среднее             1   \n",
       "2         0   -5623.422610         33   Среднее             1   \n",
       "3         3   -4124.747207         32   среднее             1   \n",
       "4         0  340266.072047         53   среднее             1   \n",
       "\n",
       "      family_status  family_status_id gender income_type  debt   total_income  \\\n",
       "0   женат / замужем                 0      F   сотрудник     0  253875.639453   \n",
       "1   женат / замужем                 0      F   сотрудник     0  112080.014102   \n",
       "2   женат / замужем                 0      M   сотрудник     0  145885.952297   \n",
       "3   женат / замужем                 0      M   сотрудник     0  267628.550329   \n",
       "4  гражданский брак                 1      F   пенсионер     0  158616.077870   \n",
       "\n",
       "                      purpose  \n",
       "0               покупка жилья  \n",
       "1     приобретение автомобиля  \n",
       "2               покупка жилья  \n",
       "3  дополнительное образование  \n",
       "4             сыграть свадьбу  "
      ]
     },
     "metadata": {},
     "output_type": "display_data"
    }
   ],
   "source": [
    "display(df.head()) "
   ]
  },
  {
   "cell_type": "code",
   "execution_count": 4,
   "id": "bef7f21d",
   "metadata": {},
   "outputs": [
    {
     "name": "stdout",
     "output_type": "stream",
     "text": [
      "<class 'pandas.core.frame.DataFrame'>\n",
      "RangeIndex: 21525 entries, 0 to 21524\n",
      "Data columns (total 12 columns):\n",
      " #   Column            Non-Null Count  Dtype  \n",
      "---  ------            --------------  -----  \n",
      " 0   children          21525 non-null  int64  \n",
      " 1   days_employed     19351 non-null  float64\n",
      " 2   dob_years         21525 non-null  int64  \n",
      " 3   education         21525 non-null  object \n",
      " 4   education_id      21525 non-null  int64  \n",
      " 5   family_status     21525 non-null  object \n",
      " 6   family_status_id  21525 non-null  int64  \n",
      " 7   gender            21525 non-null  object \n",
      " 8   income_type       21525 non-null  object \n",
      " 9   debt              21525 non-null  int64  \n",
      " 10  total_income      19351 non-null  float64\n",
      " 11  purpose           21525 non-null  object \n",
      "dtypes: float64(2), int64(5), object(5)\n",
      "memory usage: 2.0+ MB\n"
     ]
    }
   ],
   "source": [
    "df.info()"
   ]
  },
  {
   "cell_type": "code",
   "execution_count": 5,
   "id": "95cf28be",
   "metadata": {},
   "outputs": [
    {
     "data": {
      "text/html": [
       "<div>\n",
       "<style scoped>\n",
       "    .dataframe tbody tr th:only-of-type {\n",
       "        vertical-align: middle;\n",
       "    }\n",
       "\n",
       "    .dataframe tbody tr th {\n",
       "        vertical-align: top;\n",
       "    }\n",
       "\n",
       "    .dataframe thead th {\n",
       "        text-align: right;\n",
       "    }\n",
       "</style>\n",
       "<table border=\"1\" class=\"dataframe\">\n",
       "  <thead>\n",
       "    <tr style=\"text-align: right;\">\n",
       "      <th></th>\n",
       "      <th>children</th>\n",
       "      <th>days_employed</th>\n",
       "      <th>dob_years</th>\n",
       "      <th>education_id</th>\n",
       "      <th>family_status_id</th>\n",
       "      <th>debt</th>\n",
       "      <th>total_income</th>\n",
       "    </tr>\n",
       "  </thead>\n",
       "  <tbody>\n",
       "    <tr>\n",
       "      <th>count</th>\n",
       "      <td>21525.000000</td>\n",
       "      <td>19351.000000</td>\n",
       "      <td>21525.000000</td>\n",
       "      <td>21525.000000</td>\n",
       "      <td>21525.000000</td>\n",
       "      <td>21525.000000</td>\n",
       "      <td>1.935100e+04</td>\n",
       "    </tr>\n",
       "    <tr>\n",
       "      <th>mean</th>\n",
       "      <td>0.538908</td>\n",
       "      <td>63046.497661</td>\n",
       "      <td>43.293380</td>\n",
       "      <td>0.817236</td>\n",
       "      <td>0.972544</td>\n",
       "      <td>0.080883</td>\n",
       "      <td>1.674223e+05</td>\n",
       "    </tr>\n",
       "    <tr>\n",
       "      <th>std</th>\n",
       "      <td>1.381587</td>\n",
       "      <td>140827.311974</td>\n",
       "      <td>12.574584</td>\n",
       "      <td>0.548138</td>\n",
       "      <td>1.420324</td>\n",
       "      <td>0.272661</td>\n",
       "      <td>1.029716e+05</td>\n",
       "    </tr>\n",
       "    <tr>\n",
       "      <th>min</th>\n",
       "      <td>-1.000000</td>\n",
       "      <td>-18388.949901</td>\n",
       "      <td>0.000000</td>\n",
       "      <td>0.000000</td>\n",
       "      <td>0.000000</td>\n",
       "      <td>0.000000</td>\n",
       "      <td>2.066726e+04</td>\n",
       "    </tr>\n",
       "    <tr>\n",
       "      <th>25%</th>\n",
       "      <td>0.000000</td>\n",
       "      <td>-2747.423625</td>\n",
       "      <td>33.000000</td>\n",
       "      <td>1.000000</td>\n",
       "      <td>0.000000</td>\n",
       "      <td>0.000000</td>\n",
       "      <td>1.030532e+05</td>\n",
       "    </tr>\n",
       "    <tr>\n",
       "      <th>50%</th>\n",
       "      <td>0.000000</td>\n",
       "      <td>-1203.369529</td>\n",
       "      <td>42.000000</td>\n",
       "      <td>1.000000</td>\n",
       "      <td>0.000000</td>\n",
       "      <td>0.000000</td>\n",
       "      <td>1.450179e+05</td>\n",
       "    </tr>\n",
       "    <tr>\n",
       "      <th>75%</th>\n",
       "      <td>1.000000</td>\n",
       "      <td>-291.095954</td>\n",
       "      <td>53.000000</td>\n",
       "      <td>1.000000</td>\n",
       "      <td>1.000000</td>\n",
       "      <td>0.000000</td>\n",
       "      <td>2.034351e+05</td>\n",
       "    </tr>\n",
       "    <tr>\n",
       "      <th>max</th>\n",
       "      <td>20.000000</td>\n",
       "      <td>401755.400475</td>\n",
       "      <td>75.000000</td>\n",
       "      <td>4.000000</td>\n",
       "      <td>4.000000</td>\n",
       "      <td>1.000000</td>\n",
       "      <td>2.265604e+06</td>\n",
       "    </tr>\n",
       "  </tbody>\n",
       "</table>\n",
       "</div>"
      ],
      "text/plain": [
       "           children  days_employed     dob_years  education_id  \\\n",
       "count  21525.000000   19351.000000  21525.000000  21525.000000   \n",
       "mean       0.538908   63046.497661     43.293380      0.817236   \n",
       "std        1.381587  140827.311974     12.574584      0.548138   \n",
       "min       -1.000000  -18388.949901      0.000000      0.000000   \n",
       "25%        0.000000   -2747.423625     33.000000      1.000000   \n",
       "50%        0.000000   -1203.369529     42.000000      1.000000   \n",
       "75%        1.000000    -291.095954     53.000000      1.000000   \n",
       "max       20.000000  401755.400475     75.000000      4.000000   \n",
       "\n",
       "       family_status_id          debt  total_income  \n",
       "count      21525.000000  21525.000000  1.935100e+04  \n",
       "mean           0.972544      0.080883  1.674223e+05  \n",
       "std            1.420324      0.272661  1.029716e+05  \n",
       "min            0.000000      0.000000  2.066726e+04  \n",
       "25%            0.000000      0.000000  1.030532e+05  \n",
       "50%            0.000000      0.000000  1.450179e+05  \n",
       "75%            1.000000      0.000000  2.034351e+05  \n",
       "max            4.000000      1.000000  2.265604e+06  "
      ]
     },
     "execution_count": 5,
     "metadata": {},
     "output_type": "execute_result"
    }
   ],
   "source": [
    "df.describe()"
   ]
  },
  {
   "cell_type": "markdown",
   "id": "d8941d86",
   "metadata": {},
   "source": [
    "<div class=\"alert alert-info\">\n",
    "    <b>Вывод:</b><br>\n",
    "    \n",
    "После первого ознакомления с df можно заметить, что:<br>\n",
    "* в колонках 'days_employed' и 'total_income' есть пропуски;<br>\n",
    "* Так же в колонке 'days_employed' присутствуют минусовые значения;<br>\n",
    "* В колонке 'education' значения написаны в разном регистре;<br>\n",
    "* Значения колонок 'days_employed', 'dob_years' и 'total_income' - количественные. Остальные категориальные.\n",
    "    \n",
    "Далее нахожу долю пропусков:\n",
    "</div>"
   ]
  },
  {
   "cell_type": "code",
   "execution_count": 6,
   "id": "99dec944",
   "metadata": {
    "scrolled": true
   },
   "outputs": [
    {
     "name": "stdout",
     "output_type": "stream",
     "text": [
      "Доля пропусков в колонке 'days_employed' составляет: 10%\n",
      "Доля пропусков в колонке 'total_income' составляет: 10%\n"
     ]
    },
    {
     "data": {
      "text/plain": [
       "children            0.000000\n",
       "days_employed       0.100999\n",
       "dob_years           0.000000\n",
       "education           0.000000\n",
       "education_id        0.000000\n",
       "family_status       0.000000\n",
       "family_status_id    0.000000\n",
       "gender              0.000000\n",
       "income_type         0.000000\n",
       "debt                0.000000\n",
       "total_income        0.100999\n",
       "purpose             0.000000\n",
       "dtype: float64"
      ]
     },
     "execution_count": 6,
     "metadata": {},
     "output_type": "execute_result"
    }
   ],
   "source": [
    "#написал функцию, которая возвращает долю пропусков\n",
    "def fraction(column):\n",
    "    result = column.isna().sum() / len(column)\n",
    "    return result\n",
    "try:\n",
    "    print(f\"Доля пропусков в колонке \\'days_employed\\' составляет: {fraction(df['days_employed']):.0%}\")\n",
    "    print(f\"Доля пропусков в колонке \\'total_income\\' составляет: {fraction(df['total_income']):.0%}\")\n",
    "except:\n",
    "    print('Проверь параметр функции')\n",
    "#v1 ВОТ ТУТ\n",
    "df.isna().mean()"
   ]
  },
  {
   "cell_type": "markdown",
   "id": "a3fb52ed",
   "metadata": {},
   "source": [
    "<div class=\"alert alert-info\">\n",
    "Судя по тому, как были введены данные в колонке 'education' (нижний и верхний регистр), можно предположить что все данные введены в полях в свободной форме.\n",
    "    \n",
    "Одна из возможных причин пропусков в данных столбцах - это намеренный пропуск самим пользователем, в виду отсутствия трудового стажа.\n",
    "    \n",
    "Для подтверждения или опровержения этой гипотезы сортирую строки датафрейма с пропусками по возрасту:\n",
    "</div>"
   ]
  },
  {
   "cell_type": "code",
   "execution_count": 7,
   "id": "079f49cb",
   "metadata": {
    "scrolled": true
   },
   "outputs": [
    {
     "data": {
      "text/html": [
       "<div>\n",
       "<style scoped>\n",
       "    .dataframe tbody tr th:only-of-type {\n",
       "        vertical-align: middle;\n",
       "    }\n",
       "\n",
       "    .dataframe tbody tr th {\n",
       "        vertical-align: top;\n",
       "    }\n",
       "\n",
       "    .dataframe thead th {\n",
       "        text-align: right;\n",
       "    }\n",
       "</style>\n",
       "<table border=\"1\" class=\"dataframe\">\n",
       "  <thead>\n",
       "    <tr style=\"text-align: right;\">\n",
       "      <th></th>\n",
       "      <th>children</th>\n",
       "      <th>days_employed</th>\n",
       "      <th>dob_years</th>\n",
       "      <th>education</th>\n",
       "      <th>education_id</th>\n",
       "      <th>family_status</th>\n",
       "      <th>family_status_id</th>\n",
       "      <th>gender</th>\n",
       "      <th>income_type</th>\n",
       "      <th>debt</th>\n",
       "      <th>total_income</th>\n",
       "      <th>purpose</th>\n",
       "    </tr>\n",
       "  </thead>\n",
       "  <tbody>\n",
       "    <tr>\n",
       "      <th>12403</th>\n",
       "      <td>3</td>\n",
       "      <td>NaN</td>\n",
       "      <td>0</td>\n",
       "      <td>среднее</td>\n",
       "      <td>1</td>\n",
       "      <td>женат / замужем</td>\n",
       "      <td>0</td>\n",
       "      <td>M</td>\n",
       "      <td>сотрудник</td>\n",
       "      <td>0</td>\n",
       "      <td>NaN</td>\n",
       "      <td>операции с коммерческой недвижимостью</td>\n",
       "    </tr>\n",
       "    <tr>\n",
       "      <th>6670</th>\n",
       "      <td>0</td>\n",
       "      <td>NaN</td>\n",
       "      <td>0</td>\n",
       "      <td>Высшее</td>\n",
       "      <td>0</td>\n",
       "      <td>в разводе</td>\n",
       "      <td>3</td>\n",
       "      <td>F</td>\n",
       "      <td>пенсионер</td>\n",
       "      <td>0</td>\n",
       "      <td>NaN</td>\n",
       "      <td>покупка жилой недвижимости</td>\n",
       "    </tr>\n",
       "    <tr>\n",
       "      <th>2284</th>\n",
       "      <td>0</td>\n",
       "      <td>NaN</td>\n",
       "      <td>0</td>\n",
       "      <td>среднее</td>\n",
       "      <td>1</td>\n",
       "      <td>вдовец / вдова</td>\n",
       "      <td>2</td>\n",
       "      <td>F</td>\n",
       "      <td>пенсионер</td>\n",
       "      <td>0</td>\n",
       "      <td>NaN</td>\n",
       "      <td>недвижимость</td>\n",
       "    </tr>\n",
       "    <tr>\n",
       "      <th>6411</th>\n",
       "      <td>0</td>\n",
       "      <td>NaN</td>\n",
       "      <td>0</td>\n",
       "      <td>высшее</td>\n",
       "      <td>0</td>\n",
       "      <td>гражданский брак</td>\n",
       "      <td>1</td>\n",
       "      <td>F</td>\n",
       "      <td>пенсионер</td>\n",
       "      <td>0</td>\n",
       "      <td>NaN</td>\n",
       "      <td>свадьба</td>\n",
       "    </tr>\n",
       "    <tr>\n",
       "      <th>19829</th>\n",
       "      <td>0</td>\n",
       "      <td>NaN</td>\n",
       "      <td>0</td>\n",
       "      <td>среднее</td>\n",
       "      <td>1</td>\n",
       "      <td>женат / замужем</td>\n",
       "      <td>0</td>\n",
       "      <td>F</td>\n",
       "      <td>сотрудник</td>\n",
       "      <td>0</td>\n",
       "      <td>NaN</td>\n",
       "      <td>жилье</td>\n",
       "    </tr>\n",
       "    <tr>\n",
       "      <th>13741</th>\n",
       "      <td>0</td>\n",
       "      <td>NaN</td>\n",
       "      <td>0</td>\n",
       "      <td>среднее</td>\n",
       "      <td>1</td>\n",
       "      <td>гражданский брак</td>\n",
       "      <td>1</td>\n",
       "      <td>F</td>\n",
       "      <td>сотрудник</td>\n",
       "      <td>0</td>\n",
       "      <td>NaN</td>\n",
       "      <td>на проведение свадьбы</td>\n",
       "    </tr>\n",
       "    <tr>\n",
       "      <th>4064</th>\n",
       "      <td>1</td>\n",
       "      <td>NaN</td>\n",
       "      <td>0</td>\n",
       "      <td>среднее</td>\n",
       "      <td>1</td>\n",
       "      <td>гражданский брак</td>\n",
       "      <td>1</td>\n",
       "      <td>M</td>\n",
       "      <td>компаньон</td>\n",
       "      <td>0</td>\n",
       "      <td>NaN</td>\n",
       "      <td>ремонт жилью</td>\n",
       "    </tr>\n",
       "    <tr>\n",
       "      <th>1890</th>\n",
       "      <td>0</td>\n",
       "      <td>NaN</td>\n",
       "      <td>0</td>\n",
       "      <td>высшее</td>\n",
       "      <td>0</td>\n",
       "      <td>Не женат / не замужем</td>\n",
       "      <td>4</td>\n",
       "      <td>F</td>\n",
       "      <td>сотрудник</td>\n",
       "      <td>0</td>\n",
       "      <td>NaN</td>\n",
       "      <td>жилье</td>\n",
       "    </tr>\n",
       "    <tr>\n",
       "      <th>5014</th>\n",
       "      <td>0</td>\n",
       "      <td>NaN</td>\n",
       "      <td>0</td>\n",
       "      <td>среднее</td>\n",
       "      <td>1</td>\n",
       "      <td>женат / замужем</td>\n",
       "      <td>0</td>\n",
       "      <td>F</td>\n",
       "      <td>компаньон</td>\n",
       "      <td>0</td>\n",
       "      <td>NaN</td>\n",
       "      <td>покупка недвижимости</td>\n",
       "    </tr>\n",
       "    <tr>\n",
       "      <th>8574</th>\n",
       "      <td>0</td>\n",
       "      <td>NaN</td>\n",
       "      <td>0</td>\n",
       "      <td>среднее</td>\n",
       "      <td>1</td>\n",
       "      <td>женат / замужем</td>\n",
       "      <td>0</td>\n",
       "      <td>F</td>\n",
       "      <td>сотрудник</td>\n",
       "      <td>0</td>\n",
       "      <td>NaN</td>\n",
       "      <td>недвижимость</td>\n",
       "    </tr>\n",
       "  </tbody>\n",
       "</table>\n",
       "</div>"
      ],
      "text/plain": [
       "       children  days_employed  dob_years education  education_id  \\\n",
       "12403         3            NaN          0   среднее             1   \n",
       "6670          0            NaN          0    Высшее             0   \n",
       "2284          0            NaN          0   среднее             1   \n",
       "6411          0            NaN          0    высшее             0   \n",
       "19829         0            NaN          0   среднее             1   \n",
       "13741         0            NaN          0   среднее             1   \n",
       "4064          1            NaN          0   среднее             1   \n",
       "1890          0            NaN          0    высшее             0   \n",
       "5014          0            NaN          0   среднее             1   \n",
       "8574          0            NaN          0   среднее             1   \n",
       "\n",
       "               family_status  family_status_id gender income_type  debt  \\\n",
       "12403        женат / замужем                 0      M   сотрудник     0   \n",
       "6670               в разводе                 3      F   пенсионер     0   \n",
       "2284          вдовец / вдова                 2      F   пенсионер     0   \n",
       "6411        гражданский брак                 1      F   пенсионер     0   \n",
       "19829        женат / замужем                 0      F   сотрудник     0   \n",
       "13741       гражданский брак                 1      F   сотрудник     0   \n",
       "4064        гражданский брак                 1      M   компаньон     0   \n",
       "1890   Не женат / не замужем                 4      F   сотрудник     0   \n",
       "5014         женат / замужем                 0      F   компаньон     0   \n",
       "8574         женат / замужем                 0      F   сотрудник     0   \n",
       "\n",
       "       total_income                                purpose  \n",
       "12403           NaN  операции с коммерческой недвижимостью  \n",
       "6670            NaN             покупка жилой недвижимости  \n",
       "2284            NaN                           недвижимость  \n",
       "6411            NaN                                свадьба  \n",
       "19829           NaN                                  жилье  \n",
       "13741           NaN                  на проведение свадьбы  \n",
       "4064            NaN                           ремонт жилью  \n",
       "1890            NaN                                  жилье  \n",
       "5014            NaN                   покупка недвижимости  \n",
       "8574            NaN                           недвижимость  "
      ]
     },
     "metadata": {},
     "output_type": "display_data"
    }
   ],
   "source": [
    "display(df.loc[df['days_employed'].isnull()].sort_values(by='dob_years').head(10)) "
   ]
  },
  {
   "cell_type": "markdown",
   "id": "603c163d",
   "metadata": {},
   "source": [
    "<div class=\"alert alert-warning\">\n",
    "В колонке 'dob_years' (возраст) есть нули.\n",
    "Выявляю количество строк с нулями в колонке 'dob_years':\n",
    "</div>"
   ]
  },
  {
   "cell_type": "code",
   "execution_count": 8,
   "id": "8831339c",
   "metadata": {},
   "outputs": [
    {
     "name": "stdout",
     "output_type": "stream",
     "text": [
      "Количество нулей в столбце 'dob_years': 101\n"
     ]
    }
   ],
   "source": [
    "print(\n",
    "    'Количество нулей в столбце \\'dob_years\\':',\n",
    "    len(df[df['dob_years'] == 0])\n",
    ")"
   ]
  },
  {
   "cell_type": "markdown",
   "id": "d10592dc",
   "metadata": {},
   "source": [
    "<div class=\"alert alert-info\">\n",
    "    <b> Комментарий студента</b><br>\n",
    "    \n",
    "Продолжаем проверять гипотезу о взаимосвязи пропусков данных и отсутствия трудового стажа, выводим датафрейм отбросив пропуски в колонке 'dob_years':\n",
    "</div>"
   ]
  },
  {
   "cell_type": "code",
   "execution_count": 9,
   "id": "0987dc4e",
   "metadata": {
    "scrolled": true
   },
   "outputs": [
    {
     "data": {
      "text/html": [
       "<div>\n",
       "<style scoped>\n",
       "    .dataframe tbody tr th:only-of-type {\n",
       "        vertical-align: middle;\n",
       "    }\n",
       "\n",
       "    .dataframe tbody tr th {\n",
       "        vertical-align: top;\n",
       "    }\n",
       "\n",
       "    .dataframe thead th {\n",
       "        text-align: right;\n",
       "    }\n",
       "</style>\n",
       "<table border=\"1\" class=\"dataframe\">\n",
       "  <thead>\n",
       "    <tr style=\"text-align: right;\">\n",
       "      <th></th>\n",
       "      <th>children</th>\n",
       "      <th>days_employed</th>\n",
       "      <th>dob_years</th>\n",
       "      <th>education</th>\n",
       "      <th>education_id</th>\n",
       "      <th>family_status</th>\n",
       "      <th>family_status_id</th>\n",
       "      <th>gender</th>\n",
       "      <th>income_type</th>\n",
       "      <th>debt</th>\n",
       "      <th>total_income</th>\n",
       "      <th>purpose</th>\n",
       "    </tr>\n",
       "  </thead>\n",
       "  <tbody>\n",
       "    <tr>\n",
       "      <th>4052</th>\n",
       "      <td>0</td>\n",
       "      <td>NaN</td>\n",
       "      <td>19</td>\n",
       "      <td>среднее</td>\n",
       "      <td>1</td>\n",
       "      <td>гражданский брак</td>\n",
       "      <td>1</td>\n",
       "      <td>M</td>\n",
       "      <td>сотрудник</td>\n",
       "      <td>0</td>\n",
       "      <td>NaN</td>\n",
       "      <td>на проведение свадьбы</td>\n",
       "    </tr>\n",
       "    <tr>\n",
       "      <th>18385</th>\n",
       "      <td>0</td>\n",
       "      <td>NaN</td>\n",
       "      <td>21</td>\n",
       "      <td>среднее</td>\n",
       "      <td>1</td>\n",
       "      <td>гражданский брак</td>\n",
       "      <td>1</td>\n",
       "      <td>F</td>\n",
       "      <td>сотрудник</td>\n",
       "      <td>0</td>\n",
       "      <td>NaN</td>\n",
       "      <td>покупка жилья для сдачи</td>\n",
       "    </tr>\n",
       "    <tr>\n",
       "      <th>763</th>\n",
       "      <td>0</td>\n",
       "      <td>NaN</td>\n",
       "      <td>21</td>\n",
       "      <td>среднее</td>\n",
       "      <td>1</td>\n",
       "      <td>гражданский брак</td>\n",
       "      <td>1</td>\n",
       "      <td>M</td>\n",
       "      <td>компаньон</td>\n",
       "      <td>0</td>\n",
       "      <td>NaN</td>\n",
       "      <td>покупка жилья</td>\n",
       "    </tr>\n",
       "    <tr>\n",
       "      <th>11354</th>\n",
       "      <td>0</td>\n",
       "      <td>NaN</td>\n",
       "      <td>21</td>\n",
       "      <td>Высшее</td>\n",
       "      <td>0</td>\n",
       "      <td>гражданский брак</td>\n",
       "      <td>1</td>\n",
       "      <td>M</td>\n",
       "      <td>компаньон</td>\n",
       "      <td>0</td>\n",
       "      <td>NaN</td>\n",
       "      <td>автомобили</td>\n",
       "    </tr>\n",
       "    <tr>\n",
       "      <th>10619</th>\n",
       "      <td>0</td>\n",
       "      <td>NaN</td>\n",
       "      <td>21</td>\n",
       "      <td>высшее</td>\n",
       "      <td>0</td>\n",
       "      <td>гражданский брак</td>\n",
       "      <td>1</td>\n",
       "      <td>M</td>\n",
       "      <td>сотрудник</td>\n",
       "      <td>0</td>\n",
       "      <td>NaN</td>\n",
       "      <td>сыграть свадьбу</td>\n",
       "    </tr>\n",
       "    <tr>\n",
       "      <th>2606</th>\n",
       "      <td>0</td>\n",
       "      <td>NaN</td>\n",
       "      <td>21</td>\n",
       "      <td>среднее</td>\n",
       "      <td>1</td>\n",
       "      <td>Не женат / не замужем</td>\n",
       "      <td>4</td>\n",
       "      <td>M</td>\n",
       "      <td>сотрудник</td>\n",
       "      <td>0</td>\n",
       "      <td>NaN</td>\n",
       "      <td>операции с коммерческой недвижимостью</td>\n",
       "    </tr>\n",
       "    <tr>\n",
       "      <th>18061</th>\n",
       "      <td>0</td>\n",
       "      <td>NaN</td>\n",
       "      <td>21</td>\n",
       "      <td>среднее</td>\n",
       "      <td>1</td>\n",
       "      <td>гражданский брак</td>\n",
       "      <td>1</td>\n",
       "      <td>M</td>\n",
       "      <td>сотрудник</td>\n",
       "      <td>0</td>\n",
       "      <td>NaN</td>\n",
       "      <td>свадьба</td>\n",
       "    </tr>\n",
       "    <tr>\n",
       "      <th>17163</th>\n",
       "      <td>0</td>\n",
       "      <td>NaN</td>\n",
       "      <td>21</td>\n",
       "      <td>среднее</td>\n",
       "      <td>1</td>\n",
       "      <td>Не женат / не замужем</td>\n",
       "      <td>4</td>\n",
       "      <td>F</td>\n",
       "      <td>компаньон</td>\n",
       "      <td>1</td>\n",
       "      <td>NaN</td>\n",
       "      <td>на покупку подержанного автомобиля</td>\n",
       "    </tr>\n",
       "    <tr>\n",
       "      <th>16312</th>\n",
       "      <td>0</td>\n",
       "      <td>NaN</td>\n",
       "      <td>21</td>\n",
       "      <td>среднее</td>\n",
       "      <td>1</td>\n",
       "      <td>Не женат / не замужем</td>\n",
       "      <td>4</td>\n",
       "      <td>F</td>\n",
       "      <td>сотрудник</td>\n",
       "      <td>0</td>\n",
       "      <td>NaN</td>\n",
       "      <td>жилье</td>\n",
       "    </tr>\n",
       "    <tr>\n",
       "      <th>1057</th>\n",
       "      <td>0</td>\n",
       "      <td>NaN</td>\n",
       "      <td>21</td>\n",
       "      <td>НЕОКОНЧЕННОЕ ВЫСШЕЕ</td>\n",
       "      <td>2</td>\n",
       "      <td>Не женат / не замужем</td>\n",
       "      <td>4</td>\n",
       "      <td>M</td>\n",
       "      <td>компаньон</td>\n",
       "      <td>0</td>\n",
       "      <td>NaN</td>\n",
       "      <td>операции с недвижимостью</td>\n",
       "    </tr>\n",
       "  </tbody>\n",
       "</table>\n",
       "</div>"
      ],
      "text/plain": [
       "       children  days_employed  dob_years            education  education_id  \\\n",
       "4052          0            NaN         19              среднее             1   \n",
       "18385         0            NaN         21              среднее             1   \n",
       "763           0            NaN         21              среднее             1   \n",
       "11354         0            NaN         21               Высшее             0   \n",
       "10619         0            NaN         21               высшее             0   \n",
       "2606          0            NaN         21              среднее             1   \n",
       "18061         0            NaN         21              среднее             1   \n",
       "17163         0            NaN         21              среднее             1   \n",
       "16312         0            NaN         21              среднее             1   \n",
       "1057          0            NaN         21  НЕОКОНЧЕННОЕ ВЫСШЕЕ             2   \n",
       "\n",
       "               family_status  family_status_id gender income_type  debt  \\\n",
       "4052        гражданский брак                 1      M   сотрудник     0   \n",
       "18385       гражданский брак                 1      F   сотрудник     0   \n",
       "763         гражданский брак                 1      M   компаньон     0   \n",
       "11354       гражданский брак                 1      M   компаньон     0   \n",
       "10619       гражданский брак                 1      M   сотрудник     0   \n",
       "2606   Не женат / не замужем                 4      M   сотрудник     0   \n",
       "18061       гражданский брак                 1      M   сотрудник     0   \n",
       "17163  Не женат / не замужем                 4      F   компаньон     1   \n",
       "16312  Не женат / не замужем                 4      F   сотрудник     0   \n",
       "1057   Не женат / не замужем                 4      M   компаньон     0   \n",
       "\n",
       "       total_income                                purpose  \n",
       "4052            NaN                  на проведение свадьбы  \n",
       "18385           NaN                покупка жилья для сдачи  \n",
       "763             NaN                          покупка жилья  \n",
       "11354           NaN                             автомобили  \n",
       "10619           NaN                        сыграть свадьбу  \n",
       "2606            NaN  операции с коммерческой недвижимостью  \n",
       "18061           NaN                                свадьба  \n",
       "17163           NaN     на покупку подержанного автомобиля  \n",
       "16312           NaN                                  жилье  \n",
       "1057            NaN               операции с недвижимостью  "
      ]
     },
     "metadata": {},
     "output_type": "display_data"
    }
   ],
   "source": [
    "#задаю переменную, в которой назначено логическое условие для среза\n",
    "df_notnull = df.loc[df['days_employed'].isnull() & df['dob_years'] != 0] \n",
    "\n",
    "display(df_notnull.sort_values(by='dob_years').head(10))\n"
   ]
  },
  {
   "cell_type": "markdown",
   "id": "abeee7f3",
   "metadata": {},
   "source": [
    "<div class=\"alert alert-info\">\n",
    "    \n",
    "Социальный статус самого молодого клиента является \"сотрудник\", остальные тоже являются трудоустроенными либо самозанятыми, гипотезу можно опровергнуть. <br>\n",
    "</div>"
   ]
  },
  {
   "cell_type": "markdown",
   "id": "0cc0a648",
   "metadata": {},
   "source": [
    "<div class=\"alert alert-info\">\n",
    "    \n",
    "Проверим есть ли взаимосвязь между пропусками в столбцах days_employed и total_income    \n",
    "</div>"
   ]
  },
  {
   "cell_type": "code",
   "execution_count": 10,
   "id": "741e871c",
   "metadata": {},
   "outputs": [
    {
     "name": "stdout",
     "output_type": "stream",
     "text": [
      "Количество строк, где в days_employed есть пропуски, в total_income нет пропусков: 0\n",
      "Количество строк, где в days_employed есть пропуски, в total_income есть пропуски: 2174\n",
      "Количество строк, где в days_employed нет пропусков, в total_income нет пропусков: 19351\n"
     ]
    }
   ],
   "source": [
    "rows_1 = df['days_employed'].isna() & df['total_income'].notna()\n",
    "rows_2 = df['days_employed'].isna() & df['total_income'].isna()\n",
    "rows_3 = df['days_employed'].notna() & df['total_income'].notna()\n",
    "\n",
    "print('Количество строк, где в days_employed есть пропуски, в total_income нет пропусков:',(df.loc[rows_1]).shape[0])\n",
    "print('Количество строк, где в days_employed есть пропуски, в total_income есть пропуски:',(df.loc[rows_2]).shape[0])\n",
    "print('Количество строк, где в days_employed нет пропусков, в total_income нет пропусков:',(df.loc[rows_3]).shape[0])"
   ]
  },
  {
   "cell_type": "markdown",
   "id": "50558a12",
   "metadata": {},
   "source": [
    "<div class=\"alert alert-info\">\n",
    "    <b> Вывод:</b><br>\n",
    "    \n",
    "В каждой строке если есть пропуски, то они допущены одновременно в обоих колонках. Пропуски образовались скорее всего из за сбоя при выгрузке данных.\n",
    "\n",
    "    \n",
    "Далее заменяю пропуски в количественных данных. Т.к. у некоторых людей трудовой стаж и ежемесячный доход может очень сильно различаться от основной части людей, среднеарифметическое значение может сильно исказиться, поэтому пропущенные значения заменим на медиану и проверим. \n",
    "</div>"
   ]
  },
  {
   "cell_type": "code",
   "execution_count": 11,
   "id": "de87219a",
   "metadata": {},
   "outputs": [
    {
     "name": "stdout",
     "output_type": "stream",
     "text": [
      "<class 'pandas.core.frame.DataFrame'>\n",
      "RangeIndex: 21525 entries, 0 to 21524\n",
      "Data columns (total 12 columns):\n",
      " #   Column            Non-Null Count  Dtype  \n",
      "---  ------            --------------  -----  \n",
      " 0   children          21525 non-null  int64  \n",
      " 1   days_employed     21525 non-null  float64\n",
      " 2   dob_years         21525 non-null  int64  \n",
      " 3   education         21525 non-null  object \n",
      " 4   education_id      21525 non-null  int64  \n",
      " 5   family_status     21525 non-null  object \n",
      " 6   family_status_id  21525 non-null  int64  \n",
      " 7   gender            21525 non-null  object \n",
      " 8   income_type       21525 non-null  object \n",
      " 9   debt              21525 non-null  int64  \n",
      " 10  total_income      21525 non-null  float64\n",
      " 11  purpose           21525 non-null  object \n",
      "dtypes: float64(2), int64(5), object(5)\n",
      "memory usage: 2.0+ MB\n"
     ]
    }
   ],
   "source": [
    "days_employed_median = df['days_employed'].median()\n",
    "total_income_median = df['total_income'].median()\n",
    "\n",
    "df['days_employed'] = df['days_employed'].fillna(days_employed_median)\n",
    "df['total_income'] = df['total_income'].fillna(total_income_median)\n",
    "\n",
    "df.info()"
   ]
  },
  {
   "cell_type": "markdown",
   "id": "ca4c4e7d",
   "metadata": {},
   "source": [
    "### Шаг 2.2 Проверка данных на аномалии и исправления."
   ]
  },
  {
   "cell_type": "markdown",
   "id": "3cbf803c",
   "metadata": {},
   "source": [
    "<div class=\"alert alert-info\">\n",
    "    \n",
    "Сперва посчитаем значения со знаком минус в колонке 'days_employed'\n",
    "</div>"
   ]
  },
  {
   "cell_type": "code",
   "execution_count": 12,
   "id": "d492c6d3",
   "metadata": {},
   "outputs": [
    {
     "name": "stdout",
     "output_type": "stream",
     "text": [
      "days_employed    18080\n",
      "dtype: int64\n"
     ]
    }
   ],
   "source": [
    "print(df.loc[df['days_employed'] < 0, ['days_employed']].count())\n"
   ]
  },
  {
   "cell_type": "markdown",
   "id": "26e889ab",
   "metadata": {},
   "source": [
    "<div class=\"alert alert-info\">\n",
    "    \n",
    "БОльшая часть значений со знаком минус. По-моему мнению это связано с тем, что в форме заполнения есть нечто подобное всплывающего окна с календарем, где многие указывают начало временного отрезка текущую дату, а в конце указывают дату самого первого выхода на работу. Таким образом получаются отрицательные значения. <br>\n",
    "    \n",
    "Исправим:\n",
    "</div> "
   ]
  },
  {
   "cell_type": "code",
   "execution_count": 13,
   "id": "4de5c2e8",
   "metadata": {
    "scrolled": true
   },
   "outputs": [
    {
     "name": "stdout",
     "output_type": "stream",
     "text": [
      "days_employed    0\n",
      "dtype: int64\n"
     ]
    }
   ],
   "source": [
    "df['days_employed'] = abs(df['days_employed'])\n",
    "#проверим:\n",
    "print(df.loc[df['days_employed'] < 0, ['days_employed']].count())"
   ]
  },
  {
   "cell_type": "markdown",
   "id": "200dd5b1",
   "metadata": {},
   "source": [
    "<div class=\"alert alert-info\">\n",
    "    \n",
    "Заодно проверим на отрицательные значения в других колонках:\n",
    "\n",
    "</div> "
   ]
  },
  {
   "cell_type": "code",
   "execution_count": 14,
   "id": "61f7b766",
   "metadata": {},
   "outputs": [
    {
     "name": "stdout",
     "output_type": "stream",
     "text": [
      "В колонке children найдены отрицательные значения\n",
      "\n",
      "В колонке dob_years отрицательные значения отсутствуют\n",
      "\n",
      "В колонке education_id отрицательные значения отсутствуют\n",
      "\n",
      "В колонке family_status_id отрицательные значения отсутствуют\n",
      "\n",
      "В колонке debt отрицательные значения отсутствуют\n",
      "\n",
      "В колонке total_income отрицательные значения отсутствуют\n",
      "\n"
     ]
    }
   ],
   "source": [
    "columns = ['children', 'dob_years', 'education_id', 'family_status_id', 'debt', 'total_income']\n",
    "\n",
    "for column in columns:\n",
    "    column_count = df[df[column] < 0].shape[0]\n",
    "    if column_count > 0:\n",
    "        print ('В колонке', column, 'найдены отрицательные значения')\n",
    "        print()\n",
    "    else:\n",
    "        print ('В колонке', column, 'отрицательные значения отсутствуют')\n",
    "        print()"
   ]
  },
  {
   "cell_type": "markdown",
   "id": "61d16009",
   "metadata": {},
   "source": [
    "<div class=\"alert alert-info\">\n",
    "    \n",
    "В колонке children найдены отрицательные значения.\n",
    "Посмотрим какие есть внутри колонки значения:\n",
    "</div> "
   ]
  },
  {
   "cell_type": "code",
   "execution_count": 15,
   "id": "2456545d",
   "metadata": {},
   "outputs": [
    {
     "name": "stdout",
     "output_type": "stream",
     "text": [
      " 0     14149\n",
      " 1      4818\n",
      " 2      2055\n",
      " 3       330\n",
      " 20       76\n",
      "-1        47\n",
      " 4        41\n",
      " 5         9\n",
      "Name: children, dtype: int64\n"
     ]
    }
   ],
   "source": [
    "print(df['children'].value_counts())"
   ]
  },
  {
   "cell_type": "markdown",
   "id": "4f2e0540",
   "metadata": {},
   "source": [
    "<div class=\"alert alert-info\">\n",
    "    \n",
    "Значения 20 и -1 скорее всего опечатка, т.к. нет других значений в диапазоне от 6 до 19\n",
    "Исправляем:\n",
    "</div> "
   ]
  },
  {
   "cell_type": "code",
   "execution_count": 16,
   "id": "6f294901",
   "metadata": {},
   "outputs": [
    {
     "name": "stdout",
     "output_type": "stream",
     "text": [
      "0    14149\n",
      "1     4865\n",
      "2     2131\n",
      "3      330\n",
      "4       41\n",
      "5        9\n",
      "Name: children, dtype: int64\n"
     ]
    }
   ],
   "source": [
    "df.loc[df['children'] == 20, 'children'] = 2 \n",
    "df.loc[df['children'] == -1, 'children'] = 1\n",
    "print(df['children'].value_counts())"
   ]
  },
  {
   "cell_type": "markdown",
   "id": "057e6b55",
   "metadata": {},
   "source": [
    "<div class=\"alert alert-info\">\n",
    "    \n",
    "Нулевые значения в столбце dob_years заменяем на среднее число возраста сгруппированный по столбцу income_type.<br>\n",
    "Сперва выведем на экран категории работников с пропуском в столбце возраст и их число:\n",
    "</div>"
   ]
  },
  {
   "cell_type": "code",
   "execution_count": 17,
   "id": "078102e8",
   "metadata": {},
   "outputs": [
    {
     "data": {
      "text/plain": [
       "сотрудник      55\n",
       "пенсионер      20\n",
       "компаньон      20\n",
       "госслужащий     6\n",
       "Name: income_type, dtype: int64"
      ]
     },
     "execution_count": 17,
     "metadata": {},
     "output_type": "execute_result"
    }
   ],
   "source": [
    "df[df['dob_years'] == 0]['income_type'].value_counts()"
   ]
  },
  {
   "cell_type": "markdown",
   "id": "04dd6e35",
   "metadata": {},
   "source": [
    "<div class=\"alert alert-info\">\n",
    "    \n",
    "Затем найдем среднее число по этим категориям, которые не равны нулю. Делаем логическую индексацию по двум параметрам, заменим нули и проверим:\n",
    "</div>"
   ]
  },
  {
   "cell_type": "code",
   "execution_count": 18,
   "id": "5822354b",
   "metadata": {},
   "outputs": [
    {
     "data": {
      "text/html": [
       "<div>\n",
       "<style scoped>\n",
       "    .dataframe tbody tr th:only-of-type {\n",
       "        vertical-align: middle;\n",
       "    }\n",
       "\n",
       "    .dataframe tbody tr th {\n",
       "        vertical-align: top;\n",
       "    }\n",
       "\n",
       "    .dataframe thead th {\n",
       "        text-align: right;\n",
       "    }\n",
       "</style>\n",
       "<table border=\"1\" class=\"dataframe\">\n",
       "  <thead>\n",
       "    <tr style=\"text-align: right;\">\n",
       "      <th></th>\n",
       "      <th>children</th>\n",
       "      <th>days_employed</th>\n",
       "      <th>dob_years</th>\n",
       "      <th>education</th>\n",
       "      <th>education_id</th>\n",
       "      <th>family_status</th>\n",
       "      <th>family_status_id</th>\n",
       "      <th>gender</th>\n",
       "      <th>income_type</th>\n",
       "      <th>debt</th>\n",
       "      <th>total_income</th>\n",
       "      <th>purpose</th>\n",
       "    </tr>\n",
       "  </thead>\n",
       "  <tbody>\n",
       "  </tbody>\n",
       "</table>\n",
       "</div>"
      ],
      "text/plain": [
       "Empty DataFrame\n",
       "Columns: [children, days_employed, dob_years, education, education_id, family_status, family_status_id, gender, income_type, debt, total_income, purpose]\n",
       "Index: []"
      ]
     },
     "metadata": {},
     "output_type": "display_data"
    }
   ],
   "source": [
    "worker_age_mean = df.loc[(df['dob_years'] != 0) & (df['income_type'] == 'сотрудник'), 'dob_years'].mean()\n",
    "pensioner_age_mean = df.loc[(df['dob_years'] != 0) & (df['income_type'] == 'пенсионер'), 'dob_years'].mean()\n",
    "companion_age_mean = df.loc[(df['dob_years'] != 0) & (df['income_type'] == 'компаньон'), 'dob_years'].mean()\n",
    "civil_servant_age_mean = df.loc[(df['dob_years'] != 0) & (df['income_type'] == 'госслужащий'), 'dob_years'].mean()\n",
    "\n",
    "df.loc[(df['dob_years'] == 0) & (df['income_type'] == 'сотрудник'),'dob_years'] = worker_age_mean\n",
    "df.loc[(df['dob_years'] == 0) & (df['income_type'] == 'пенсионер'),'dob_years'] = pensioner_age_mean\n",
    "df.loc[(df['dob_years'] == 0) & (df['income_type'] == 'компаньон'),'dob_years'] = companion_age_mean\n",
    "df.loc[(df['dob_years'] == 0) & (df['income_type'] == 'госслужащий'),'dob_years'] = civil_servant_age_mean\n",
    "\n",
    "display(df[df['dob_years'] == 0])"
   ]
  },
  {
   "cell_type": "markdown",
   "id": "237d014d",
   "metadata": {},
   "source": [
    "### Шаг 2.3. Изменение типов данных."
   ]
  },
  {
   "cell_type": "markdown",
   "id": "0c707c6e",
   "metadata": {},
   "source": [
    "<div class=\"alert alert-info\">\n",
    "    \n",
    "Выведем еще раз info датафрейма:\n",
    "</div>"
   ]
  },
  {
   "cell_type": "code",
   "execution_count": 19,
   "id": "71f2b4d6",
   "metadata": {},
   "outputs": [
    {
     "name": "stdout",
     "output_type": "stream",
     "text": [
      "<class 'pandas.core.frame.DataFrame'>\n",
      "RangeIndex: 21525 entries, 0 to 21524\n",
      "Data columns (total 12 columns):\n",
      " #   Column            Non-Null Count  Dtype  \n",
      "---  ------            --------------  -----  \n",
      " 0   children          21525 non-null  int64  \n",
      " 1   days_employed     21525 non-null  float64\n",
      " 2   dob_years         21525 non-null  float64\n",
      " 3   education         21525 non-null  object \n",
      " 4   education_id      21525 non-null  int64  \n",
      " 5   family_status     21525 non-null  object \n",
      " 6   family_status_id  21525 non-null  int64  \n",
      " 7   gender            21525 non-null  object \n",
      " 8   income_type       21525 non-null  object \n",
      " 9   debt              21525 non-null  int64  \n",
      " 10  total_income      21525 non-null  float64\n",
      " 11  purpose           21525 non-null  object \n",
      "dtypes: float64(3), int64(4), object(5)\n",
      "memory usage: 2.0+ MB\n"
     ]
    }
   ],
   "source": [
    "df.info()"
   ]
  },
  {
   "cell_type": "markdown",
   "id": "f0d0ac68",
   "metadata": {},
   "source": [
    "<div class=\"alert alert-info\">\n",
    "    <b> Промежуточный итог:</b><br>\n",
    "\n",
    "* Дробные значения days_employed надо и total_income заменить на целочисленные;<br> \n",
    "* После замены нулей в колонке 'dob_years' значения стали дробными.<br>\n",
    "\n",
    "Исправляем и проверяем:\n",
    "</div>"
   ]
  },
  {
   "cell_type": "code",
   "execution_count": 20,
   "id": "c3526800",
   "metadata": {},
   "outputs": [
    {
     "name": "stdout",
     "output_type": "stream",
     "text": [
      "<class 'pandas.core.frame.DataFrame'>\n",
      "RangeIndex: 21525 entries, 0 to 21524\n",
      "Data columns (total 12 columns):\n",
      " #   Column            Non-Null Count  Dtype \n",
      "---  ------            --------------  ----- \n",
      " 0   children          21525 non-null  int64 \n",
      " 1   days_employed     21525 non-null  int32 \n",
      " 2   dob_years         21525 non-null  int32 \n",
      " 3   education         21525 non-null  object\n",
      " 4   education_id      21525 non-null  int64 \n",
      " 5   family_status     21525 non-null  object\n",
      " 6   family_status_id  21525 non-null  int64 \n",
      " 7   gender            21525 non-null  object\n",
      " 8   income_type       21525 non-null  object\n",
      " 9   debt              21525 non-null  int64 \n",
      " 10  total_income      21525 non-null  int32 \n",
      " 11  purpose           21525 non-null  object\n",
      "dtypes: int32(3), int64(4), object(5)\n",
      "memory usage: 1.7+ MB\n"
     ]
    }
   ],
   "source": [
    "df['days_employed'] = df['days_employed'].astype(int)\n",
    "df['total_income'] = df['total_income'].astype(int)\n",
    "df['dob_years'] = df['dob_years'].astype(int)\n",
    "df.info()"
   ]
  },
  {
   "cell_type": "markdown",
   "id": "1464f671",
   "metadata": {},
   "source": [
    "<div class=\"alert alert-info\">\n",
    "    <b> Комментарий студента</b><br>\n",
    "Выведем на экран:\n",
    "</div> "
   ]
  },
  {
   "cell_type": "code",
   "execution_count": 21,
   "id": "23504674",
   "metadata": {},
   "outputs": [
    {
     "data": {
      "text/html": [
       "<div>\n",
       "<style scoped>\n",
       "    .dataframe tbody tr th:only-of-type {\n",
       "        vertical-align: middle;\n",
       "    }\n",
       "\n",
       "    .dataframe tbody tr th {\n",
       "        vertical-align: top;\n",
       "    }\n",
       "\n",
       "    .dataframe thead th {\n",
       "        text-align: right;\n",
       "    }\n",
       "</style>\n",
       "<table border=\"1\" class=\"dataframe\">\n",
       "  <thead>\n",
       "    <tr style=\"text-align: right;\">\n",
       "      <th></th>\n",
       "      <th>children</th>\n",
       "      <th>days_employed</th>\n",
       "      <th>dob_years</th>\n",
       "      <th>education</th>\n",
       "      <th>education_id</th>\n",
       "      <th>family_status</th>\n",
       "      <th>family_status_id</th>\n",
       "      <th>gender</th>\n",
       "      <th>income_type</th>\n",
       "      <th>debt</th>\n",
       "      <th>total_income</th>\n",
       "      <th>purpose</th>\n",
       "    </tr>\n",
       "  </thead>\n",
       "  <tbody>\n",
       "    <tr>\n",
       "      <th>0</th>\n",
       "      <td>1</td>\n",
       "      <td>8437</td>\n",
       "      <td>42</td>\n",
       "      <td>высшее</td>\n",
       "      <td>0</td>\n",
       "      <td>женат / замужем</td>\n",
       "      <td>0</td>\n",
       "      <td>F</td>\n",
       "      <td>сотрудник</td>\n",
       "      <td>0</td>\n",
       "      <td>253875</td>\n",
       "      <td>покупка жилья</td>\n",
       "    </tr>\n",
       "    <tr>\n",
       "      <th>1</th>\n",
       "      <td>1</td>\n",
       "      <td>4024</td>\n",
       "      <td>36</td>\n",
       "      <td>среднее</td>\n",
       "      <td>1</td>\n",
       "      <td>женат / замужем</td>\n",
       "      <td>0</td>\n",
       "      <td>F</td>\n",
       "      <td>сотрудник</td>\n",
       "      <td>0</td>\n",
       "      <td>112080</td>\n",
       "      <td>приобретение автомобиля</td>\n",
       "    </tr>\n",
       "    <tr>\n",
       "      <th>2</th>\n",
       "      <td>0</td>\n",
       "      <td>5623</td>\n",
       "      <td>33</td>\n",
       "      <td>Среднее</td>\n",
       "      <td>1</td>\n",
       "      <td>женат / замужем</td>\n",
       "      <td>0</td>\n",
       "      <td>M</td>\n",
       "      <td>сотрудник</td>\n",
       "      <td>0</td>\n",
       "      <td>145885</td>\n",
       "      <td>покупка жилья</td>\n",
       "    </tr>\n",
       "    <tr>\n",
       "      <th>3</th>\n",
       "      <td>3</td>\n",
       "      <td>4124</td>\n",
       "      <td>32</td>\n",
       "      <td>среднее</td>\n",
       "      <td>1</td>\n",
       "      <td>женат / замужем</td>\n",
       "      <td>0</td>\n",
       "      <td>M</td>\n",
       "      <td>сотрудник</td>\n",
       "      <td>0</td>\n",
       "      <td>267628</td>\n",
       "      <td>дополнительное образование</td>\n",
       "    </tr>\n",
       "    <tr>\n",
       "      <th>4</th>\n",
       "      <td>0</td>\n",
       "      <td>340266</td>\n",
       "      <td>53</td>\n",
       "      <td>среднее</td>\n",
       "      <td>1</td>\n",
       "      <td>гражданский брак</td>\n",
       "      <td>1</td>\n",
       "      <td>F</td>\n",
       "      <td>пенсионер</td>\n",
       "      <td>0</td>\n",
       "      <td>158616</td>\n",
       "      <td>сыграть свадьбу</td>\n",
       "    </tr>\n",
       "  </tbody>\n",
       "</table>\n",
       "</div>"
      ],
      "text/plain": [
       "   children  days_employed  dob_years education  education_id  \\\n",
       "0         1           8437         42    высшее             0   \n",
       "1         1           4024         36   среднее             1   \n",
       "2         0           5623         33   Среднее             1   \n",
       "3         3           4124         32   среднее             1   \n",
       "4         0         340266         53   среднее             1   \n",
       "\n",
       "      family_status  family_status_id gender income_type  debt  total_income  \\\n",
       "0   женат / замужем                 0      F   сотрудник     0        253875   \n",
       "1   женат / замужем                 0      F   сотрудник     0        112080   \n",
       "2   женат / замужем                 0      M   сотрудник     0        145885   \n",
       "3   женат / замужем                 0      M   сотрудник     0        267628   \n",
       "4  гражданский брак                 1      F   пенсионер     0        158616   \n",
       "\n",
       "                      purpose  \n",
       "0               покупка жилья  \n",
       "1     приобретение автомобиля  \n",
       "2               покупка жилья  \n",
       "3  дополнительное образование  \n",
       "4             сыграть свадьбу  "
      ]
     },
     "metadata": {},
     "output_type": "display_data"
    }
   ],
   "source": [
    "display(df.head())"
   ]
  },
  {
   "cell_type": "markdown",
   "id": "7e37878b",
   "metadata": {},
   "source": [
    "### Шаг 2.4. Удаление дубликатов."
   ]
  },
  {
   "cell_type": "markdown",
   "id": "80c76727",
   "metadata": {},
   "source": [
    "<div class=\"alert alert-info\">\n",
    "Ищем строки-дубликаты:\n",
    "</div> "
   ]
  },
  {
   "cell_type": "code",
   "execution_count": 22,
   "id": "93c95876",
   "metadata": {
    "scrolled": true
   },
   "outputs": [
    {
     "name": "stdout",
     "output_type": "stream",
     "text": [
      "Строк-дубликатов: 54\n"
     ]
    }
   ],
   "source": [
    "print('Строк-дубликатов:', df.duplicated().sum())"
   ]
  },
  {
   "cell_type": "markdown",
   "id": "9ea48cd8",
   "metadata": {},
   "source": [
    "<div class=\"alert alert-info\">\n",
    "\n",
    "Удаляем их:\n",
    "</div> "
   ]
  },
  {
   "cell_type": "code",
   "execution_count": 23,
   "id": "29b4b512",
   "metadata": {},
   "outputs": [
    {
     "name": "stdout",
     "output_type": "stream",
     "text": [
      "Строк-дубликатов: 0\n"
     ]
    }
   ],
   "source": [
    "df = df.drop_duplicates().reset_index(drop=True)\n",
    "print('Строк-дубликатов:', df.duplicated().sum())"
   ]
  },
  {
   "cell_type": "markdown",
   "id": "2e7d06ad",
   "metadata": {},
   "source": [
    "<div class=\"alert alert-info\">\n",
    "Проверим на наличие неявных дубликатов в колонках: education, family_status, income_type(эту колонку по хорошему надо было проверить на этапе замены нулей)\n",
    "</div> "
   ]
  },
  {
   "cell_type": "code",
   "execution_count": 24,
   "id": "16e14499",
   "metadata": {},
   "outputs": [
    {
     "data": {
      "text/plain": [
       "среднее                13705\n",
       "высшее                  4710\n",
       "СРЕДНЕЕ                  772\n",
       "Среднее                  711\n",
       "неоконченное высшее      668\n",
       "ВЫСШЕЕ                   273\n",
       "Высшее                   268\n",
       "начальное                250\n",
       "Неоконченное высшее       47\n",
       "НЕОКОНЧЕННОЕ ВЫСШЕЕ       29\n",
       "НАЧАЛЬНОЕ                 17\n",
       "Начальное                 15\n",
       "ученая степень             4\n",
       "Ученая степень             1\n",
       "УЧЕНАЯ СТЕПЕНЬ             1\n",
       "Name: education, dtype: int64"
      ]
     },
     "metadata": {},
     "output_type": "display_data"
    }
   ],
   "source": [
    "display(df['education'].value_counts())"
   ]
  },
  {
   "cell_type": "code",
   "execution_count": 25,
   "id": "8e518d95",
   "metadata": {},
   "outputs": [
    {
     "data": {
      "text/plain": [
       "женат / замужем          12344\n",
       "гражданский брак          4163\n",
       "Не женат / не замужем     2810\n",
       "в разводе                 1195\n",
       "вдовец / вдова             959\n",
       "Name: family_status, dtype: int64"
      ]
     },
     "metadata": {},
     "output_type": "display_data"
    }
   ],
   "source": [
    "display(df['family_status'].value_counts())"
   ]
  },
  {
   "cell_type": "code",
   "execution_count": 26,
   "id": "7ba83bcd",
   "metadata": {},
   "outputs": [
    {
     "data": {
      "text/plain": [
       "сотрудник          11091\n",
       "компаньон           5080\n",
       "пенсионер           3837\n",
       "госслужащий         1457\n",
       "безработный            2\n",
       "предприниматель        2\n",
       "студент                1\n",
       "в декрете              1\n",
       "Name: income_type, dtype: int64"
      ]
     },
     "metadata": {},
     "output_type": "display_data"
    }
   ],
   "source": [
    "display(df['income_type'].value_counts())"
   ]
  },
  {
   "cell_type": "markdown",
   "id": "a5840c9e",
   "metadata": {},
   "source": [
    "<div class=\"alert alert-info\">\n",
    "    <b> Вывод:</b><br>\n",
    "    \n",
    "\n",
    "* в education есть неявные дубликаты написанные в разном регистре;<br>\n",
    "* в столбце family_status дубликатов нет;<br>\n",
    "* в столбце income_type я бы объединил некоторые значения, но думаю по заданию надо оставить. Будем считать что дубликатов нет;<br> \n",
    "* в столбце purpose дубликатов много, но они нужны для следующего задания, оставим как есть.\n",
    "    \n",
    "применил нижний регистр к значениям в столбце education:\n",
    "</div>"
   ]
  },
  {
   "cell_type": "code",
   "execution_count": 27,
   "id": "360bab44",
   "metadata": {},
   "outputs": [
    {
     "data": {
      "text/plain": [
       "среднее                15188\n",
       "высшее                  5251\n",
       "неоконченное высшее      744\n",
       "начальное                282\n",
       "ученая степень             6\n",
       "Name: education, dtype: int64"
      ]
     },
     "metadata": {},
     "output_type": "display_data"
    }
   ],
   "source": [
    "df['education'] = df['education'].str.lower()\n",
    "display(df['education'].value_counts())"
   ]
  },
  {
   "cell_type": "markdown",
   "id": "38504548",
   "metadata": {},
   "source": [
    "### Шаг 2.5. Формирование дополнительных датафреймов словарей, декомпозиция исходного датафрейма."
   ]
  },
  {
   "cell_type": "markdown",
   "id": "2e60bf38",
   "metadata": {},
   "source": [
    "<div class=\"alert alert-info\">\n",
    "    \n",
    "Создаю дополнительные датафреймы, удаляю строки дубликаты в них, т.к. эти датафремы будут служить в качестве словарей для идентификации значений образование(education) и семейное положение(family_status) по их id:\n",
    "</div>"
   ]
  },
  {
   "cell_type": "code",
   "execution_count": 28,
   "id": "aa94afe7",
   "metadata": {},
   "outputs": [
    {
     "data": {
      "text/html": [
       "<div>\n",
       "<style scoped>\n",
       "    .dataframe tbody tr th:only-of-type {\n",
       "        vertical-align: middle;\n",
       "    }\n",
       "\n",
       "    .dataframe tbody tr th {\n",
       "        vertical-align: top;\n",
       "    }\n",
       "\n",
       "    .dataframe thead th {\n",
       "        text-align: right;\n",
       "    }\n",
       "</style>\n",
       "<table border=\"1\" class=\"dataframe\">\n",
       "  <thead>\n",
       "    <tr style=\"text-align: right;\">\n",
       "      <th></th>\n",
       "      <th>education</th>\n",
       "      <th>education_id</th>\n",
       "    </tr>\n",
       "  </thead>\n",
       "  <tbody>\n",
       "    <tr>\n",
       "      <th>0</th>\n",
       "      <td>высшее</td>\n",
       "      <td>0</td>\n",
       "    </tr>\n",
       "    <tr>\n",
       "      <th>1</th>\n",
       "      <td>среднее</td>\n",
       "      <td>1</td>\n",
       "    </tr>\n",
       "    <tr>\n",
       "      <th>2</th>\n",
       "      <td>неоконченное высшее</td>\n",
       "      <td>2</td>\n",
       "    </tr>\n",
       "    <tr>\n",
       "      <th>3</th>\n",
       "      <td>начальное</td>\n",
       "      <td>3</td>\n",
       "    </tr>\n",
       "    <tr>\n",
       "      <th>4</th>\n",
       "      <td>ученая степень</td>\n",
       "      <td>4</td>\n",
       "    </tr>\n",
       "  </tbody>\n",
       "</table>\n",
       "</div>"
      ],
      "text/plain": [
       "             education  education_id\n",
       "0               высшее             0\n",
       "1              среднее             1\n",
       "2  неоконченное высшее             2\n",
       "3            начальное             3\n",
       "4       ученая степень             4"
      ]
     },
     "metadata": {},
     "output_type": "display_data"
    },
    {
     "data": {
      "text/html": [
       "<div>\n",
       "<style scoped>\n",
       "    .dataframe tbody tr th:only-of-type {\n",
       "        vertical-align: middle;\n",
       "    }\n",
       "\n",
       "    .dataframe tbody tr th {\n",
       "        vertical-align: top;\n",
       "    }\n",
       "\n",
       "    .dataframe thead th {\n",
       "        text-align: right;\n",
       "    }\n",
       "</style>\n",
       "<table border=\"1\" class=\"dataframe\">\n",
       "  <thead>\n",
       "    <tr style=\"text-align: right;\">\n",
       "      <th></th>\n",
       "      <th>family_status</th>\n",
       "      <th>family_status_id</th>\n",
       "    </tr>\n",
       "  </thead>\n",
       "  <tbody>\n",
       "    <tr>\n",
       "      <th>0</th>\n",
       "      <td>женат / замужем</td>\n",
       "      <td>0</td>\n",
       "    </tr>\n",
       "    <tr>\n",
       "      <th>1</th>\n",
       "      <td>гражданский брак</td>\n",
       "      <td>1</td>\n",
       "    </tr>\n",
       "    <tr>\n",
       "      <th>2</th>\n",
       "      <td>вдовец / вдова</td>\n",
       "      <td>2</td>\n",
       "    </tr>\n",
       "    <tr>\n",
       "      <th>3</th>\n",
       "      <td>в разводе</td>\n",
       "      <td>3</td>\n",
       "    </tr>\n",
       "    <tr>\n",
       "      <th>4</th>\n",
       "      <td>Не женат / не замужем</td>\n",
       "      <td>4</td>\n",
       "    </tr>\n",
       "  </tbody>\n",
       "</table>\n",
       "</div>"
      ],
      "text/plain": [
       "           family_status  family_status_id\n",
       "0        женат / замужем                 0\n",
       "1       гражданский брак                 1\n",
       "2         вдовец / вдова                 2\n",
       "3              в разводе                 3\n",
       "4  Не женат / не замужем                 4"
      ]
     },
     "metadata": {},
     "output_type": "display_data"
    }
   ],
   "source": [
    "education = df[['education', 'education_id']].drop_duplicates().reset_index(drop=True)\n",
    "family_status = df[['family_status', 'family_status_id']].drop_duplicates().reset_index(drop=True)\n",
    "\n",
    "display(education)\n",
    "display(family_status)"
   ]
  },
  {
   "cell_type": "markdown",
   "id": "7ba40567",
   "metadata": {},
   "source": [
    "<div class=\"alert alert-info\">\n",
    "    \n",
    "Удаляю столбцы в датафрейме df education и family_status и проверяю:\n",
    "</div>"
   ]
  },
  {
   "cell_type": "code",
   "execution_count": 29,
   "id": "60c2d4cf",
   "metadata": {},
   "outputs": [
    {
     "name": "stdout",
     "output_type": "stream",
     "text": [
      "<class 'pandas.core.frame.DataFrame'>\n",
      "RangeIndex: 21471 entries, 0 to 21470\n",
      "Data columns (total 10 columns):\n",
      " #   Column            Non-Null Count  Dtype \n",
      "---  ------            --------------  ----- \n",
      " 0   children          21471 non-null  int64 \n",
      " 1   days_employed     21471 non-null  int32 \n",
      " 2   dob_years         21471 non-null  int32 \n",
      " 3   education_id      21471 non-null  int64 \n",
      " 4   family_status_id  21471 non-null  int64 \n",
      " 5   gender            21471 non-null  object\n",
      " 6   income_type       21471 non-null  object\n",
      " 7   debt              21471 non-null  int64 \n",
      " 8   total_income      21471 non-null  int32 \n",
      " 9   purpose           21471 non-null  object\n",
      "dtypes: int32(3), int64(4), object(3)\n",
      "memory usage: 1.4+ MB\n"
     ]
    },
    {
     "data": {
      "text/plain": [
       "None"
      ]
     },
     "metadata": {},
     "output_type": "display_data"
    }
   ],
   "source": [
    "columns = ['children', 'days_employed', 'dob_years', 'education_id', 'family_status_id', 'gender', 'income_type', 'debt', 'total_income', 'purpose']\n",
    "df = df.loc[:, columns]\n",
    "display(df.info())"
   ]
  },
  {
   "cell_type": "markdown",
   "id": "d32c2b5d",
   "metadata": {},
   "source": [
    "### Шаг 2.6. Категоризация дохода."
   ]
  },
  {
   "cell_type": "markdown",
   "id": "c0b49c7c",
   "metadata": {},
   "source": [
    "<div class=\"alert alert-info\">\n",
    "    \n",
    "Создаю новый столбец total_income_category с категориями по количеству дохода. Для этого сперва напишу функцию, присвою ей значения из столбца total_income и выведу на экран:\n",
    "</div>"
   ]
  },
  {
   "cell_type": "code",
   "execution_count": 30,
   "id": "4d6e852f",
   "metadata": {},
   "outputs": [
    {
     "data": {
      "text/html": [
       "<div>\n",
       "<style scoped>\n",
       "    .dataframe tbody tr th:only-of-type {\n",
       "        vertical-align: middle;\n",
       "    }\n",
       "\n",
       "    .dataframe tbody tr th {\n",
       "        vertical-align: top;\n",
       "    }\n",
       "\n",
       "    .dataframe thead th {\n",
       "        text-align: right;\n",
       "    }\n",
       "</style>\n",
       "<table border=\"1\" class=\"dataframe\">\n",
       "  <thead>\n",
       "    <tr style=\"text-align: right;\">\n",
       "      <th></th>\n",
       "      <th>children</th>\n",
       "      <th>days_employed</th>\n",
       "      <th>dob_years</th>\n",
       "      <th>education_id</th>\n",
       "      <th>family_status_id</th>\n",
       "      <th>gender</th>\n",
       "      <th>income_type</th>\n",
       "      <th>debt</th>\n",
       "      <th>total_income</th>\n",
       "      <th>purpose</th>\n",
       "      <th>total_income_category</th>\n",
       "    </tr>\n",
       "  </thead>\n",
       "  <tbody>\n",
       "    <tr>\n",
       "      <th>0</th>\n",
       "      <td>1</td>\n",
       "      <td>8437</td>\n",
       "      <td>42</td>\n",
       "      <td>0</td>\n",
       "      <td>0</td>\n",
       "      <td>F</td>\n",
       "      <td>сотрудник</td>\n",
       "      <td>0</td>\n",
       "      <td>253875</td>\n",
       "      <td>покупка жилья</td>\n",
       "      <td>B</td>\n",
       "    </tr>\n",
       "    <tr>\n",
       "      <th>1</th>\n",
       "      <td>1</td>\n",
       "      <td>4024</td>\n",
       "      <td>36</td>\n",
       "      <td>1</td>\n",
       "      <td>0</td>\n",
       "      <td>F</td>\n",
       "      <td>сотрудник</td>\n",
       "      <td>0</td>\n",
       "      <td>112080</td>\n",
       "      <td>приобретение автомобиля</td>\n",
       "      <td>C</td>\n",
       "    </tr>\n",
       "    <tr>\n",
       "      <th>2</th>\n",
       "      <td>0</td>\n",
       "      <td>5623</td>\n",
       "      <td>33</td>\n",
       "      <td>1</td>\n",
       "      <td>0</td>\n",
       "      <td>M</td>\n",
       "      <td>сотрудник</td>\n",
       "      <td>0</td>\n",
       "      <td>145885</td>\n",
       "      <td>покупка жилья</td>\n",
       "      <td>C</td>\n",
       "    </tr>\n",
       "    <tr>\n",
       "      <th>3</th>\n",
       "      <td>3</td>\n",
       "      <td>4124</td>\n",
       "      <td>32</td>\n",
       "      <td>1</td>\n",
       "      <td>0</td>\n",
       "      <td>M</td>\n",
       "      <td>сотрудник</td>\n",
       "      <td>0</td>\n",
       "      <td>267628</td>\n",
       "      <td>дополнительное образование</td>\n",
       "      <td>B</td>\n",
       "    </tr>\n",
       "    <tr>\n",
       "      <th>4</th>\n",
       "      <td>0</td>\n",
       "      <td>340266</td>\n",
       "      <td>53</td>\n",
       "      <td>1</td>\n",
       "      <td>1</td>\n",
       "      <td>F</td>\n",
       "      <td>пенсионер</td>\n",
       "      <td>0</td>\n",
       "      <td>158616</td>\n",
       "      <td>сыграть свадьбу</td>\n",
       "      <td>C</td>\n",
       "    </tr>\n",
       "  </tbody>\n",
       "</table>\n",
       "</div>"
      ],
      "text/plain": [
       "   children  days_employed  dob_years  education_id  family_status_id gender  \\\n",
       "0         1           8437         42             0                 0      F   \n",
       "1         1           4024         36             1                 0      F   \n",
       "2         0           5623         33             1                 0      M   \n",
       "3         3           4124         32             1                 0      M   \n",
       "4         0         340266         53             1                 1      F   \n",
       "\n",
       "  income_type  debt  total_income                     purpose  \\\n",
       "0   сотрудник     0        253875               покупка жилья   \n",
       "1   сотрудник     0        112080     приобретение автомобиля   \n",
       "2   сотрудник     0        145885               покупка жилья   \n",
       "3   сотрудник     0        267628  дополнительное образование   \n",
       "4   пенсионер     0        158616             сыграть свадьбу   \n",
       "\n",
       "  total_income_category  \n",
       "0                     B  \n",
       "1                     C  \n",
       "2                     C  \n",
       "3                     B  \n",
       "4                     C  "
      ]
     },
     "execution_count": 30,
     "metadata": {},
     "output_type": "execute_result"
    }
   ],
   "source": [
    "def total_income_category(total_income):\n",
    "    if total_income <= 30000:\n",
    "        return 'E'\n",
    "    if 30001 <= total_income <= 50000:\n",
    "        return 'D'\n",
    "    if 50001 <= total_income <= 200000:\n",
    "        return 'C'\n",
    "    if 200001 <= total_income <= 1000000:\n",
    "        return 'B'\n",
    "    return 'A'\n",
    "df['total_income_category'] = df['total_income'].apply(total_income_category)\n",
    "df.head()"
   ]
  },
  {
   "cell_type": "markdown",
   "id": "3c3fa5f5",
   "metadata": {},
   "source": [
    "### Шаг 2.7. Категоризация целей кредита."
   ]
  },
  {
   "cell_type": "markdown",
   "id": "8738a392",
   "metadata": {},
   "source": [
    "<div class=\"alert alert-info\">\n",
    "    \n",
    "Выведем на экран значения столбца purpose:\n",
    "</div>"
   ]
  },
  {
   "cell_type": "code",
   "execution_count": 31,
   "id": "1ea51e9f",
   "metadata": {
    "scrolled": false
   },
   "outputs": [
    {
     "data": {
      "text/plain": [
       "свадьба                                   793\n",
       "на проведение свадьбы                     773\n",
       "сыграть свадьбу                           769\n",
       "операции с недвижимостью                  675\n",
       "покупка коммерческой недвижимости         662\n",
       "покупка жилья для сдачи                   652\n",
       "операции с жильем                         652\n",
       "операции с коммерческой недвижимостью     650\n",
       "покупка жилья                             646\n",
       "жилье                                     646\n",
       "покупка жилья для семьи                   638\n",
       "строительство собственной недвижимости    635\n",
       "недвижимость                              633\n",
       "операции со своей недвижимостью           627\n",
       "строительство жилой недвижимости          625\n",
       "покупка недвижимости                      621\n",
       "покупка своего жилья                      620\n",
       "строительство недвижимости                619\n",
       "ремонт жилью                              607\n",
       "покупка жилой недвижимости                606\n",
       "на покупку своего автомобиля              505\n",
       "заняться высшим образованием              496\n",
       "автомобиль                                494\n",
       "сделка с подержанным автомобилем          486\n",
       "свой автомобиль                           479\n",
       "на покупку подержанного автомобиля        478\n",
       "автомобили                                478\n",
       "на покупку автомобиля                     472\n",
       "приобретение автомобиля                   461\n",
       "дополнительное образование                460\n",
       "сделка с автомобилем                      455\n",
       "высшее образование                        452\n",
       "образование                               447\n",
       "получение дополнительного образования     447\n",
       "получение образования                     442\n",
       "профильное образование                    436\n",
       "получение высшего образования             426\n",
       "заняться образованием                     408\n",
       "Name: purpose, dtype: int64"
      ]
     },
     "metadata": {},
     "output_type": "display_data"
    }
   ],
   "source": [
    "display(df['purpose'].value_counts())"
   ]
  },
  {
   "cell_type": "code",
   "execution_count": 32,
   "id": "21704914",
   "metadata": {},
   "outputs": [
    {
     "data": {
      "text/html": [
       "<div>\n",
       "<style scoped>\n",
       "    .dataframe tbody tr th:only-of-type {\n",
       "        vertical-align: middle;\n",
       "    }\n",
       "\n",
       "    .dataframe tbody tr th {\n",
       "        vertical-align: top;\n",
       "    }\n",
       "\n",
       "    .dataframe thead th {\n",
       "        text-align: right;\n",
       "    }\n",
       "</style>\n",
       "<table border=\"1\" class=\"dataframe\">\n",
       "  <thead>\n",
       "    <tr style=\"text-align: right;\">\n",
       "      <th></th>\n",
       "      <th>children</th>\n",
       "      <th>days_employed</th>\n",
       "      <th>dob_years</th>\n",
       "      <th>education_id</th>\n",
       "      <th>family_status_id</th>\n",
       "      <th>gender</th>\n",
       "      <th>income_type</th>\n",
       "      <th>debt</th>\n",
       "      <th>total_income</th>\n",
       "      <th>purpose</th>\n",
       "      <th>total_income_category</th>\n",
       "      <th>purpose_category</th>\n",
       "    </tr>\n",
       "  </thead>\n",
       "  <tbody>\n",
       "    <tr>\n",
       "      <th>21456</th>\n",
       "      <td>2</td>\n",
       "      <td>1203</td>\n",
       "      <td>28</td>\n",
       "      <td>1</td>\n",
       "      <td>0</td>\n",
       "      <td>F</td>\n",
       "      <td>сотрудник</td>\n",
       "      <td>0</td>\n",
       "      <td>145017</td>\n",
       "      <td>приобретение автомобиля</td>\n",
       "      <td>C</td>\n",
       "      <td>операции с автомобилем</td>\n",
       "    </tr>\n",
       "    <tr>\n",
       "      <th>21457</th>\n",
       "      <td>0</td>\n",
       "      <td>612</td>\n",
       "      <td>29</td>\n",
       "      <td>0</td>\n",
       "      <td>1</td>\n",
       "      <td>F</td>\n",
       "      <td>сотрудник</td>\n",
       "      <td>1</td>\n",
       "      <td>140068</td>\n",
       "      <td>покупка жилья для сдачи</td>\n",
       "      <td>C</td>\n",
       "      <td>операции с недвижимостью</td>\n",
       "    </tr>\n",
       "    <tr>\n",
       "      <th>21458</th>\n",
       "      <td>0</td>\n",
       "      <td>165</td>\n",
       "      <td>26</td>\n",
       "      <td>0</td>\n",
       "      <td>4</td>\n",
       "      <td>M</td>\n",
       "      <td>компаньон</td>\n",
       "      <td>0</td>\n",
       "      <td>147301</td>\n",
       "      <td>получение дополнительного образования</td>\n",
       "      <td>C</td>\n",
       "      <td>получение образования</td>\n",
       "    </tr>\n",
       "    <tr>\n",
       "      <th>21459</th>\n",
       "      <td>0</td>\n",
       "      <td>1166</td>\n",
       "      <td>35</td>\n",
       "      <td>1</td>\n",
       "      <td>0</td>\n",
       "      <td>F</td>\n",
       "      <td>сотрудник</td>\n",
       "      <td>0</td>\n",
       "      <td>250986</td>\n",
       "      <td>покупка жилья</td>\n",
       "      <td>B</td>\n",
       "      <td>операции с недвижимостью</td>\n",
       "    </tr>\n",
       "    <tr>\n",
       "      <th>21460</th>\n",
       "      <td>0</td>\n",
       "      <td>280</td>\n",
       "      <td>27</td>\n",
       "      <td>2</td>\n",
       "      <td>4</td>\n",
       "      <td>M</td>\n",
       "      <td>компаньон</td>\n",
       "      <td>0</td>\n",
       "      <td>355988</td>\n",
       "      <td>строительство недвижимости</td>\n",
       "      <td>B</td>\n",
       "      <td>операции с недвижимостью</td>\n",
       "    </tr>\n",
       "    <tr>\n",
       "      <th>21461</th>\n",
       "      <td>1</td>\n",
       "      <td>467</td>\n",
       "      <td>28</td>\n",
       "      <td>1</td>\n",
       "      <td>0</td>\n",
       "      <td>F</td>\n",
       "      <td>сотрудник</td>\n",
       "      <td>1</td>\n",
       "      <td>109486</td>\n",
       "      <td>заняться образованием</td>\n",
       "      <td>C</td>\n",
       "      <td>получение образования</td>\n",
       "    </tr>\n",
       "    <tr>\n",
       "      <th>21462</th>\n",
       "      <td>0</td>\n",
       "      <td>914</td>\n",
       "      <td>42</td>\n",
       "      <td>0</td>\n",
       "      <td>0</td>\n",
       "      <td>F</td>\n",
       "      <td>компаньон</td>\n",
       "      <td>0</td>\n",
       "      <td>322807</td>\n",
       "      <td>покупка своего жилья</td>\n",
       "      <td>B</td>\n",
       "      <td>операции с недвижимостью</td>\n",
       "    </tr>\n",
       "    <tr>\n",
       "      <th>21463</th>\n",
       "      <td>0</td>\n",
       "      <td>404</td>\n",
       "      <td>42</td>\n",
       "      <td>0</td>\n",
       "      <td>1</td>\n",
       "      <td>F</td>\n",
       "      <td>компаньон</td>\n",
       "      <td>0</td>\n",
       "      <td>178059</td>\n",
       "      <td>на покупку своего автомобиля</td>\n",
       "      <td>C</td>\n",
       "      <td>операции с автомобилем</td>\n",
       "    </tr>\n",
       "    <tr>\n",
       "      <th>21464</th>\n",
       "      <td>0</td>\n",
       "      <td>373995</td>\n",
       "      <td>59</td>\n",
       "      <td>1</td>\n",
       "      <td>0</td>\n",
       "      <td>F</td>\n",
       "      <td>пенсионер</td>\n",
       "      <td>0</td>\n",
       "      <td>153864</td>\n",
       "      <td>сделка с автомобилем</td>\n",
       "      <td>C</td>\n",
       "      <td>операции с автомобилем</td>\n",
       "    </tr>\n",
       "    <tr>\n",
       "      <th>21465</th>\n",
       "      <td>1</td>\n",
       "      <td>2351</td>\n",
       "      <td>37</td>\n",
       "      <td>4</td>\n",
       "      <td>3</td>\n",
       "      <td>M</td>\n",
       "      <td>сотрудник</td>\n",
       "      <td>0</td>\n",
       "      <td>115949</td>\n",
       "      <td>покупка коммерческой недвижимости</td>\n",
       "      <td>C</td>\n",
       "      <td>операции с недвижимостью</td>\n",
       "    </tr>\n",
       "    <tr>\n",
       "      <th>21466</th>\n",
       "      <td>1</td>\n",
       "      <td>4529</td>\n",
       "      <td>43</td>\n",
       "      <td>1</td>\n",
       "      <td>1</td>\n",
       "      <td>F</td>\n",
       "      <td>компаньон</td>\n",
       "      <td>0</td>\n",
       "      <td>224791</td>\n",
       "      <td>операции с жильем</td>\n",
       "      <td>B</td>\n",
       "      <td>операции с недвижимостью</td>\n",
       "    </tr>\n",
       "    <tr>\n",
       "      <th>21467</th>\n",
       "      <td>0</td>\n",
       "      <td>343937</td>\n",
       "      <td>67</td>\n",
       "      <td>1</td>\n",
       "      <td>0</td>\n",
       "      <td>F</td>\n",
       "      <td>пенсионер</td>\n",
       "      <td>0</td>\n",
       "      <td>155999</td>\n",
       "      <td>сделка с автомобилем</td>\n",
       "      <td>C</td>\n",
       "      <td>операции с автомобилем</td>\n",
       "    </tr>\n",
       "    <tr>\n",
       "      <th>21468</th>\n",
       "      <td>1</td>\n",
       "      <td>2113</td>\n",
       "      <td>38</td>\n",
       "      <td>1</td>\n",
       "      <td>1</td>\n",
       "      <td>M</td>\n",
       "      <td>сотрудник</td>\n",
       "      <td>1</td>\n",
       "      <td>89672</td>\n",
       "      <td>недвижимость</td>\n",
       "      <td>C</td>\n",
       "      <td>операции с недвижимостью</td>\n",
       "    </tr>\n",
       "    <tr>\n",
       "      <th>21469</th>\n",
       "      <td>3</td>\n",
       "      <td>3112</td>\n",
       "      <td>38</td>\n",
       "      <td>1</td>\n",
       "      <td>0</td>\n",
       "      <td>M</td>\n",
       "      <td>сотрудник</td>\n",
       "      <td>1</td>\n",
       "      <td>244093</td>\n",
       "      <td>на покупку своего автомобиля</td>\n",
       "      <td>B</td>\n",
       "      <td>операции с автомобилем</td>\n",
       "    </tr>\n",
       "    <tr>\n",
       "      <th>21470</th>\n",
       "      <td>2</td>\n",
       "      <td>1984</td>\n",
       "      <td>40</td>\n",
       "      <td>1</td>\n",
       "      <td>0</td>\n",
       "      <td>F</td>\n",
       "      <td>сотрудник</td>\n",
       "      <td>0</td>\n",
       "      <td>82047</td>\n",
       "      <td>на покупку автомобиля</td>\n",
       "      <td>C</td>\n",
       "      <td>операции с автомобилем</td>\n",
       "    </tr>\n",
       "  </tbody>\n",
       "</table>\n",
       "</div>"
      ],
      "text/plain": [
       "       children  days_employed  dob_years  education_id  family_status_id  \\\n",
       "21456         2           1203         28             1                 0   \n",
       "21457         0            612         29             0                 1   \n",
       "21458         0            165         26             0                 4   \n",
       "21459         0           1166         35             1                 0   \n",
       "21460         0            280         27             2                 4   \n",
       "21461         1            467         28             1                 0   \n",
       "21462         0            914         42             0                 0   \n",
       "21463         0            404         42             0                 1   \n",
       "21464         0         373995         59             1                 0   \n",
       "21465         1           2351         37             4                 3   \n",
       "21466         1           4529         43             1                 1   \n",
       "21467         0         343937         67             1                 0   \n",
       "21468         1           2113         38             1                 1   \n",
       "21469         3           3112         38             1                 0   \n",
       "21470         2           1984         40             1                 0   \n",
       "\n",
       "      gender income_type  debt  total_income  \\\n",
       "21456      F   сотрудник     0        145017   \n",
       "21457      F   сотрудник     1        140068   \n",
       "21458      M   компаньон     0        147301   \n",
       "21459      F   сотрудник     0        250986   \n",
       "21460      M   компаньон     0        355988   \n",
       "21461      F   сотрудник     1        109486   \n",
       "21462      F   компаньон     0        322807   \n",
       "21463      F   компаньон     0        178059   \n",
       "21464      F   пенсионер     0        153864   \n",
       "21465      M   сотрудник     0        115949   \n",
       "21466      F   компаньон     0        224791   \n",
       "21467      F   пенсионер     0        155999   \n",
       "21468      M   сотрудник     1         89672   \n",
       "21469      M   сотрудник     1        244093   \n",
       "21470      F   сотрудник     0         82047   \n",
       "\n",
       "                                     purpose total_income_category  \\\n",
       "21456                приобретение автомобиля                     C   \n",
       "21457                покупка жилья для сдачи                     C   \n",
       "21458  получение дополнительного образования                     C   \n",
       "21459                          покупка жилья                     B   \n",
       "21460             строительство недвижимости                     B   \n",
       "21461                  заняться образованием                     C   \n",
       "21462                   покупка своего жилья                     B   \n",
       "21463           на покупку своего автомобиля                     C   \n",
       "21464                   сделка с автомобилем                     C   \n",
       "21465      покупка коммерческой недвижимости                     C   \n",
       "21466                      операции с жильем                     B   \n",
       "21467                   сделка с автомобилем                     C   \n",
       "21468                           недвижимость                     C   \n",
       "21469           на покупку своего автомобиля                     B   \n",
       "21470                  на покупку автомобиля                     C   \n",
       "\n",
       "               purpose_category  \n",
       "21456    операции с автомобилем  \n",
       "21457  операции с недвижимостью  \n",
       "21458     получение образования  \n",
       "21459  операции с недвижимостью  \n",
       "21460  операции с недвижимостью  \n",
       "21461     получение образования  \n",
       "21462  операции с недвижимостью  \n",
       "21463    операции с автомобилем  \n",
       "21464    операции с автомобилем  \n",
       "21465  операции с недвижимостью  \n",
       "21466  операции с недвижимостью  \n",
       "21467    операции с автомобилем  \n",
       "21468  операции с недвижимостью  \n",
       "21469    операции с автомобилем  \n",
       "21470    операции с автомобилем  "
      ]
     },
     "metadata": {},
     "output_type": "display_data"
    }
   ],
   "source": [
    "def purpose_category(purpose):\n",
    "    if 'авто' in purpose:\n",
    "        return 'операции с автомобилем'\n",
    "    if 'недвижим' in purpose:\n",
    "        return 'операции с недвижимостью'\n",
    "    if 'жиль' in purpose:\n",
    "        return 'операции с недвижимостью'\n",
    "    if 'свадьб' in purpose:\n",
    "        return 'проведение свадьбы'\n",
    "    return 'получение образования'\n",
    "df['purpose_category'] = df['purpose'].apply(purpose_category)\n",
    "display(df.tail(15))    \n"
   ]
  },
  {
   "cell_type": "markdown",
   "id": "588c0c9a",
   "metadata": {},
   "source": [
    "### Ответы на вопросы."
   ]
  },
  {
   "cell_type": "markdown",
   "id": "907a8572",
   "metadata": {},
   "source": [
    "##### Вопрос 1 \"Есть ли зависимость между количеством детей и возвратом кредита в срок?\":"
   ]
  },
  {
   "cell_type": "code",
   "execution_count": 33,
   "id": "717d17e7",
   "metadata": {},
   "outputs": [
    {
     "data": {
      "text/html": [
       "<div>\n",
       "<style scoped>\n",
       "    .dataframe tbody tr th:only-of-type {\n",
       "        vertical-align: middle;\n",
       "    }\n",
       "\n",
       "    .dataframe tbody tr th {\n",
       "        vertical-align: top;\n",
       "    }\n",
       "\n",
       "    .dataframe thead th {\n",
       "        text-align: right;\n",
       "    }\n",
       "</style>\n",
       "<table border=\"1\" class=\"dataframe\">\n",
       "  <thead>\n",
       "    <tr style=\"text-align: right;\">\n",
       "      <th></th>\n",
       "      <th>всего клиентов</th>\n",
       "      <th>должников</th>\n",
       "      <th>доля должников</th>\n",
       "    </tr>\n",
       "    <tr>\n",
       "      <th>children</th>\n",
       "      <th></th>\n",
       "      <th></th>\n",
       "      <th></th>\n",
       "    </tr>\n",
       "  </thead>\n",
       "  <tbody>\n",
       "    <tr>\n",
       "      <th>5</th>\n",
       "      <td>9</td>\n",
       "      <td>0</td>\n",
       "      <td>0.000000</td>\n",
       "    </tr>\n",
       "    <tr>\n",
       "      <th>0</th>\n",
       "      <td>14107</td>\n",
       "      <td>1063</td>\n",
       "      <td>0.075353</td>\n",
       "    </tr>\n",
       "    <tr>\n",
       "      <th>3</th>\n",
       "      <td>330</td>\n",
       "      <td>27</td>\n",
       "      <td>0.081818</td>\n",
       "    </tr>\n",
       "    <tr>\n",
       "      <th>1</th>\n",
       "      <td>4856</td>\n",
       "      <td>445</td>\n",
       "      <td>0.091639</td>\n",
       "    </tr>\n",
       "    <tr>\n",
       "      <th>2</th>\n",
       "      <td>2128</td>\n",
       "      <td>202</td>\n",
       "      <td>0.094925</td>\n",
       "    </tr>\n",
       "    <tr>\n",
       "      <th>4</th>\n",
       "      <td>41</td>\n",
       "      <td>4</td>\n",
       "      <td>0.097561</td>\n",
       "    </tr>\n",
       "  </tbody>\n",
       "</table>\n",
       "</div>"
      ],
      "text/plain": [
       "          всего клиентов  должников  доля должников\n",
       "children                                           \n",
       "5                      9          0        0.000000\n",
       "0                  14107       1063        0.075353\n",
       "3                    330         27        0.081818\n",
       "1                   4856        445        0.091639\n",
       "2                   2128        202        0.094925\n",
       "4                     41          4        0.097561"
      ]
     },
     "execution_count": 33,
     "metadata": {},
     "output_type": "execute_result"
    }
   ],
   "source": [
    "def debt_range(debt):\n",
    "    return sum(debt)/len(debt)\n",
    "\n",
    "df_children_pivot = df.pivot_table(\n",
    "    index='children', \n",
    "    values='debt', \n",
    "    aggfunc=['count', 'sum', debt_range]\n",
    ")\n",
    "df_children_pivot.columns = ['всего клиентов', 'должников', 'доля должников']\n",
    "df_children_pivot.sort_values('доля должников')"
   ]
  },
  {
   "cell_type": "markdown",
   "id": "d817a585",
   "metadata": {},
   "source": [
    "<div class=\"alert alert-info\">\n",
    "    <b> Комментарий студента</b><br>\n",
    "    \n",
    "После подсчета доли клиентов с просрочками видно что взаимосвязь есть. Клиенты с 5 детьми хоть и не имеют просрочек, но их общее количество не позволяет объективно оценить ситуацию.\n",
    "</div>"
   ]
  },
  {
   "cell_type": "markdown",
   "id": "03c9b9f8",
   "metadata": {},
   "source": [
    "##### Вопрос2 \"Есть ли зависимость между семейным положением и возвратом кредита в срок?\":"
   ]
  },
  {
   "cell_type": "code",
   "execution_count": 34,
   "id": "1f23b9bb",
   "metadata": {},
   "outputs": [
    {
     "data": {
      "text/html": [
       "<div>\n",
       "<style scoped>\n",
       "    .dataframe tbody tr th:only-of-type {\n",
       "        vertical-align: middle;\n",
       "    }\n",
       "\n",
       "    .dataframe tbody tr th {\n",
       "        vertical-align: top;\n",
       "    }\n",
       "\n",
       "    .dataframe thead th {\n",
       "        text-align: right;\n",
       "    }\n",
       "</style>\n",
       "<table border=\"1\" class=\"dataframe\">\n",
       "  <thead>\n",
       "    <tr style=\"text-align: right;\">\n",
       "      <th></th>\n",
       "      <th>family_status_id</th>\n",
       "      <th>всего клиентов</th>\n",
       "      <th>должников</th>\n",
       "      <th>доля должников</th>\n",
       "      <th>family_status</th>\n",
       "    </tr>\n",
       "  </thead>\n",
       "  <tbody>\n",
       "    <tr>\n",
       "      <th>2</th>\n",
       "      <td>2</td>\n",
       "      <td>959</td>\n",
       "      <td>63</td>\n",
       "      <td>0.065693</td>\n",
       "      <td>вдовец / вдова</td>\n",
       "    </tr>\n",
       "    <tr>\n",
       "      <th>3</th>\n",
       "      <td>3</td>\n",
       "      <td>1195</td>\n",
       "      <td>85</td>\n",
       "      <td>0.071130</td>\n",
       "      <td>в разводе</td>\n",
       "    </tr>\n",
       "    <tr>\n",
       "      <th>0</th>\n",
       "      <td>0</td>\n",
       "      <td>12344</td>\n",
       "      <td>931</td>\n",
       "      <td>0.075421</td>\n",
       "      <td>женат / замужем</td>\n",
       "    </tr>\n",
       "    <tr>\n",
       "      <th>1</th>\n",
       "      <td>1</td>\n",
       "      <td>4163</td>\n",
       "      <td>388</td>\n",
       "      <td>0.093202</td>\n",
       "      <td>гражданский брак</td>\n",
       "    </tr>\n",
       "    <tr>\n",
       "      <th>4</th>\n",
       "      <td>4</td>\n",
       "      <td>2810</td>\n",
       "      <td>274</td>\n",
       "      <td>0.097509</td>\n",
       "      <td>Не женат / не замужем</td>\n",
       "    </tr>\n",
       "  </tbody>\n",
       "</table>\n",
       "</div>"
      ],
      "text/plain": [
       "   family_status_id  всего клиентов  должников  доля должников  \\\n",
       "2                 2             959         63        0.065693   \n",
       "3                 3            1195         85        0.071130   \n",
       "0                 0           12344        931        0.075421   \n",
       "1                 1            4163        388        0.093202   \n",
       "4                 4            2810        274        0.097509   \n",
       "\n",
       "           family_status  \n",
       "2         вдовец / вдова  \n",
       "3              в разводе  \n",
       "0        женат / замужем  \n",
       "1       гражданский брак  \n",
       "4  Не женат / не замужем  "
      ]
     },
     "execution_count": 34,
     "metadata": {},
     "output_type": "execute_result"
    }
   ],
   "source": [
    "df_family_status_pivot = df.pivot_table(\n",
    "    index='family_status_id', \n",
    "    values='debt', \n",
    "    aggfunc=['count', 'sum', debt_range]\n",
    ")\n",
    "df_family_status_pivot.columns = ['всего клиентов', 'должников', 'доля должников']\n",
    "df_family_status_pivot.merge(family_status, on='family_status_id').sort_values('доля должников')"
   ]
  },
  {
   "cell_type": "markdown",
   "id": "2a5b777c",
   "metadata": {},
   "source": [
    "<div class=\"alert alert-info\">\n",
    "    <b> Комментарий студента</b><br>\n",
    "    \n",
    "Меньше всего долгов у вдовцов/вдов, у женатых и в разводе примерно одинаковая доля, а у не женатых больше всего долгов.\n",
    "</div>"
   ]
  },
  {
   "cell_type": "markdown",
   "id": "edbf699a",
   "metadata": {},
   "source": [
    "##### Вопрос3 \"Есть ли зависимость между уровнем дохода и возвратом кредита в срок?\":"
   ]
  },
  {
   "cell_type": "code",
   "execution_count": 35,
   "id": "2a5e61ee",
   "metadata": {},
   "outputs": [
    {
     "data": {
      "text/html": [
       "<div>\n",
       "<style scoped>\n",
       "    .dataframe tbody tr th:only-of-type {\n",
       "        vertical-align: middle;\n",
       "    }\n",
       "\n",
       "    .dataframe tbody tr th {\n",
       "        vertical-align: top;\n",
       "    }\n",
       "\n",
       "    .dataframe thead th {\n",
       "        text-align: right;\n",
       "    }\n",
       "</style>\n",
       "<table border=\"1\" class=\"dataframe\">\n",
       "  <thead>\n",
       "    <tr style=\"text-align: right;\">\n",
       "      <th></th>\n",
       "      <th>всего клиентов</th>\n",
       "      <th>должников</th>\n",
       "      <th>доля должников</th>\n",
       "    </tr>\n",
       "    <tr>\n",
       "      <th>total_income_category</th>\n",
       "      <th></th>\n",
       "      <th></th>\n",
       "      <th></th>\n",
       "    </tr>\n",
       "  </thead>\n",
       "  <tbody>\n",
       "    <tr>\n",
       "      <th>D</th>\n",
       "      <td>350</td>\n",
       "      <td>21</td>\n",
       "      <td>0.060000</td>\n",
       "    </tr>\n",
       "    <tr>\n",
       "      <th>B</th>\n",
       "      <td>5041</td>\n",
       "      <td>356</td>\n",
       "      <td>0.070621</td>\n",
       "    </tr>\n",
       "    <tr>\n",
       "      <th>A</th>\n",
       "      <td>25</td>\n",
       "      <td>2</td>\n",
       "      <td>0.080000</td>\n",
       "    </tr>\n",
       "    <tr>\n",
       "      <th>C</th>\n",
       "      <td>16033</td>\n",
       "      <td>1360</td>\n",
       "      <td>0.084825</td>\n",
       "    </tr>\n",
       "    <tr>\n",
       "      <th>E</th>\n",
       "      <td>22</td>\n",
       "      <td>2</td>\n",
       "      <td>0.090909</td>\n",
       "    </tr>\n",
       "  </tbody>\n",
       "</table>\n",
       "</div>"
      ],
      "text/plain": [
       "                       всего клиентов  должников  доля должников\n",
       "total_income_category                                           \n",
       "D                                 350         21        0.060000\n",
       "B                                5041        356        0.070621\n",
       "A                                  25          2        0.080000\n",
       "C                               16033       1360        0.084825\n",
       "E                                  22          2        0.090909"
      ]
     },
     "execution_count": 35,
     "metadata": {},
     "output_type": "execute_result"
    }
   ],
   "source": [
    "df_total_income_pivot = df.pivot_table(\n",
    "    index='total_income_category', \n",
    "    values='debt', \n",
    "    aggfunc=['count', 'sum', debt_range]\n",
    ")\n",
    "df_total_income_pivot.columns = ['всего клиентов', 'должников', 'доля должников']\n",
    "df_total_income_pivot.sort_values('доля должников')"
   ]
  },
  {
   "cell_type": "markdown",
   "id": "2bc4c966",
   "metadata": {},
   "source": [
    "<div class=\"alert alert-info\">\n",
    "    <b> Комментарий студента</b><br>\n",
    "    \n",
    "Взаимосвязи между уровнем дохода и возвратом кредита в срок не обнаружил\n",
    "</div>"
   ]
  },
  {
   "cell_type": "markdown",
   "id": "d7db1a45",
   "metadata": {},
   "source": [
    "##### Вопрос4 \"Как разные цели кредита влияют на его возврат в срок?\":"
   ]
  },
  {
   "cell_type": "code",
   "execution_count": 36,
   "id": "2bc1a5c3",
   "metadata": {},
   "outputs": [
    {
     "data": {
      "text/html": [
       "<div>\n",
       "<style scoped>\n",
       "    .dataframe tbody tr th:only-of-type {\n",
       "        vertical-align: middle;\n",
       "    }\n",
       "\n",
       "    .dataframe tbody tr th {\n",
       "        vertical-align: top;\n",
       "    }\n",
       "\n",
       "    .dataframe thead th {\n",
       "        text-align: right;\n",
       "    }\n",
       "</style>\n",
       "<table border=\"1\" class=\"dataframe\">\n",
       "  <thead>\n",
       "    <tr style=\"text-align: right;\">\n",
       "      <th></th>\n",
       "      <th>всего клиентов</th>\n",
       "      <th>должников</th>\n",
       "      <th>доля должников</th>\n",
       "    </tr>\n",
       "    <tr>\n",
       "      <th>purpose_category</th>\n",
       "      <th></th>\n",
       "      <th></th>\n",
       "      <th></th>\n",
       "    </tr>\n",
       "  </thead>\n",
       "  <tbody>\n",
       "    <tr>\n",
       "      <th>операции с недвижимостью</th>\n",
       "      <td>10814</td>\n",
       "      <td>782</td>\n",
       "      <td>0.072314</td>\n",
       "    </tr>\n",
       "    <tr>\n",
       "      <th>проведение свадьбы</th>\n",
       "      <td>2335</td>\n",
       "      <td>186</td>\n",
       "      <td>0.079657</td>\n",
       "    </tr>\n",
       "    <tr>\n",
       "      <th>получение образования</th>\n",
       "      <td>4014</td>\n",
       "      <td>370</td>\n",
       "      <td>0.092177</td>\n",
       "    </tr>\n",
       "    <tr>\n",
       "      <th>операции с автомобилем</th>\n",
       "      <td>4308</td>\n",
       "      <td>403</td>\n",
       "      <td>0.093547</td>\n",
       "    </tr>\n",
       "  </tbody>\n",
       "</table>\n",
       "</div>"
      ],
      "text/plain": [
       "                          всего клиентов  должников  доля должников\n",
       "purpose_category                                                   \n",
       "операции с недвижимостью           10814        782        0.072314\n",
       "проведение свадьбы                  2335        186        0.079657\n",
       "получение образования               4014        370        0.092177\n",
       "операции с автомобилем              4308        403        0.093547"
      ]
     },
     "execution_count": 36,
     "metadata": {},
     "output_type": "execute_result"
    }
   ],
   "source": [
    "df_purpose_category_pivot = df.pivot_table(\n",
    "    index='purpose_category', \n",
    "    values='debt', \n",
    "    aggfunc=['count', 'sum', debt_range]\n",
    ")\n",
    "df_purpose_category_pivot.columns = ['всего клиентов', 'должников', 'доля должников']\n",
    "df_purpose_category_pivot.sort_values('доля должников')"
   ]
  },
  {
   "cell_type": "markdown",
   "id": "c876259d",
   "metadata": {},
   "source": [
    "<div class=\"alert alert-info\">\n",
    "    <b> Комментарий студента</b><br>\n",
    "    \n",
    "Категория кредитов \"операции с недвижимостью\" имеет меньшую долю задолженностей. Больше всего задолженностей в категории \"операции с автомобилем\"\n",
    "</div>"
   ]
  },
  {
   "cell_type": "markdown",
   "id": "857528c4",
   "metadata": {},
   "source": [
    "## Общий вывод:"
   ]
  },
  {
   "cell_type": "markdown",
   "id": "6562fed4",
   "metadata": {},
   "source": [
    "<div class=\"alert alert-info\">\n",
    "    <b> Комментарий студента</b><br>\n",
    "    \n",
    "* в исходном датафрейме не хватает id клиента;\n",
    "* при выгрузке из базы данных возможно произошел сбой, т.к. присутствую пропуски одновременно и в колонке days_employed и в колонке total_income; \n",
    "* у клиентов с детьми больше доля задолженности, чем у клиентов с детьми. Есть еще странная зависимость: у тех у кого 3-е детей, задолженностей меньше чем у клиентов с 1 или 2-мя детьми. На это могло повлиять социальные меры поддержки многодетным семьям (в РФ семья с 3-я и более детьми считается многодетной);\n",
    "* семейное положение также взаимосвязано с возвратом в срок кредита;\n",
    "* уровень дохода не влияет на возврат в срок. По-моему мнению это связано с тем, что у людей с повышением уровня дохода, повышается и уровень расходов;\n",
    "* цели взятия кредита также в процентом соотношении влияют на возврат кредита в срок, т.к. к приобретению недвижимости люди относятся более ответственно, чем с кредитом на образование.\n",
    "</div>"
   ]
  }
 ],
 "metadata": {
  "ExecuteTimeLog": [
   {
    "duration": 45,
    "start_time": "2022-03-19T03:39:50.505Z"
   },
   {
    "duration": 6,
    "start_time": "2022-03-19T03:40:01.747Z"
   },
   {
    "duration": 5,
    "start_time": "2022-03-19T03:40:26.316Z"
   },
   {
    "duration": 6,
    "start_time": "2022-03-19T03:40:30.374Z"
   },
   {
    "duration": 6,
    "start_time": "2022-03-19T03:40:32.081Z"
   },
   {
    "duration": 6,
    "start_time": "2022-03-19T03:41:23.340Z"
   },
   {
    "duration": 461,
    "start_time": "2022-03-19T03:41:29.706Z"
   },
   {
    "duration": 55,
    "start_time": "2022-03-19T03:41:34.141Z"
   },
   {
    "duration": 26,
    "start_time": "2022-03-19T03:41:34.198Z"
   },
   {
    "duration": 12,
    "start_time": "2022-03-19T03:43:12.857Z"
   },
   {
    "duration": 15,
    "start_time": "2022-03-19T03:53:50.193Z"
   },
   {
    "duration": 45,
    "start_time": "2022-03-19T17:11:33.573Z"
   },
   {
    "duration": 407,
    "start_time": "2022-03-19T17:11:43.526Z"
   },
   {
    "duration": 17,
    "start_time": "2022-03-19T17:11:43.934Z"
   },
   {
    "duration": 14,
    "start_time": "2022-03-19T17:11:43.952Z"
   },
   {
    "duration": 47,
    "start_time": "2022-03-19T17:11:43.981Z"
   },
   {
    "duration": 6,
    "start_time": "2022-03-19T17:12:20.933Z"
   },
   {
    "duration": 9,
    "start_time": "2022-03-19T17:13:57.192Z"
   },
   {
    "duration": 12,
    "start_time": "2022-03-19T17:14:33.566Z"
   },
   {
    "duration": 9,
    "start_time": "2022-03-19T17:15:00.232Z"
   },
   {
    "duration": 7,
    "start_time": "2022-03-19T17:15:27.481Z"
   },
   {
    "duration": 7,
    "start_time": "2022-03-19T17:15:49.384Z"
   },
   {
    "duration": 12,
    "start_time": "2022-03-19T17:16:01.717Z"
   },
   {
    "duration": 10,
    "start_time": "2022-03-19T17:16:51.589Z"
   },
   {
    "duration": 4,
    "start_time": "2022-03-19T17:21:05.655Z"
   },
   {
    "duration": 71,
    "start_time": "2022-03-21T11:22:15.620Z"
   },
   {
    "duration": 490,
    "start_time": "2022-03-21T11:22:23.453Z"
   },
   {
    "duration": 18,
    "start_time": "2022-03-21T11:22:23.945Z"
   },
   {
    "duration": 14,
    "start_time": "2022-03-21T11:22:23.965Z"
   },
   {
    "duration": 5,
    "start_time": "2022-03-21T11:22:23.981Z"
   },
   {
    "duration": 4,
    "start_time": "2022-03-21T11:22:58.667Z"
   },
   {
    "duration": 55,
    "start_time": "2022-03-21T11:23:22.967Z"
   },
   {
    "duration": 4,
    "start_time": "2022-03-21T11:23:35.591Z"
   },
   {
    "duration": 5,
    "start_time": "2022-03-21T11:25:16.500Z"
   },
   {
    "duration": 143,
    "start_time": "2022-03-21T11:27:12.749Z"
   },
   {
    "duration": 4,
    "start_time": "2022-03-21T11:27:25.431Z"
   },
   {
    "duration": 4,
    "start_time": "2022-03-21T11:27:47.934Z"
   },
   {
    "duration": 4,
    "start_time": "2022-03-21T11:33:44.628Z"
   },
   {
    "duration": 8,
    "start_time": "2022-03-21T11:39:39.123Z"
   },
   {
    "duration": 5,
    "start_time": "2022-03-21T11:39:53.416Z"
   },
   {
    "duration": 3,
    "start_time": "2022-03-21T11:50:06.034Z"
   },
   {
    "duration": 3,
    "start_time": "2022-03-21T11:50:52.216Z"
   },
   {
    "duration": 148,
    "start_time": "2022-03-21T11:54:28.806Z"
   },
   {
    "duration": 154,
    "start_time": "2022-03-21T11:54:56.327Z"
   },
   {
    "duration": 146,
    "start_time": "2022-03-21T11:56:46.111Z"
   },
   {
    "duration": 176,
    "start_time": "2022-03-21T11:57:04.545Z"
   },
   {
    "duration": 4,
    "start_time": "2022-03-21T11:57:17.472Z"
   },
   {
    "duration": 5,
    "start_time": "2022-03-21T11:58:05.995Z"
   },
   {
    "duration": 5,
    "start_time": "2022-03-21T11:58:24.887Z"
   },
   {
    "duration": 5,
    "start_time": "2022-03-21T11:58:42.906Z"
   },
   {
    "duration": 4,
    "start_time": "2022-03-21T11:58:49.263Z"
   },
   {
    "duration": 4,
    "start_time": "2022-03-21T11:59:07.725Z"
   },
   {
    "duration": 5,
    "start_time": "2022-03-21T11:59:14.565Z"
   },
   {
    "duration": 5,
    "start_time": "2022-03-21T12:07:34.438Z"
   },
   {
    "duration": 13,
    "start_time": "2022-03-21T12:13:04.227Z"
   },
   {
    "duration": 995,
    "start_time": "2022-03-21T12:13:47.988Z"
   },
   {
    "duration": 9,
    "start_time": "2022-03-21T12:15:58.819Z"
   },
   {
    "duration": 14,
    "start_time": "2022-03-21T12:16:09.303Z"
   },
   {
    "duration": 139,
    "start_time": "2022-03-21T12:17:35.187Z"
   },
   {
    "duration": 2520,
    "start_time": "2022-03-21T12:17:41.752Z"
   },
   {
    "duration": 2703,
    "start_time": "2022-03-21T12:22:23.381Z"
   },
   {
    "duration": 9,
    "start_time": "2022-03-21T12:45:26.066Z"
   },
   {
    "duration": 18,
    "start_time": "2022-03-21T12:45:33.542Z"
   },
   {
    "duration": 16,
    "start_time": "2022-03-21T12:45:45.526Z"
   },
   {
    "duration": 24,
    "start_time": "2022-03-21T12:53:29.579Z"
   },
   {
    "duration": 10,
    "start_time": "2022-03-21T12:54:52.503Z"
   },
   {
    "duration": 9,
    "start_time": "2022-03-21T12:55:02.128Z"
   },
   {
    "duration": 8,
    "start_time": "2022-03-21T12:55:45.823Z"
   },
   {
    "duration": 16,
    "start_time": "2022-03-21T12:56:14.668Z"
   },
   {
    "duration": 16,
    "start_time": "2022-03-21T12:57:11.589Z"
   },
   {
    "duration": 48,
    "start_time": "2022-03-23T10:55:05.431Z"
   },
   {
    "duration": 470,
    "start_time": "2022-03-23T10:55:26.822Z"
   },
   {
    "duration": 29,
    "start_time": "2022-03-23T10:55:27.294Z"
   },
   {
    "duration": 14,
    "start_time": "2022-03-23T10:55:27.325Z"
   },
   {
    "duration": 14,
    "start_time": "2022-03-23T10:55:27.341Z"
   },
   {
    "duration": 3,
    "start_time": "2022-03-23T10:55:27.357Z"
   },
   {
    "duration": 42,
    "start_time": "2022-03-23T10:55:27.361Z"
   },
   {
    "duration": 9,
    "start_time": "2022-03-23T10:55:27.406Z"
   },
   {
    "duration": 4,
    "start_time": "2022-03-23T11:10:33.635Z"
   },
   {
    "duration": 3,
    "start_time": "2022-03-23T11:11:12.282Z"
   },
   {
    "duration": 6,
    "start_time": "2022-03-23T11:11:29.032Z"
   },
   {
    "duration": 58,
    "start_time": "2022-03-23T11:14:21.614Z"
   },
   {
    "duration": 12,
    "start_time": "2022-03-23T11:14:21.674Z"
   },
   {
    "duration": 21,
    "start_time": "2022-03-23T11:14:21.688Z"
   },
   {
    "duration": 7,
    "start_time": "2022-03-23T11:14:21.711Z"
   },
   {
    "duration": 6,
    "start_time": "2022-03-23T11:21:34.827Z"
   },
   {
    "duration": 15,
    "start_time": "2022-03-23T11:39:40.881Z"
   },
   {
    "duration": 17,
    "start_time": "2022-03-23T11:40:07.546Z"
   },
   {
    "duration": 14,
    "start_time": "2022-03-23T11:42:18.558Z"
   },
   {
    "duration": 30,
    "start_time": "2022-03-23T11:55:49.615Z"
   },
   {
    "duration": 8,
    "start_time": "2022-03-23T11:58:21.650Z"
   },
   {
    "duration": 7,
    "start_time": "2022-03-23T11:59:11.179Z"
   },
   {
    "duration": 7,
    "start_time": "2022-03-23T11:59:19.485Z"
   },
   {
    "duration": 7,
    "start_time": "2022-03-23T11:59:43.680Z"
   },
   {
    "duration": 7,
    "start_time": "2022-03-23T12:00:44.915Z"
   },
   {
    "duration": 6,
    "start_time": "2022-03-23T12:01:47.029Z"
   },
   {
    "duration": 6,
    "start_time": "2022-03-23T12:01:55.814Z"
   },
   {
    "duration": 7,
    "start_time": "2022-03-23T12:38:34.645Z"
   },
   {
    "duration": 8,
    "start_time": "2022-03-23T12:38:54.695Z"
   },
   {
    "duration": 7,
    "start_time": "2022-03-23T12:40:08.057Z"
   },
   {
    "duration": 7,
    "start_time": "2022-03-23T12:41:27.060Z"
   },
   {
    "duration": 60,
    "start_time": "2022-03-23T12:42:00.213Z"
   },
   {
    "duration": 12,
    "start_time": "2022-03-23T12:42:00.275Z"
   },
   {
    "duration": 21,
    "start_time": "2022-03-23T12:42:00.288Z"
   },
   {
    "duration": 5,
    "start_time": "2022-03-23T12:42:00.311Z"
   },
   {
    "duration": 38,
    "start_time": "2022-03-23T12:42:00.317Z"
   },
   {
    "duration": 5,
    "start_time": "2022-03-23T12:42:00.356Z"
   },
   {
    "duration": 56,
    "start_time": "2022-03-23T12:42:27.182Z"
   },
   {
    "duration": 11,
    "start_time": "2022-03-23T12:42:27.240Z"
   },
   {
    "duration": 16,
    "start_time": "2022-03-23T12:42:27.253Z"
   },
   {
    "duration": 6,
    "start_time": "2022-03-23T12:42:27.270Z"
   },
   {
    "duration": 36,
    "start_time": "2022-03-23T12:42:27.277Z"
   },
   {
    "duration": 9,
    "start_time": "2022-03-23T12:42:27.450Z"
   },
   {
    "duration": 6,
    "start_time": "2022-03-23T12:42:27.461Z"
   },
   {
    "duration": 3195,
    "start_time": "2022-03-23T12:43:11.951Z"
   },
   {
    "duration": 8,
    "start_time": "2022-03-23T12:44:05.976Z"
   },
   {
    "duration": 1790,
    "start_time": "2022-03-23T13:20:23.988Z"
   },
   {
    "duration": 6,
    "start_time": "2022-03-23T13:20:41.737Z"
   },
   {
    "duration": 7,
    "start_time": "2022-03-23T13:21:12.768Z"
   },
   {
    "duration": 201,
    "start_time": "2022-03-23T13:22:31.912Z"
   },
   {
    "duration": 197,
    "start_time": "2022-03-23T13:22:39.776Z"
   },
   {
    "duration": 426,
    "start_time": "2022-03-23T13:23:08.358Z"
   },
   {
    "duration": 7,
    "start_time": "2022-03-23T13:23:27.200Z"
   },
   {
    "duration": 6,
    "start_time": "2022-03-23T13:23:38.452Z"
   },
   {
    "duration": 11,
    "start_time": "2022-03-23T13:23:42.989Z"
   },
   {
    "duration": 12,
    "start_time": "2022-03-23T14:07:39.355Z"
   },
   {
    "duration": 10,
    "start_time": "2022-03-23T14:07:47.807Z"
   },
   {
    "duration": 8,
    "start_time": "2022-03-23T14:09:32.724Z"
   },
   {
    "duration": 56,
    "start_time": "2022-03-23T14:09:54.650Z"
   },
   {
    "duration": 12,
    "start_time": "2022-03-23T14:09:54.708Z"
   },
   {
    "duration": 19,
    "start_time": "2022-03-23T14:09:54.722Z"
   },
   {
    "duration": 5,
    "start_time": "2022-03-23T14:09:54.742Z"
   },
   {
    "duration": 13,
    "start_time": "2022-03-23T14:09:54.749Z"
   },
   {
    "duration": 39,
    "start_time": "2022-03-23T14:09:54.763Z"
   },
   {
    "duration": 15,
    "start_time": "2022-03-23T14:09:54.804Z"
   },
   {
    "duration": 5,
    "start_time": "2022-03-23T14:14:25.123Z"
   },
   {
    "duration": 15,
    "start_time": "2022-03-23T14:15:14.389Z"
   },
   {
    "duration": 10,
    "start_time": "2022-03-23T14:24:03.249Z"
   },
   {
    "duration": 11,
    "start_time": "2022-03-23T14:24:40.161Z"
   },
   {
    "duration": 10,
    "start_time": "2022-03-23T14:25:05.125Z"
   },
   {
    "duration": 10,
    "start_time": "2022-03-23T14:25:16.889Z"
   },
   {
    "duration": 10,
    "start_time": "2022-03-23T14:25:41.442Z"
   },
   {
    "duration": 5,
    "start_time": "2022-03-23T14:26:38.656Z"
   },
   {
    "duration": 8,
    "start_time": "2022-03-23T14:34:04.424Z"
   },
   {
    "duration": 4,
    "start_time": "2022-03-23T14:34:11.703Z"
   },
   {
    "duration": 14,
    "start_time": "2022-03-23T14:35:12.996Z"
   },
   {
    "duration": 5,
    "start_time": "2022-03-23T14:37:45.871Z"
   },
   {
    "duration": 8,
    "start_time": "2022-03-23T14:38:44.188Z"
   },
   {
    "duration": 7,
    "start_time": "2022-03-23T14:38:53.161Z"
   },
   {
    "duration": 4,
    "start_time": "2022-03-23T15:01:44.544Z"
   },
   {
    "duration": 23,
    "start_time": "2022-03-23T15:02:02.117Z"
   },
   {
    "duration": 8,
    "start_time": "2022-03-23T15:02:35.127Z"
   },
   {
    "duration": 14,
    "start_time": "2022-03-23T15:03:20.012Z"
   },
   {
    "duration": 15,
    "start_time": "2022-03-23T15:03:47.845Z"
   },
   {
    "duration": 17,
    "start_time": "2022-03-23T15:07:49.892Z"
   },
   {
    "duration": 22,
    "start_time": "2022-03-23T15:08:05.350Z"
   },
   {
    "duration": 24,
    "start_time": "2022-03-23T15:08:19.772Z"
   },
   {
    "duration": 11,
    "start_time": "2022-03-23T15:12:19.859Z"
   },
   {
    "duration": 11,
    "start_time": "2022-03-23T15:12:40.508Z"
   },
   {
    "duration": 8,
    "start_time": "2022-03-23T15:13:04.248Z"
   },
   {
    "duration": 14,
    "start_time": "2022-03-23T15:29:13.316Z"
   },
   {
    "duration": 3,
    "start_time": "2022-03-23T15:29:41.536Z"
   },
   {
    "duration": 6,
    "start_time": "2022-03-23T15:29:52.348Z"
   },
   {
    "duration": 4,
    "start_time": "2022-03-23T15:33:04.397Z"
   },
   {
    "duration": 19,
    "start_time": "2022-03-23T15:33:10.233Z"
   },
   {
    "duration": 16,
    "start_time": "2022-03-23T15:33:41.765Z"
   },
   {
    "duration": 4,
    "start_time": "2022-03-23T15:34:22.701Z"
   },
   {
    "duration": 18,
    "start_time": "2022-03-23T15:34:27.211Z"
   },
   {
    "duration": 21,
    "start_time": "2022-03-23T15:34:37.076Z"
   },
   {
    "duration": 72,
    "start_time": "2022-03-23T15:34:55.137Z"
   },
   {
    "duration": 14,
    "start_time": "2022-03-23T15:34:55.211Z"
   },
   {
    "duration": 17,
    "start_time": "2022-03-23T15:34:55.227Z"
   },
   {
    "duration": 6,
    "start_time": "2022-03-23T15:34:55.247Z"
   },
   {
    "duration": 49,
    "start_time": "2022-03-23T15:34:55.255Z"
   },
   {
    "duration": 9,
    "start_time": "2022-03-23T15:34:55.306Z"
   },
   {
    "duration": 13,
    "start_time": "2022-03-23T15:34:55.317Z"
   },
   {
    "duration": 15,
    "start_time": "2022-03-23T15:34:55.332Z"
   },
   {
    "duration": 7,
    "start_time": "2022-03-23T15:34:55.348Z"
   },
   {
    "duration": 58,
    "start_time": "2022-03-23T15:34:55.357Z"
   },
   {
    "duration": 5,
    "start_time": "2022-03-23T15:34:55.417Z"
   },
   {
    "duration": 20,
    "start_time": "2022-03-23T15:34:55.423Z"
   },
   {
    "duration": 686,
    "start_time": "2022-03-26T02:22:28.801Z"
   },
   {
    "duration": 32,
    "start_time": "2022-03-26T02:22:29.491Z"
   },
   {
    "duration": 23,
    "start_time": "2022-03-26T02:22:29.526Z"
   },
   {
    "duration": 8,
    "start_time": "2022-03-26T02:22:29.573Z"
   },
   {
    "duration": 23,
    "start_time": "2022-03-26T02:22:29.586Z"
   },
   {
    "duration": 16,
    "start_time": "2022-03-26T02:22:29.612Z"
   },
   {
    "duration": 27,
    "start_time": "2022-03-26T02:22:29.674Z"
   },
   {
    "duration": 27,
    "start_time": "2022-03-26T02:22:29.703Z"
   },
   {
    "duration": 45,
    "start_time": "2022-03-26T02:22:29.733Z"
   },
   {
    "duration": 10,
    "start_time": "2022-03-26T02:22:29.781Z"
   },
   {
    "duration": 15,
    "start_time": "2022-03-26T02:23:41.912Z"
   },
   {
    "duration": 66,
    "start_time": "2022-03-26T02:23:58.242Z"
   },
   {
    "duration": 21,
    "start_time": "2022-03-26T02:23:58.311Z"
   },
   {
    "duration": 43,
    "start_time": "2022-03-26T02:23:58.334Z"
   },
   {
    "duration": 8,
    "start_time": "2022-03-26T02:23:58.380Z"
   },
   {
    "duration": 23,
    "start_time": "2022-03-26T02:23:58.391Z"
   },
   {
    "duration": 14,
    "start_time": "2022-03-26T02:23:58.417Z"
   },
   {
    "duration": 27,
    "start_time": "2022-03-26T02:23:58.473Z"
   },
   {
    "duration": 22,
    "start_time": "2022-03-26T02:23:58.503Z"
   },
   {
    "duration": 10,
    "start_time": "2022-03-26T02:23:58.527Z"
   },
   {
    "duration": 91,
    "start_time": "2022-03-26T02:28:50.986Z"
   },
   {
    "duration": 1328,
    "start_time": "2022-03-26T02:29:06.511Z"
   },
   {
    "duration": 8,
    "start_time": "2022-03-26T02:29:36.955Z"
   },
   {
    "duration": 12,
    "start_time": "2022-03-26T02:29:46.377Z"
   },
   {
    "duration": 21,
    "start_time": "2022-03-26T02:29:58.190Z"
   },
   {
    "duration": 22,
    "start_time": "2022-03-26T02:30:04.884Z"
   },
   {
    "duration": 22,
    "start_time": "2022-03-26T02:30:13.495Z"
   },
   {
    "duration": 20,
    "start_time": "2022-03-26T02:30:25.701Z"
   },
   {
    "duration": 22,
    "start_time": "2022-03-26T02:31:10.362Z"
   },
   {
    "duration": 12,
    "start_time": "2022-03-26T02:31:43.842Z"
   },
   {
    "duration": 17,
    "start_time": "2022-03-26T03:32:00.388Z"
   },
   {
    "duration": 51,
    "start_time": "2022-03-26T03:32:07.547Z"
   },
   {
    "duration": 26,
    "start_time": "2022-03-26T03:32:29.001Z"
   },
   {
    "duration": 25,
    "start_time": "2022-03-26T03:32:36.297Z"
   },
   {
    "duration": 25,
    "start_time": "2022-03-26T03:32:36.918Z"
   },
   {
    "duration": 25,
    "start_time": "2022-03-26T03:34:14.638Z"
   },
   {
    "duration": 108,
    "start_time": "2022-03-26T03:34:39.345Z"
   },
   {
    "duration": 99,
    "start_time": "2022-03-26T03:34:43.947Z"
   },
   {
    "duration": 8,
    "start_time": "2022-03-26T03:34:51.697Z"
   },
   {
    "duration": 13,
    "start_time": "2022-03-26T03:35:01.507Z"
   },
   {
    "duration": 11,
    "start_time": "2022-03-26T03:35:06.590Z"
   },
   {
    "duration": 12,
    "start_time": "2022-03-26T03:35:25.985Z"
   },
   {
    "duration": 7,
    "start_time": "2022-03-26T03:35:31.499Z"
   },
   {
    "duration": 7,
    "start_time": "2022-03-26T03:35:45.532Z"
   },
   {
    "duration": 8,
    "start_time": "2022-03-26T03:35:58.088Z"
   },
   {
    "duration": 71,
    "start_time": "2022-03-26T03:36:19.007Z"
   },
   {
    "duration": 19,
    "start_time": "2022-03-26T03:36:19.081Z"
   },
   {
    "duration": 32,
    "start_time": "2022-03-26T03:36:19.102Z"
   },
   {
    "duration": 9,
    "start_time": "2022-03-26T03:36:19.137Z"
   },
   {
    "duration": 33,
    "start_time": "2022-03-26T03:36:19.176Z"
   },
   {
    "duration": 19,
    "start_time": "2022-03-26T03:36:19.211Z"
   },
   {
    "duration": 72,
    "start_time": "2022-03-26T03:36:19.233Z"
   },
   {
    "duration": 16,
    "start_time": "2022-03-26T03:36:19.307Z"
   },
   {
    "duration": 52,
    "start_time": "2022-03-26T03:36:19.326Z"
   },
   {
    "duration": 14,
    "start_time": "2022-03-26T03:36:19.382Z"
   },
   {
    "duration": 11,
    "start_time": "2022-03-26T03:36:19.398Z"
   },
   {
    "duration": 8,
    "start_time": "2022-03-26T03:36:57.162Z"
   },
   {
    "duration": 14,
    "start_time": "2022-03-26T03:38:09.896Z"
   },
   {
    "duration": 7,
    "start_time": "2022-03-26T03:38:33.682Z"
   },
   {
    "duration": 5,
    "start_time": "2022-03-26T03:40:55.781Z"
   },
   {
    "duration": 7,
    "start_time": "2022-03-26T03:41:18.794Z"
   },
   {
    "duration": 8,
    "start_time": "2022-03-26T03:42:08.898Z"
   },
   {
    "duration": 8,
    "start_time": "2022-03-26T03:42:30.802Z"
   },
   {
    "duration": 65,
    "start_time": "2022-03-26T03:42:54.144Z"
   },
   {
    "duration": 18,
    "start_time": "2022-03-26T03:42:54.212Z"
   },
   {
    "duration": 25,
    "start_time": "2022-03-26T03:42:54.232Z"
   },
   {
    "duration": 8,
    "start_time": "2022-03-26T03:42:54.274Z"
   },
   {
    "duration": 68,
    "start_time": "2022-03-26T03:43:13.389Z"
   },
   {
    "duration": 18,
    "start_time": "2022-03-26T03:43:13.460Z"
   },
   {
    "duration": 28,
    "start_time": "2022-03-26T03:43:13.480Z"
   },
   {
    "duration": 8,
    "start_time": "2022-03-26T03:43:13.510Z"
   },
   {
    "duration": 69,
    "start_time": "2022-03-26T03:45:00.923Z"
   },
   {
    "duration": 19,
    "start_time": "2022-03-26T03:45:00.994Z"
   },
   {
    "duration": 28,
    "start_time": "2022-03-26T03:45:01.015Z"
   },
   {
    "duration": 27,
    "start_time": "2022-03-26T03:45:01.047Z"
   },
   {
    "duration": 68,
    "start_time": "2022-03-26T03:45:32.080Z"
   },
   {
    "duration": 22,
    "start_time": "2022-03-26T03:45:32.151Z"
   },
   {
    "duration": 23,
    "start_time": "2022-03-26T03:45:32.177Z"
   },
   {
    "duration": 9,
    "start_time": "2022-03-26T03:45:32.202Z"
   },
   {
    "duration": 61,
    "start_time": "2022-03-26T03:45:32.215Z"
   },
   {
    "duration": 15,
    "start_time": "2022-03-26T03:45:32.279Z"
   },
   {
    "duration": 38,
    "start_time": "2022-03-26T03:45:32.296Z"
   },
   {
    "duration": 6,
    "start_time": "2022-03-26T03:45:32.897Z"
   },
   {
    "duration": 69,
    "start_time": "2022-03-26T03:45:44.442Z"
   },
   {
    "duration": 19,
    "start_time": "2022-03-26T03:45:44.514Z"
   },
   {
    "duration": 39,
    "start_time": "2022-03-26T03:45:44.535Z"
   },
   {
    "duration": 9,
    "start_time": "2022-03-26T03:45:44.576Z"
   },
   {
    "duration": 22,
    "start_time": "2022-03-26T03:45:44.590Z"
   },
   {
    "duration": 16,
    "start_time": "2022-03-26T03:45:44.615Z"
   },
   {
    "duration": 65,
    "start_time": "2022-03-26T03:45:44.634Z"
   },
   {
    "duration": 92,
    "start_time": "2022-03-26T03:45:44.702Z"
   },
   {
    "duration": 1,
    "start_time": "2022-03-26T03:45:44.796Z"
   },
   {
    "duration": 0,
    "start_time": "2022-03-26T03:45:44.798Z"
   },
   {
    "duration": 0,
    "start_time": "2022-03-26T03:45:44.800Z"
   },
   {
    "duration": 68,
    "start_time": "2022-03-26T03:45:57.313Z"
   },
   {
    "duration": 20,
    "start_time": "2022-03-26T03:45:57.384Z"
   },
   {
    "duration": 28,
    "start_time": "2022-03-26T03:45:57.406Z"
   },
   {
    "duration": 8,
    "start_time": "2022-03-26T03:45:57.437Z"
   },
   {
    "duration": 53,
    "start_time": "2022-03-26T03:45:57.448Z"
   },
   {
    "duration": 14,
    "start_time": "2022-03-26T03:45:57.503Z"
   },
   {
    "duration": 56,
    "start_time": "2022-03-26T03:45:57.520Z"
   },
   {
    "duration": 5,
    "start_time": "2022-03-26T03:45:57.579Z"
   },
   {
    "duration": 32,
    "start_time": "2022-03-26T03:45:57.586Z"
   },
   {
    "duration": 11,
    "start_time": "2022-03-26T03:45:57.621Z"
   },
   {
    "duration": 9,
    "start_time": "2022-03-26T03:45:57.634Z"
   },
   {
    "duration": 5,
    "start_time": "2022-03-26T04:03:48.943Z"
   },
   {
    "duration": 69,
    "start_time": "2022-03-26T04:04:04.410Z"
   },
   {
    "duration": 19,
    "start_time": "2022-03-26T04:04:04.482Z"
   },
   {
    "duration": 22,
    "start_time": "2022-03-26T04:04:04.503Z"
   },
   {
    "duration": 8,
    "start_time": "2022-03-26T04:04:04.529Z"
   },
   {
    "duration": 23,
    "start_time": "2022-03-26T04:04:04.573Z"
   },
   {
    "duration": 14,
    "start_time": "2022-03-26T04:04:04.598Z"
   },
   {
    "duration": 27,
    "start_time": "2022-03-26T04:04:04.614Z"
   },
   {
    "duration": 35,
    "start_time": "2022-03-26T04:04:04.643Z"
   },
   {
    "duration": 24,
    "start_time": "2022-03-26T04:04:04.681Z"
   },
   {
    "duration": 10,
    "start_time": "2022-03-26T04:04:04.708Z"
   },
   {
    "duration": 8,
    "start_time": "2022-03-26T04:04:04.721Z"
   },
   {
    "duration": 76,
    "start_time": "2022-03-26T04:05:49.050Z"
   },
   {
    "duration": 19,
    "start_time": "2022-03-26T04:05:49.128Z"
   },
   {
    "duration": 40,
    "start_time": "2022-03-26T04:05:49.149Z"
   },
   {
    "duration": 7,
    "start_time": "2022-03-26T04:05:49.192Z"
   },
   {
    "duration": 27,
    "start_time": "2022-03-26T04:05:49.202Z"
   },
   {
    "duration": 14,
    "start_time": "2022-03-26T04:05:49.231Z"
   },
   {
    "duration": 32,
    "start_time": "2022-03-26T04:05:49.276Z"
   },
   {
    "duration": 65,
    "start_time": "2022-03-26T04:05:49.310Z"
   },
   {
    "duration": 20,
    "start_time": "2022-03-26T04:06:50.775Z"
   },
   {
    "duration": 76,
    "start_time": "2022-03-26T04:06:57.726Z"
   },
   {
    "duration": 19,
    "start_time": "2022-03-26T04:06:57.805Z"
   },
   {
    "duration": 20,
    "start_time": "2022-03-26T04:06:57.826Z"
   },
   {
    "duration": 33,
    "start_time": "2022-03-26T04:06:57.849Z"
   },
   {
    "duration": 35,
    "start_time": "2022-03-26T04:06:57.885Z"
   },
   {
    "duration": 14,
    "start_time": "2022-03-26T04:06:57.922Z"
   },
   {
    "duration": 55,
    "start_time": "2022-03-26T04:06:57.938Z"
   },
   {
    "duration": 15,
    "start_time": "2022-03-26T04:06:57.995Z"
   },
   {
    "duration": 25,
    "start_time": "2022-03-26T04:07:35.549Z"
   },
   {
    "duration": 27,
    "start_time": "2022-03-26T04:08:04.044Z"
   },
   {
    "duration": 66,
    "start_time": "2022-03-26T04:09:00.318Z"
   },
   {
    "duration": 55,
    "start_time": "2022-03-26T04:09:27.622Z"
   },
   {
    "duration": 75,
    "start_time": "2022-03-26T04:09:48.374Z"
   },
   {
    "duration": 90,
    "start_time": "2022-03-26T04:10:04.043Z"
   },
   {
    "duration": 89,
    "start_time": "2022-03-26T04:24:34.316Z"
   },
   {
    "duration": 90,
    "start_time": "2022-03-26T04:24:46.345Z"
   },
   {
    "duration": 94,
    "start_time": "2022-03-26T04:25:03.829Z"
   },
   {
    "duration": 24,
    "start_time": "2022-03-26T04:25:03.927Z"
   },
   {
    "duration": 35,
    "start_time": "2022-03-26T04:25:03.954Z"
   },
   {
    "duration": 8,
    "start_time": "2022-03-26T04:25:03.992Z"
   },
   {
    "duration": 31,
    "start_time": "2022-03-26T04:25:04.003Z"
   },
   {
    "duration": 39,
    "start_time": "2022-03-26T04:25:04.037Z"
   },
   {
    "duration": 26,
    "start_time": "2022-03-26T04:25:04.078Z"
   },
   {
    "duration": 103,
    "start_time": "2022-03-26T04:25:04.106Z"
   },
   {
    "duration": 0,
    "start_time": "2022-03-26T04:25:04.211Z"
   },
   {
    "duration": 0,
    "start_time": "2022-03-26T04:25:04.213Z"
   },
   {
    "duration": 0,
    "start_time": "2022-03-26T04:25:04.215Z"
   },
   {
    "duration": 72,
    "start_time": "2022-03-26T04:25:32.088Z"
   },
   {
    "duration": 70,
    "start_time": "2022-03-26T04:27:52.411Z"
   },
   {
    "duration": 17,
    "start_time": "2022-03-26T04:28:56.244Z"
   },
   {
    "duration": 158,
    "start_time": "2022-03-26T04:40:02.705Z"
   },
   {
    "duration": 103,
    "start_time": "2022-03-26T04:40:41.039Z"
   },
   {
    "duration": 95,
    "start_time": "2022-03-26T04:40:49.344Z"
   },
   {
    "duration": 99,
    "start_time": "2022-03-26T04:41:00.517Z"
   },
   {
    "duration": 118,
    "start_time": "2022-03-26T04:41:23.683Z"
   },
   {
    "duration": 71,
    "start_time": "2022-03-26T04:41:31.654Z"
   },
   {
    "duration": 20,
    "start_time": "2022-03-26T04:41:31.728Z"
   },
   {
    "duration": 34,
    "start_time": "2022-03-26T04:41:31.751Z"
   },
   {
    "duration": 9,
    "start_time": "2022-03-26T04:41:31.788Z"
   },
   {
    "duration": 23,
    "start_time": "2022-03-26T04:41:31.800Z"
   },
   {
    "duration": 50,
    "start_time": "2022-03-26T04:41:31.825Z"
   },
   {
    "duration": 27,
    "start_time": "2022-03-26T04:41:31.877Z"
   },
   {
    "duration": 103,
    "start_time": "2022-03-26T04:41:31.907Z"
   },
   {
    "duration": 106,
    "start_time": "2022-03-26T04:41:51.706Z"
   },
   {
    "duration": 133,
    "start_time": "2022-03-26T04:42:21.238Z"
   },
   {
    "duration": 114,
    "start_time": "2022-03-26T04:43:51.837Z"
   },
   {
    "duration": 116,
    "start_time": "2022-03-26T04:44:06.250Z"
   },
   {
    "duration": 128,
    "start_time": "2022-03-26T04:44:28.871Z"
   },
   {
    "duration": 72,
    "start_time": "2022-03-26T04:44:42.513Z"
   },
   {
    "duration": 20,
    "start_time": "2022-03-26T04:44:43.152Z"
   },
   {
    "duration": 26,
    "start_time": "2022-03-26T04:44:43.175Z"
   },
   {
    "duration": 9,
    "start_time": "2022-03-26T04:44:43.203Z"
   },
   {
    "duration": 31,
    "start_time": "2022-03-26T04:44:43.214Z"
   },
   {
    "duration": 27,
    "start_time": "2022-03-26T04:44:43.248Z"
   },
   {
    "duration": 28,
    "start_time": "2022-03-26T04:44:43.277Z"
   },
   {
    "duration": 128,
    "start_time": "2022-03-26T04:44:43.307Z"
   },
   {
    "duration": 0,
    "start_time": "2022-03-26T04:44:43.437Z"
   },
   {
    "duration": 0,
    "start_time": "2022-03-26T04:44:43.439Z"
   },
   {
    "duration": 0,
    "start_time": "2022-03-26T04:44:43.441Z"
   },
   {
    "duration": 88,
    "start_time": "2022-03-26T04:58:52.202Z"
   },
   {
    "duration": 84,
    "start_time": "2022-03-26T04:59:44.716Z"
   },
   {
    "duration": 14,
    "start_time": "2022-03-26T05:03:48.490Z"
   },
   {
    "duration": 16,
    "start_time": "2022-03-26T05:05:11.339Z"
   },
   {
    "duration": 71,
    "start_time": "2022-03-26T06:18:56.499Z"
   },
   {
    "duration": 20,
    "start_time": "2022-03-26T06:18:56.572Z"
   },
   {
    "duration": 23,
    "start_time": "2022-03-26T06:18:56.594Z"
   },
   {
    "duration": 7,
    "start_time": "2022-03-26T06:18:56.620Z"
   },
   {
    "duration": 54,
    "start_time": "2022-03-26T06:18:56.629Z"
   },
   {
    "duration": 15,
    "start_time": "2022-03-26T06:18:56.685Z"
   },
   {
    "duration": 29,
    "start_time": "2022-03-26T06:18:56.702Z"
   },
   {
    "duration": 47,
    "start_time": "2022-03-26T06:18:56.734Z"
   },
   {
    "duration": 33,
    "start_time": "2022-03-26T06:18:56.784Z"
   },
   {
    "duration": 12,
    "start_time": "2022-03-26T06:18:56.819Z"
   },
   {
    "duration": 42,
    "start_time": "2022-03-26T06:18:56.833Z"
   },
   {
    "duration": 11,
    "start_time": "2022-03-26T06:30:39.891Z"
   },
   {
    "duration": 69,
    "start_time": "2022-03-26T06:31:03.843Z"
   },
   {
    "duration": 20,
    "start_time": "2022-03-26T06:31:03.914Z"
   },
   {
    "duration": 43,
    "start_time": "2022-03-26T06:31:03.936Z"
   },
   {
    "duration": 8,
    "start_time": "2022-03-26T06:31:03.982Z"
   },
   {
    "duration": 22,
    "start_time": "2022-03-26T06:31:03.993Z"
   },
   {
    "duration": 15,
    "start_time": "2022-03-26T06:31:04.017Z"
   },
   {
    "duration": 64,
    "start_time": "2022-03-26T06:31:04.035Z"
   },
   {
    "duration": 16,
    "start_time": "2022-03-26T06:31:04.102Z"
   },
   {
    "duration": 59,
    "start_time": "2022-03-26T06:31:04.120Z"
   },
   {
    "duration": 14,
    "start_time": "2022-03-26T06:31:04.183Z"
   },
   {
    "duration": 9,
    "start_time": "2022-03-26T06:31:04.199Z"
   },
   {
    "duration": 12,
    "start_time": "2022-03-26T06:31:04.210Z"
   },
   {
    "duration": 8,
    "start_time": "2022-03-26T06:33:06.555Z"
   },
   {
    "duration": 73,
    "start_time": "2022-03-26T06:33:14.237Z"
   },
   {
    "duration": 19,
    "start_time": "2022-03-26T06:33:14.313Z"
   },
   {
    "duration": 61,
    "start_time": "2022-03-26T06:33:14.336Z"
   },
   {
    "duration": 335,
    "start_time": "2022-03-26T06:33:14.400Z"
   },
   {
    "duration": 49,
    "start_time": "2022-03-26T06:33:14.737Z"
   },
   {
    "duration": 19,
    "start_time": "2022-03-26T06:33:14.788Z"
   },
   {
    "duration": 27,
    "start_time": "2022-03-26T06:33:14.809Z"
   },
   {
    "duration": 36,
    "start_time": "2022-03-26T06:33:14.838Z"
   },
   {
    "duration": 23,
    "start_time": "2022-03-26T06:33:14.876Z"
   },
   {
    "duration": 25,
    "start_time": "2022-03-26T06:33:14.902Z"
   },
   {
    "duration": 32,
    "start_time": "2022-03-26T06:33:14.930Z"
   },
   {
    "duration": 8,
    "start_time": "2022-03-26T06:33:14.964Z"
   },
   {
    "duration": 70,
    "start_time": "2022-03-26T06:40:57.027Z"
   },
   {
    "duration": 19,
    "start_time": "2022-03-26T06:40:57.099Z"
   },
   {
    "duration": 32,
    "start_time": "2022-03-26T06:40:57.121Z"
   },
   {
    "duration": 10,
    "start_time": "2022-03-26T06:40:57.176Z"
   },
   {
    "duration": 31,
    "start_time": "2022-03-26T06:40:57.189Z"
   },
   {
    "duration": 51,
    "start_time": "2022-03-26T06:40:57.222Z"
   },
   {
    "duration": 40,
    "start_time": "2022-03-26T06:40:57.276Z"
   },
   {
    "duration": 16,
    "start_time": "2022-03-26T06:40:57.319Z"
   },
   {
    "duration": 57,
    "start_time": "2022-03-26T06:40:57.337Z"
   },
   {
    "duration": 13,
    "start_time": "2022-03-26T06:40:57.397Z"
   },
   {
    "duration": 9,
    "start_time": "2022-03-26T06:40:57.413Z"
   },
   {
    "duration": 51,
    "start_time": "2022-03-26T06:40:57.424Z"
   },
   {
    "duration": 14,
    "start_time": "2022-03-26T06:43:33.882Z"
   },
   {
    "duration": 12,
    "start_time": "2022-03-26T06:44:38.604Z"
   },
   {
    "duration": 13,
    "start_time": "2022-03-26T06:46:02.368Z"
   },
   {
    "duration": 16,
    "start_time": "2022-03-26T06:48:22.928Z"
   },
   {
    "duration": 5,
    "start_time": "2022-03-26T06:48:35.172Z"
   },
   {
    "duration": 32,
    "start_time": "2022-03-26T06:50:42.153Z"
   },
   {
    "duration": 7,
    "start_time": "2022-03-26T06:54:35.275Z"
   },
   {
    "duration": 107,
    "start_time": "2022-03-26T06:55:18.220Z"
   },
   {
    "duration": 53,
    "start_time": "2022-03-27T10:47:38.051Z"
   },
   {
    "duration": 489,
    "start_time": "2022-03-27T10:47:42.457Z"
   },
   {
    "duration": 21,
    "start_time": "2022-03-27T10:47:42.949Z"
   },
   {
    "duration": 15,
    "start_time": "2022-03-27T10:47:42.972Z"
   },
   {
    "duration": 6,
    "start_time": "2022-03-27T10:47:42.989Z"
   },
   {
    "duration": 15,
    "start_time": "2022-03-27T10:47:42.996Z"
   },
   {
    "duration": 42,
    "start_time": "2022-03-27T10:47:43.013Z"
   },
   {
    "duration": 17,
    "start_time": "2022-03-27T10:47:43.058Z"
   },
   {
    "duration": 13,
    "start_time": "2022-03-27T10:47:43.077Z"
   },
   {
    "duration": 50,
    "start_time": "2022-03-27T10:47:43.092Z"
   },
   {
    "duration": 12,
    "start_time": "2022-03-27T10:47:43.147Z"
   },
   {
    "duration": 6,
    "start_time": "2022-03-27T10:47:43.160Z"
   },
   {
    "duration": 9,
    "start_time": "2022-03-27T10:47:43.168Z"
   },
   {
    "duration": 6,
    "start_time": "2022-03-27T10:47:43.178Z"
   },
   {
    "duration": 5,
    "start_time": "2022-03-27T10:47:43.186Z"
   },
   {
    "duration": 8,
    "start_time": "2022-03-27T10:48:02.736Z"
   },
   {
    "duration": 6,
    "start_time": "2022-03-27T10:51:56.349Z"
   },
   {
    "duration": 7,
    "start_time": "2022-03-27T10:52:04.850Z"
   },
   {
    "duration": 8,
    "start_time": "2022-03-27T10:52:52.781Z"
   },
   {
    "duration": 4,
    "start_time": "2022-03-27T12:15:35.476Z"
   },
   {
    "duration": 20,
    "start_time": "2022-03-27T12:15:48.425Z"
   },
   {
    "duration": 74,
    "start_time": "2022-03-27T13:10:06.557Z"
   },
   {
    "duration": 576,
    "start_time": "2022-03-27T13:10:11.911Z"
   },
   {
    "duration": 31,
    "start_time": "2022-03-27T13:10:12.490Z"
   },
   {
    "duration": 25,
    "start_time": "2022-03-27T13:10:12.524Z"
   },
   {
    "duration": 36,
    "start_time": "2022-03-27T13:10:12.553Z"
   },
   {
    "duration": 26,
    "start_time": "2022-03-27T13:10:12.592Z"
   },
   {
    "duration": 16,
    "start_time": "2022-03-27T13:10:12.621Z"
   },
   {
    "duration": 65,
    "start_time": "2022-03-27T13:10:12.639Z"
   },
   {
    "duration": 17,
    "start_time": "2022-03-27T13:10:12.706Z"
   },
   {
    "duration": 25,
    "start_time": "2022-03-27T13:10:12.725Z"
   },
   {
    "duration": 40,
    "start_time": "2022-03-27T13:10:12.754Z"
   },
   {
    "duration": 14,
    "start_time": "2022-03-27T13:10:12.796Z"
   },
   {
    "duration": 19,
    "start_time": "2022-03-27T13:10:12.812Z"
   },
   {
    "duration": 7,
    "start_time": "2022-03-27T13:10:12.834Z"
   },
   {
    "duration": 46,
    "start_time": "2022-03-27T13:10:12.843Z"
   },
   {
    "duration": 22,
    "start_time": "2022-03-27T13:10:12.892Z"
   },
   {
    "duration": 9,
    "start_time": "2022-03-27T13:10:12.917Z"
   },
   {
    "duration": 10,
    "start_time": "2022-03-27T13:14:35.283Z"
   },
   {
    "duration": 9,
    "start_time": "2022-03-27T13:18:00.340Z"
   },
   {
    "duration": 70,
    "start_time": "2022-03-27T13:21:23.260Z"
   },
   {
    "duration": 20,
    "start_time": "2022-03-27T13:21:23.333Z"
   },
   {
    "duration": 44,
    "start_time": "2022-03-27T13:21:23.355Z"
   },
   {
    "duration": 8,
    "start_time": "2022-03-27T13:21:23.401Z"
   },
   {
    "duration": 49,
    "start_time": "2022-03-27T13:21:23.412Z"
   },
   {
    "duration": 24,
    "start_time": "2022-03-27T13:21:23.464Z"
   },
   {
    "duration": 27,
    "start_time": "2022-03-27T13:21:23.490Z"
   },
   {
    "duration": 37,
    "start_time": "2022-03-27T13:21:23.520Z"
   },
   {
    "duration": 15,
    "start_time": "2022-03-27T13:21:23.559Z"
   },
   {
    "duration": 37,
    "start_time": "2022-03-27T13:21:23.576Z"
   },
   {
    "duration": 16,
    "start_time": "2022-03-27T13:21:23.615Z"
   },
   {
    "duration": 19,
    "start_time": "2022-03-27T13:21:23.633Z"
   },
   {
    "duration": 30,
    "start_time": "2022-03-27T13:21:23.655Z"
   },
   {
    "duration": 25,
    "start_time": "2022-03-27T13:21:23.690Z"
   },
   {
    "duration": 34,
    "start_time": "2022-03-27T13:21:23.718Z"
   },
   {
    "duration": 25,
    "start_time": "2022-03-27T13:21:23.754Z"
   },
   {
    "duration": 12,
    "start_time": "2022-03-27T13:21:23.781Z"
   },
   {
    "duration": 14,
    "start_time": "2022-03-27T13:25:57.257Z"
   },
   {
    "duration": 15,
    "start_time": "2022-03-27T13:42:48.573Z"
   },
   {
    "duration": 67,
    "start_time": "2022-03-27T13:42:51.570Z"
   },
   {
    "duration": 20,
    "start_time": "2022-03-27T13:42:51.640Z"
   },
   {
    "duration": 47,
    "start_time": "2022-03-27T13:42:51.662Z"
   },
   {
    "duration": 9,
    "start_time": "2022-03-27T13:42:51.712Z"
   },
   {
    "duration": 43,
    "start_time": "2022-03-27T13:42:51.723Z"
   },
   {
    "duration": 19,
    "start_time": "2022-03-27T13:42:51.768Z"
   },
   {
    "duration": 39,
    "start_time": "2022-03-27T13:42:51.790Z"
   },
   {
    "duration": 23,
    "start_time": "2022-03-27T13:42:51.831Z"
   },
   {
    "duration": 39,
    "start_time": "2022-03-27T13:42:51.858Z"
   },
   {
    "duration": 12,
    "start_time": "2022-03-27T13:42:51.899Z"
   },
   {
    "duration": 16,
    "start_time": "2022-03-27T13:42:51.913Z"
   },
   {
    "duration": 45,
    "start_time": "2022-03-27T13:42:51.932Z"
   },
   {
    "duration": 25,
    "start_time": "2022-03-27T13:42:51.979Z"
   },
   {
    "duration": 25,
    "start_time": "2022-03-27T13:42:52.006Z"
   },
   {
    "duration": 27,
    "start_time": "2022-03-27T13:42:52.033Z"
   },
   {
    "duration": 33,
    "start_time": "2022-03-27T13:42:52.062Z"
   },
   {
    "duration": 13,
    "start_time": "2022-03-27T13:42:52.098Z"
   },
   {
    "duration": 95,
    "start_time": "2022-03-27T13:42:52.113Z"
   },
   {
    "duration": 67,
    "start_time": "2022-03-27T13:51:47.045Z"
   },
   {
    "duration": 20,
    "start_time": "2022-03-27T13:51:47.114Z"
   },
   {
    "duration": 26,
    "start_time": "2022-03-27T13:51:47.138Z"
   },
   {
    "duration": 7,
    "start_time": "2022-03-27T13:51:47.184Z"
   },
   {
    "duration": 24,
    "start_time": "2022-03-27T13:51:47.194Z"
   },
   {
    "duration": 94,
    "start_time": "2022-03-27T13:51:47.220Z"
   },
   {
    "duration": 0,
    "start_time": "2022-03-27T13:51:47.316Z"
   },
   {
    "duration": 0,
    "start_time": "2022-03-27T13:51:47.318Z"
   },
   {
    "duration": 0,
    "start_time": "2022-03-27T13:51:47.320Z"
   },
   {
    "duration": 0,
    "start_time": "2022-03-27T13:51:47.321Z"
   },
   {
    "duration": 0,
    "start_time": "2022-03-27T13:51:47.323Z"
   },
   {
    "duration": 15,
    "start_time": "2022-03-27T13:51:47.338Z"
   },
   {
    "duration": 8,
    "start_time": "2022-03-27T13:51:47.356Z"
   },
   {
    "duration": 10,
    "start_time": "2022-03-27T13:51:47.384Z"
   },
   {
    "duration": 9,
    "start_time": "2022-03-27T13:51:47.396Z"
   },
   {
    "duration": 91,
    "start_time": "2022-03-27T13:51:47.408Z"
   },
   {
    "duration": 0,
    "start_time": "2022-03-27T13:51:47.502Z"
   },
   {
    "duration": 0,
    "start_time": "2022-03-27T13:51:47.504Z"
   },
   {
    "duration": 101,
    "start_time": "2022-03-27T13:52:40.696Z"
   },
   {
    "duration": 117,
    "start_time": "2022-03-27T13:52:58.554Z"
   },
   {
    "duration": 101,
    "start_time": "2022-03-27T13:53:24.363Z"
   },
   {
    "duration": 95,
    "start_time": "2022-03-27T13:53:47.944Z"
   },
   {
    "duration": 107,
    "start_time": "2022-03-27T13:54:21.391Z"
   },
   {
    "duration": 16,
    "start_time": "2022-03-27T13:55:10.449Z"
   },
   {
    "duration": 67,
    "start_time": "2022-03-27T13:55:18.560Z"
   },
   {
    "duration": 19,
    "start_time": "2022-03-27T13:55:18.630Z"
   },
   {
    "duration": 39,
    "start_time": "2022-03-27T13:55:18.651Z"
   },
   {
    "duration": 8,
    "start_time": "2022-03-27T13:55:18.693Z"
   },
   {
    "duration": 24,
    "start_time": "2022-03-27T13:55:18.703Z"
   },
   {
    "duration": 14,
    "start_time": "2022-03-27T13:55:18.729Z"
   },
   {
    "duration": 60,
    "start_time": "2022-03-27T13:55:18.745Z"
   },
   {
    "duration": 17,
    "start_time": "2022-03-27T13:55:18.807Z"
   },
   {
    "duration": 61,
    "start_time": "2022-03-27T13:55:18.827Z"
   },
   {
    "duration": 11,
    "start_time": "2022-03-27T13:55:18.891Z"
   },
   {
    "duration": 9,
    "start_time": "2022-03-27T13:55:18.904Z"
   },
   {
    "duration": 15,
    "start_time": "2022-03-27T13:55:18.915Z"
   },
   {
    "duration": 6,
    "start_time": "2022-03-27T13:55:18.932Z"
   },
   {
    "duration": 9,
    "start_time": "2022-03-27T13:55:18.984Z"
   },
   {
    "duration": 10,
    "start_time": "2022-03-27T13:55:18.995Z"
   },
   {
    "duration": 23,
    "start_time": "2022-03-27T13:55:19.008Z"
   },
   {
    "duration": 10,
    "start_time": "2022-03-27T13:55:19.033Z"
   },
   {
    "duration": 96,
    "start_time": "2022-03-27T13:55:19.085Z"
   },
   {
    "duration": 52,
    "start_time": "2022-03-27T14:52:30.719Z"
   },
   {
    "duration": 518,
    "start_time": "2022-03-27T14:52:36.003Z"
   },
   {
    "duration": 22,
    "start_time": "2022-03-27T14:52:36.523Z"
   },
   {
    "duration": 16,
    "start_time": "2022-03-27T14:52:36.547Z"
   },
   {
    "duration": 8,
    "start_time": "2022-03-27T14:52:36.566Z"
   },
   {
    "duration": 38,
    "start_time": "2022-03-27T14:52:36.576Z"
   },
   {
    "duration": 15,
    "start_time": "2022-03-27T14:52:36.616Z"
   },
   {
    "duration": 25,
    "start_time": "2022-03-27T14:52:36.633Z"
   },
   {
    "duration": 43,
    "start_time": "2022-03-27T14:52:36.660Z"
   },
   {
    "duration": 20,
    "start_time": "2022-03-27T14:52:36.705Z"
   },
   {
    "duration": 9,
    "start_time": "2022-03-27T14:52:36.728Z"
   },
   {
    "duration": 7,
    "start_time": "2022-03-27T14:52:36.739Z"
   },
   {
    "duration": 14,
    "start_time": "2022-03-27T14:52:36.748Z"
   },
   {
    "duration": 6,
    "start_time": "2022-03-27T14:52:36.800Z"
   },
   {
    "duration": 8,
    "start_time": "2022-03-27T14:52:36.808Z"
   },
   {
    "duration": 9,
    "start_time": "2022-03-27T14:52:36.819Z"
   },
   {
    "duration": 18,
    "start_time": "2022-03-27T14:52:36.830Z"
   },
   {
    "duration": 7,
    "start_time": "2022-03-27T14:52:36.850Z"
   },
   {
    "duration": 131,
    "start_time": "2022-03-27T14:52:36.859Z"
   },
   {
    "duration": 13,
    "start_time": "2022-03-27T14:53:25.052Z"
   },
   {
    "duration": 62,
    "start_time": "2022-03-27T14:53:40.529Z"
   },
   {
    "duration": 15,
    "start_time": "2022-03-27T14:53:40.593Z"
   },
   {
    "duration": 17,
    "start_time": "2022-03-27T14:53:40.610Z"
   },
   {
    "duration": 6,
    "start_time": "2022-03-27T14:53:40.630Z"
   },
   {
    "duration": 15,
    "start_time": "2022-03-27T14:53:40.638Z"
   },
   {
    "duration": 11,
    "start_time": "2022-03-27T14:53:40.655Z"
   },
   {
    "duration": 46,
    "start_time": "2022-03-27T14:53:40.667Z"
   },
   {
    "duration": 11,
    "start_time": "2022-03-27T14:53:40.715Z"
   },
   {
    "duration": 20,
    "start_time": "2022-03-27T14:53:40.728Z"
   },
   {
    "duration": 8,
    "start_time": "2022-03-27T14:53:40.750Z"
   },
   {
    "duration": 41,
    "start_time": "2022-03-27T14:53:40.760Z"
   },
   {
    "duration": 13,
    "start_time": "2022-03-27T14:53:40.803Z"
   },
   {
    "duration": 4,
    "start_time": "2022-03-27T14:53:40.818Z"
   },
   {
    "duration": 13,
    "start_time": "2022-03-27T14:53:40.824Z"
   },
   {
    "duration": 8,
    "start_time": "2022-03-27T14:53:40.839Z"
   },
   {
    "duration": 55,
    "start_time": "2022-03-27T14:53:40.849Z"
   },
   {
    "duration": 8,
    "start_time": "2022-03-27T14:53:40.905Z"
   },
   {
    "duration": 128,
    "start_time": "2022-03-27T14:53:40.915Z"
   },
   {
    "duration": 14,
    "start_time": "2022-03-27T15:05:26.934Z"
   },
   {
    "duration": 54,
    "start_time": "2022-03-27T15:05:33.810Z"
   },
   {
    "duration": 13,
    "start_time": "2022-03-27T15:05:33.866Z"
   },
   {
    "duration": 27,
    "start_time": "2022-03-27T15:05:33.881Z"
   },
   {
    "duration": 7,
    "start_time": "2022-03-27T15:05:33.910Z"
   },
   {
    "duration": 17,
    "start_time": "2022-03-27T15:05:33.919Z"
   },
   {
    "duration": 10,
    "start_time": "2022-03-27T15:05:33.938Z"
   },
   {
    "duration": 16,
    "start_time": "2022-03-27T15:05:33.950Z"
   },
   {
    "duration": 13,
    "start_time": "2022-03-27T15:05:34.009Z"
   },
   {
    "duration": 20,
    "start_time": "2022-03-27T15:05:34.024Z"
   },
   {
    "duration": 8,
    "start_time": "2022-03-27T15:05:34.045Z"
   },
   {
    "duration": 7,
    "start_time": "2022-03-27T15:05:34.056Z"
   },
   {
    "duration": 12,
    "start_time": "2022-03-27T15:05:34.106Z"
   },
   {
    "duration": 4,
    "start_time": "2022-03-27T15:05:34.120Z"
   },
   {
    "duration": 12,
    "start_time": "2022-03-27T15:05:34.125Z"
   },
   {
    "duration": 16,
    "start_time": "2022-03-27T15:05:34.139Z"
   },
   {
    "duration": 6,
    "start_time": "2022-03-27T15:05:34.157Z"
   },
   {
    "duration": 43,
    "start_time": "2022-03-27T15:05:34.165Z"
   },
   {
    "duration": 137,
    "start_time": "2022-03-27T15:05:34.210Z"
   },
   {
    "duration": 150,
    "start_time": "2022-03-27T15:12:16.299Z"
   },
   {
    "duration": 12,
    "start_time": "2022-03-27T15:12:22.053Z"
   },
   {
    "duration": 16,
    "start_time": "2022-03-27T15:12:31.913Z"
   },
   {
    "duration": 63,
    "start_time": "2022-03-27T15:16:35.696Z"
   },
   {
    "duration": 14,
    "start_time": "2022-03-27T15:16:35.762Z"
   },
   {
    "duration": 25,
    "start_time": "2022-03-27T15:16:35.782Z"
   },
   {
    "duration": 7,
    "start_time": "2022-03-27T15:16:35.810Z"
   },
   {
    "duration": 22,
    "start_time": "2022-03-27T15:16:35.819Z"
   },
   {
    "duration": 11,
    "start_time": "2022-03-27T15:16:35.842Z"
   },
   {
    "duration": 19,
    "start_time": "2022-03-27T15:16:35.855Z"
   },
   {
    "duration": 11,
    "start_time": "2022-03-27T15:16:36.011Z"
   },
   {
    "duration": 18,
    "start_time": "2022-03-27T15:16:36.766Z"
   },
   {
    "duration": 8,
    "start_time": "2022-03-27T15:16:36.787Z"
   },
   {
    "duration": 21,
    "start_time": "2022-03-27T15:16:36.797Z"
   },
   {
    "duration": 11,
    "start_time": "2022-03-27T15:16:36.820Z"
   },
   {
    "duration": 6,
    "start_time": "2022-03-27T15:16:36.833Z"
   },
   {
    "duration": 10,
    "start_time": "2022-03-27T15:16:36.840Z"
   },
   {
    "duration": 7,
    "start_time": "2022-03-27T15:16:36.851Z"
   },
   {
    "duration": 13,
    "start_time": "2022-03-27T15:16:36.860Z"
   },
   {
    "duration": 39,
    "start_time": "2022-03-27T15:16:36.875Z"
   },
   {
    "duration": 58,
    "start_time": "2022-03-27T15:26:53.645Z"
   },
   {
    "duration": 13,
    "start_time": "2022-03-27T15:26:53.705Z"
   },
   {
    "duration": 22,
    "start_time": "2022-03-27T15:26:53.720Z"
   },
   {
    "duration": 5,
    "start_time": "2022-03-27T15:26:53.745Z"
   },
   {
    "duration": 20,
    "start_time": "2022-03-27T15:26:53.752Z"
   },
   {
    "duration": 33,
    "start_time": "2022-03-27T15:26:53.774Z"
   },
   {
    "duration": 19,
    "start_time": "2022-03-27T15:26:53.808Z"
   },
   {
    "duration": 11,
    "start_time": "2022-03-27T15:26:53.830Z"
   },
   {
    "duration": 20,
    "start_time": "2022-03-27T15:26:53.843Z"
   },
   {
    "duration": 43,
    "start_time": "2022-03-27T15:26:53.865Z"
   },
   {
    "duration": 8,
    "start_time": "2022-03-27T15:26:53.910Z"
   },
   {
    "duration": 13,
    "start_time": "2022-03-27T15:26:53.920Z"
   },
   {
    "duration": 11,
    "start_time": "2022-03-27T15:26:53.935Z"
   },
   {
    "duration": 7,
    "start_time": "2022-03-27T15:26:53.948Z"
   },
   {
    "duration": 7,
    "start_time": "2022-03-27T15:26:53.957Z"
   },
   {
    "duration": 44,
    "start_time": "2022-03-27T15:26:53.966Z"
   },
   {
    "duration": 1124,
    "start_time": "2022-03-27T15:26:54.012Z"
   },
   {
    "duration": 0,
    "start_time": "2022-03-27T15:26:55.137Z"
   },
   {
    "duration": 0,
    "start_time": "2022-03-27T15:26:55.139Z"
   },
   {
    "duration": 1236,
    "start_time": "2022-03-27T15:33:52.534Z"
   },
   {
    "duration": 8,
    "start_time": "2022-03-27T15:34:19.740Z"
   },
   {
    "duration": 11,
    "start_time": "2022-03-27T15:34:28.291Z"
   },
   {
    "duration": 15,
    "start_time": "2022-03-27T15:34:50.402Z"
   },
   {
    "duration": 10,
    "start_time": "2022-03-27T15:35:19.866Z"
   },
   {
    "duration": 10,
    "start_time": "2022-03-27T15:35:39.800Z"
   },
   {
    "duration": 13,
    "start_time": "2022-03-27T15:38:22.848Z"
   },
   {
    "duration": 18,
    "start_time": "2022-03-27T15:38:38.400Z"
   },
   {
    "duration": 144,
    "start_time": "2022-03-27T15:44:35.229Z"
   },
   {
    "duration": 36,
    "start_time": "2022-03-27T15:44:51.495Z"
   },
   {
    "duration": 61,
    "start_time": "2022-03-27T15:45:18.972Z"
   },
   {
    "duration": 14,
    "start_time": "2022-03-27T15:45:19.035Z"
   },
   {
    "duration": 20,
    "start_time": "2022-03-27T15:45:19.051Z"
   },
   {
    "duration": 6,
    "start_time": "2022-03-27T15:45:19.073Z"
   },
   {
    "duration": 17,
    "start_time": "2022-03-27T15:45:19.100Z"
   },
   {
    "duration": 12,
    "start_time": "2022-03-27T15:45:19.119Z"
   },
   {
    "duration": 16,
    "start_time": "2022-03-27T15:45:19.133Z"
   },
   {
    "duration": 11,
    "start_time": "2022-03-27T15:45:19.523Z"
   },
   {
    "duration": 19,
    "start_time": "2022-03-27T15:45:19.537Z"
   },
   {
    "duration": 9,
    "start_time": "2022-03-27T15:45:19.558Z"
   },
   {
    "duration": 9,
    "start_time": "2022-03-27T15:45:19.569Z"
   },
   {
    "duration": 29,
    "start_time": "2022-03-27T15:45:19.580Z"
   },
   {
    "duration": 5,
    "start_time": "2022-03-27T15:45:19.611Z"
   },
   {
    "duration": 10,
    "start_time": "2022-03-27T15:45:19.618Z"
   },
   {
    "duration": 8,
    "start_time": "2022-03-27T15:45:19.630Z"
   },
   {
    "duration": 12,
    "start_time": "2022-03-27T15:45:19.640Z"
   },
   {
    "duration": 79,
    "start_time": "2022-03-27T15:45:19.655Z"
   },
   {
    "duration": 36,
    "start_time": "2022-03-27T15:51:32.211Z"
   },
   {
    "duration": 49,
    "start_time": "2022-03-27T15:53:31.735Z"
   },
   {
    "duration": 48,
    "start_time": "2022-03-27T15:54:54.729Z"
   },
   {
    "duration": 12,
    "start_time": "2022-03-27T15:55:10.722Z"
   },
   {
    "duration": 12,
    "start_time": "2022-03-27T15:55:18.196Z"
   },
   {
    "duration": 12,
    "start_time": "2022-03-27T15:55:25.019Z"
   },
   {
    "duration": 50,
    "start_time": "2022-03-27T15:55:41.246Z"
   },
   {
    "duration": 16,
    "start_time": "2022-03-27T15:56:37.045Z"
   },
   {
    "duration": 60,
    "start_time": "2022-03-27T15:56:55.466Z"
   },
   {
    "duration": 14,
    "start_time": "2022-03-27T15:56:55.528Z"
   },
   {
    "duration": 17,
    "start_time": "2022-03-27T15:56:55.543Z"
   },
   {
    "duration": 6,
    "start_time": "2022-03-27T15:56:55.569Z"
   },
   {
    "duration": 36,
    "start_time": "2022-03-27T15:56:55.577Z"
   },
   {
    "duration": 12,
    "start_time": "2022-03-27T15:56:55.615Z"
   },
   {
    "duration": 16,
    "start_time": "2022-03-27T15:56:55.629Z"
   },
   {
    "duration": 12,
    "start_time": "2022-03-27T15:56:55.664Z"
   },
   {
    "duration": 36,
    "start_time": "2022-03-27T15:56:55.678Z"
   },
   {
    "duration": 9,
    "start_time": "2022-03-27T15:56:55.715Z"
   },
   {
    "duration": 7,
    "start_time": "2022-03-27T15:56:55.726Z"
   },
   {
    "duration": 11,
    "start_time": "2022-03-27T15:56:55.763Z"
   },
   {
    "duration": 7,
    "start_time": "2022-03-27T15:56:55.776Z"
   },
   {
    "duration": 18,
    "start_time": "2022-03-27T15:56:55.785Z"
   },
   {
    "duration": 6,
    "start_time": "2022-03-27T15:56:55.805Z"
   },
   {
    "duration": 14,
    "start_time": "2022-03-27T15:56:55.814Z"
   },
   {
    "duration": 51,
    "start_time": "2022-03-27T15:56:55.858Z"
   },
   {
    "duration": 13,
    "start_time": "2022-03-27T15:56:55.911Z"
   },
   {
    "duration": 0,
    "start_time": "2022-03-27T15:56:55.926Z"
   },
   {
    "duration": 0,
    "start_time": "2022-03-27T15:56:55.927Z"
   },
   {
    "duration": 66,
    "start_time": "2022-03-27T15:58:52.932Z"
   },
   {
    "duration": 71,
    "start_time": "2022-03-27T16:00:50.117Z"
   },
   {
    "duration": 67,
    "start_time": "2022-03-27T16:01:45.444Z"
   },
   {
    "duration": 456,
    "start_time": "2022-03-28T01:21:17.526Z"
   },
   {
    "duration": 20,
    "start_time": "2022-03-28T01:21:17.984Z"
   },
   {
    "duration": 21,
    "start_time": "2022-03-28T01:21:18.005Z"
   },
   {
    "duration": 6,
    "start_time": "2022-03-28T01:21:18.028Z"
   },
   {
    "duration": 35,
    "start_time": "2022-03-28T01:21:18.035Z"
   },
   {
    "duration": 10,
    "start_time": "2022-03-28T01:21:18.071Z"
   },
   {
    "duration": 34,
    "start_time": "2022-03-28T01:21:18.083Z"
   },
   {
    "duration": 12,
    "start_time": "2022-03-28T01:21:18.119Z"
   },
   {
    "duration": 31,
    "start_time": "2022-03-28T01:21:18.133Z"
   },
   {
    "duration": 8,
    "start_time": "2022-03-28T01:21:18.167Z"
   },
   {
    "duration": 13,
    "start_time": "2022-03-28T01:21:18.177Z"
   },
   {
    "duration": 31,
    "start_time": "2022-03-28T01:21:18.191Z"
   },
   {
    "duration": 11,
    "start_time": "2022-03-28T01:21:18.223Z"
   },
   {
    "duration": 24,
    "start_time": "2022-03-28T01:21:18.235Z"
   },
   {
    "duration": 26,
    "start_time": "2022-03-28T01:21:18.261Z"
   },
   {
    "duration": 18,
    "start_time": "2022-03-28T01:21:18.289Z"
   },
   {
    "duration": 62,
    "start_time": "2022-03-28T01:21:18.308Z"
   },
   {
    "duration": 88,
    "start_time": "2022-03-28T01:21:18.371Z"
   },
   {
    "duration": 0,
    "start_time": "2022-03-28T01:21:18.461Z"
   },
   {
    "duration": 0,
    "start_time": "2022-03-28T01:21:18.462Z"
   },
   {
    "duration": 511,
    "start_time": "2022-03-29T00:34:27.215Z"
   },
   {
    "duration": 28,
    "start_time": "2022-03-29T00:34:27.729Z"
   },
   {
    "duration": 36,
    "start_time": "2022-03-29T00:34:27.759Z"
   },
   {
    "duration": 19,
    "start_time": "2022-03-29T00:34:27.798Z"
   },
   {
    "duration": 36,
    "start_time": "2022-03-29T00:34:27.820Z"
   },
   {
    "duration": 31,
    "start_time": "2022-03-29T00:34:27.858Z"
   },
   {
    "duration": 41,
    "start_time": "2022-03-29T00:34:27.891Z"
   },
   {
    "duration": 31,
    "start_time": "2022-03-29T00:34:27.934Z"
   },
   {
    "duration": 43,
    "start_time": "2022-03-29T00:34:27.968Z"
   },
   {
    "duration": 36,
    "start_time": "2022-03-29T00:34:28.013Z"
   },
   {
    "duration": 36,
    "start_time": "2022-03-29T00:34:28.051Z"
   },
   {
    "duration": 51,
    "start_time": "2022-03-29T00:34:28.089Z"
   },
   {
    "duration": 30,
    "start_time": "2022-03-29T00:34:28.142Z"
   },
   {
    "duration": 41,
    "start_time": "2022-03-29T00:34:28.175Z"
   },
   {
    "duration": 30,
    "start_time": "2022-03-29T00:34:28.218Z"
   },
   {
    "duration": 36,
    "start_time": "2022-03-29T00:34:28.250Z"
   },
   {
    "duration": 45,
    "start_time": "2022-03-29T00:34:28.289Z"
   },
   {
    "duration": 23,
    "start_time": "2022-03-29T00:34:28.337Z"
   },
   {
    "duration": 60,
    "start_time": "2022-03-29T00:34:28.362Z"
   },
   {
    "duration": 131,
    "start_time": "2022-03-29T00:34:28.425Z"
   },
   {
    "duration": 64,
    "start_time": "2022-03-29T00:34:47.033Z"
   },
   {
    "duration": 18,
    "start_time": "2022-03-29T00:34:47.099Z"
   },
   {
    "duration": 21,
    "start_time": "2022-03-29T00:34:47.119Z"
   },
   {
    "duration": 7,
    "start_time": "2022-03-29T00:34:47.142Z"
   },
   {
    "duration": 44,
    "start_time": "2022-03-29T00:34:47.151Z"
   },
   {
    "duration": 14,
    "start_time": "2022-03-29T00:34:47.197Z"
   },
   {
    "duration": 23,
    "start_time": "2022-03-29T00:34:47.213Z"
   },
   {
    "duration": 45,
    "start_time": "2022-03-29T00:34:47.238Z"
   },
   {
    "duration": 22,
    "start_time": "2022-03-29T00:34:47.285Z"
   },
   {
    "duration": 10,
    "start_time": "2022-03-29T00:34:47.310Z"
   },
   {
    "duration": 7,
    "start_time": "2022-03-29T00:34:47.322Z"
   },
   {
    "duration": 54,
    "start_time": "2022-03-29T00:34:47.332Z"
   },
   {
    "duration": 6,
    "start_time": "2022-03-29T00:34:47.388Z"
   },
   {
    "duration": 11,
    "start_time": "2022-03-29T00:34:47.396Z"
   },
   {
    "duration": 9,
    "start_time": "2022-03-29T00:34:47.410Z"
   },
   {
    "duration": 68,
    "start_time": "2022-03-29T00:34:47.421Z"
   },
   {
    "duration": 34,
    "start_time": "2022-03-29T00:34:47.492Z"
   },
   {
    "duration": 3,
    "start_time": "2022-03-29T00:34:47.529Z"
   },
   {
    "duration": 7,
    "start_time": "2022-03-29T00:34:47.535Z"
   },
   {
    "duration": 38,
    "start_time": "2022-03-29T00:34:47.544Z"
   },
   {
    "duration": 1067,
    "start_time": "2022-03-29T00:35:50.906Z"
   },
   {
    "duration": 31,
    "start_time": "2022-03-29T00:38:42.933Z"
   },
   {
    "duration": 1054,
    "start_time": "2022-03-29T00:39:33.924Z"
   },
   {
    "duration": 21,
    "start_time": "2022-03-29T00:39:43.687Z"
   },
   {
    "duration": 46,
    "start_time": "2022-03-29T00:44:50.574Z"
   },
   {
    "duration": 47,
    "start_time": "2022-03-29T00:45:31.247Z"
   },
   {
    "duration": 46,
    "start_time": "2022-03-29T00:49:29.594Z"
   },
   {
    "duration": 45,
    "start_time": "2022-03-29T00:49:44.769Z"
   },
   {
    "duration": 38,
    "start_time": "2022-03-29T00:49:52.591Z"
   },
   {
    "duration": 48,
    "start_time": "2022-03-29T00:50:00.751Z"
   },
   {
    "duration": 53,
    "start_time": "2022-03-29T00:51:07.085Z"
   },
   {
    "duration": 55,
    "start_time": "2022-03-29T00:51:14.383Z"
   },
   {
    "duration": 41,
    "start_time": "2022-03-29T00:51:58.505Z"
   },
   {
    "duration": 22,
    "start_time": "2022-03-29T00:53:21.860Z"
   },
   {
    "duration": 67,
    "start_time": "2022-03-29T00:59:49.822Z"
   },
   {
    "duration": 18,
    "start_time": "2022-03-29T00:59:49.891Z"
   },
   {
    "duration": 20,
    "start_time": "2022-03-29T00:59:49.911Z"
   },
   {
    "duration": 7,
    "start_time": "2022-03-29T00:59:49.934Z"
   },
   {
    "duration": 49,
    "start_time": "2022-03-29T00:59:49.943Z"
   },
   {
    "duration": 13,
    "start_time": "2022-03-29T00:59:49.994Z"
   },
   {
    "duration": 22,
    "start_time": "2022-03-29T00:59:50.009Z"
   },
   {
    "duration": 15,
    "start_time": "2022-03-29T00:59:50.034Z"
   },
   {
    "duration": 23,
    "start_time": "2022-03-29T00:59:50.082Z"
   },
   {
    "duration": 10,
    "start_time": "2022-03-29T00:59:50.108Z"
   },
   {
    "duration": 21,
    "start_time": "2022-03-29T00:59:50.120Z"
   },
   {
    "duration": 15,
    "start_time": "2022-03-29T00:59:50.143Z"
   },
   {
    "duration": 25,
    "start_time": "2022-03-29T00:59:50.160Z"
   },
   {
    "duration": 10,
    "start_time": "2022-03-29T00:59:50.187Z"
   },
   {
    "duration": 11,
    "start_time": "2022-03-29T00:59:50.199Z"
   },
   {
    "duration": 69,
    "start_time": "2022-03-29T00:59:50.213Z"
   },
   {
    "duration": 18,
    "start_time": "2022-03-29T00:59:50.284Z"
   },
   {
    "duration": 3,
    "start_time": "2022-03-29T00:59:50.304Z"
   },
   {
    "duration": 5,
    "start_time": "2022-03-29T00:59:50.309Z"
   },
   {
    "duration": 6,
    "start_time": "2022-03-29T00:59:50.316Z"
   },
   {
    "duration": 22,
    "start_time": "2022-03-29T01:01:24.661Z"
   },
   {
    "duration": 17,
    "start_time": "2022-03-29T01:02:51.138Z"
   },
   {
    "duration": 24,
    "start_time": "2022-03-29T01:03:47.822Z"
   },
   {
    "duration": 24,
    "start_time": "2022-03-29T01:03:58.218Z"
   },
   {
    "duration": 24,
    "start_time": "2022-03-29T01:05:23.290Z"
   },
   {
    "duration": 25,
    "start_time": "2022-03-29T01:11:52.318Z"
   },
   {
    "duration": 49,
    "start_time": "2022-03-29T01:13:04.668Z"
   },
   {
    "duration": 9,
    "start_time": "2022-03-29T01:19:24.560Z"
   },
   {
    "duration": 10,
    "start_time": "2022-03-29T01:20:05.848Z"
   },
   {
    "duration": 12,
    "start_time": "2022-03-29T01:22:26.873Z"
   },
   {
    "duration": 19,
    "start_time": "2022-03-29T01:24:05.550Z"
   },
   {
    "duration": 17,
    "start_time": "2022-03-29T01:24:29.894Z"
   },
   {
    "duration": 17,
    "start_time": "2022-03-29T01:25:33.534Z"
   },
   {
    "duration": 26,
    "start_time": "2022-03-29T01:26:41.230Z"
   },
   {
    "duration": 22,
    "start_time": "2022-03-29T01:29:24.994Z"
   },
   {
    "duration": 10,
    "start_time": "2022-03-29T01:29:29.201Z"
   },
   {
    "duration": 71,
    "start_time": "2022-03-29T01:29:37.257Z"
   },
   {
    "duration": 18,
    "start_time": "2022-03-29T01:29:37.330Z"
   },
   {
    "duration": 49,
    "start_time": "2022-03-29T01:29:37.351Z"
   },
   {
    "duration": 7,
    "start_time": "2022-03-29T01:29:37.404Z"
   },
   {
    "duration": 20,
    "start_time": "2022-03-29T01:29:37.413Z"
   },
   {
    "duration": 53,
    "start_time": "2022-03-29T01:29:37.435Z"
   },
   {
    "duration": 22,
    "start_time": "2022-03-29T01:29:37.490Z"
   },
   {
    "duration": 14,
    "start_time": "2022-03-29T01:29:37.514Z"
   },
   {
    "duration": 66,
    "start_time": "2022-03-29T01:29:37.530Z"
   },
   {
    "duration": 11,
    "start_time": "2022-03-29T01:29:37.600Z"
   },
   {
    "duration": 10,
    "start_time": "2022-03-29T01:29:37.613Z"
   },
   {
    "duration": 14,
    "start_time": "2022-03-29T01:29:37.625Z"
   },
   {
    "duration": 45,
    "start_time": "2022-03-29T01:29:37.641Z"
   },
   {
    "duration": 21,
    "start_time": "2022-03-29T01:29:37.688Z"
   },
   {
    "duration": 9,
    "start_time": "2022-03-29T01:29:37.712Z"
   },
   {
    "duration": 75,
    "start_time": "2022-03-29T01:29:37.723Z"
   },
   {
    "duration": 20,
    "start_time": "2022-03-29T01:29:37.800Z"
   },
   {
    "duration": 21,
    "start_time": "2022-03-29T01:29:37.822Z"
   },
   {
    "duration": 49,
    "start_time": "2022-03-29T01:29:37.845Z"
   },
   {
    "duration": 24,
    "start_time": "2022-03-29T01:29:37.896Z"
   },
   {
    "duration": 77,
    "start_time": "2022-03-29T01:29:37.922Z"
   },
   {
    "duration": 10,
    "start_time": "2022-03-29T01:29:38.001Z"
   },
   {
    "duration": 27,
    "start_time": "2022-03-29T01:29:38.012Z"
   },
   {
    "duration": 12,
    "start_time": "2022-03-29T01:29:38.041Z"
   },
   {
    "duration": 31,
    "start_time": "2022-03-29T01:29:38.055Z"
   },
   {
    "duration": 23,
    "start_time": "2022-03-29T01:29:38.088Z"
   },
   {
    "duration": 66,
    "start_time": "2022-03-29T01:30:30.457Z"
   },
   {
    "duration": 18,
    "start_time": "2022-03-29T01:30:30.526Z"
   },
   {
    "duration": 50,
    "start_time": "2022-03-29T01:30:30.546Z"
   },
   {
    "duration": 9,
    "start_time": "2022-03-29T01:30:30.599Z"
   },
   {
    "duration": 62,
    "start_time": "2022-03-29T01:30:30.610Z"
   },
   {
    "duration": 15,
    "start_time": "2022-03-29T01:30:30.674Z"
   },
   {
    "duration": 30,
    "start_time": "2022-03-29T01:30:30.691Z"
   },
   {
    "duration": 27,
    "start_time": "2022-03-29T01:30:30.723Z"
   },
   {
    "duration": 44,
    "start_time": "2022-03-29T01:30:30.753Z"
   },
   {
    "duration": 14,
    "start_time": "2022-03-29T01:30:30.805Z"
   },
   {
    "duration": 34,
    "start_time": "2022-03-29T01:30:30.821Z"
   },
   {
    "duration": 48,
    "start_time": "2022-03-29T01:30:30.857Z"
   },
   {
    "duration": 34,
    "start_time": "2022-03-29T01:30:30.908Z"
   },
   {
    "duration": 32,
    "start_time": "2022-03-29T01:30:30.945Z"
   },
   {
    "duration": 26,
    "start_time": "2022-03-29T01:30:30.979Z"
   },
   {
    "duration": 61,
    "start_time": "2022-03-29T01:30:31.008Z"
   },
   {
    "duration": 28,
    "start_time": "2022-03-29T01:30:31.071Z"
   },
   {
    "duration": 39,
    "start_time": "2022-03-29T01:30:31.101Z"
   },
   {
    "duration": 28,
    "start_time": "2022-03-29T01:30:31.142Z"
   },
   {
    "duration": 59,
    "start_time": "2022-03-29T01:30:31.172Z"
   },
   {
    "duration": 47,
    "start_time": "2022-03-29T01:30:31.233Z"
   },
   {
    "duration": 10,
    "start_time": "2022-03-29T01:30:31.282Z"
   },
   {
    "duration": 28,
    "start_time": "2022-03-29T01:30:31.294Z"
   },
   {
    "duration": 32,
    "start_time": "2022-03-29T01:30:31.324Z"
   },
   {
    "duration": 25,
    "start_time": "2022-03-29T01:30:31.358Z"
   },
   {
    "duration": 40,
    "start_time": "2022-03-29T01:30:31.385Z"
   },
   {
    "duration": 9,
    "start_time": "2022-03-29T01:32:15.944Z"
   },
   {
    "duration": 9,
    "start_time": "2022-03-29T01:32:31.076Z"
   },
   {
    "duration": 10,
    "start_time": "2022-03-29T01:32:55.665Z"
   },
   {
    "duration": 583,
    "start_time": "2022-03-30T05:58:16.534Z"
   },
   {
    "duration": 29,
    "start_time": "2022-03-30T05:58:17.120Z"
   },
   {
    "duration": 22,
    "start_time": "2022-03-30T05:58:17.151Z"
   },
   {
    "duration": 7,
    "start_time": "2022-03-30T05:58:17.176Z"
   },
   {
    "duration": 27,
    "start_time": "2022-03-30T05:58:17.185Z"
   },
   {
    "duration": 34,
    "start_time": "2022-03-30T05:58:17.214Z"
   },
   {
    "duration": 22,
    "start_time": "2022-03-30T05:58:17.251Z"
   },
   {
    "duration": 17,
    "start_time": "2022-03-30T05:58:17.274Z"
   },
   {
    "duration": 56,
    "start_time": "2022-03-30T05:58:17.293Z"
   },
   {
    "duration": 11,
    "start_time": "2022-03-30T05:58:17.353Z"
   },
   {
    "duration": 10,
    "start_time": "2022-03-30T05:58:17.367Z"
   },
   {
    "duration": 21,
    "start_time": "2022-03-30T05:58:17.380Z"
   },
   {
    "duration": 43,
    "start_time": "2022-03-30T05:58:17.403Z"
   },
   {
    "duration": 13,
    "start_time": "2022-03-30T05:58:17.449Z"
   },
   {
    "duration": 10,
    "start_time": "2022-03-30T05:58:17.465Z"
   },
   {
    "duration": 100,
    "start_time": "2022-03-30T05:58:17.478Z"
   },
   {
    "duration": 19,
    "start_time": "2022-03-30T05:58:17.580Z"
   },
   {
    "duration": 23,
    "start_time": "2022-03-30T05:58:17.601Z"
   },
   {
    "duration": 25,
    "start_time": "2022-03-30T05:58:17.627Z"
   },
   {
    "duration": 27,
    "start_time": "2022-03-30T05:58:17.654Z"
   },
   {
    "duration": 73,
    "start_time": "2022-03-30T05:58:17.683Z"
   },
   {
    "duration": 10,
    "start_time": "2022-03-30T05:58:17.759Z"
   },
   {
    "duration": 11,
    "start_time": "2022-03-30T05:58:17.772Z"
   },
   {
    "duration": 10,
    "start_time": "2022-03-30T05:58:17.786Z"
   },
   {
    "duration": 54,
    "start_time": "2022-03-30T05:58:17.799Z"
   },
   {
    "duration": 36,
    "start_time": "2022-03-30T05:58:17.856Z"
   },
   {
    "duration": 650,
    "start_time": "2022-03-30T09:50:48.727Z"
   },
   {
    "duration": 41,
    "start_time": "2022-03-30T09:50:49.380Z"
   },
   {
    "duration": 53,
    "start_time": "2022-03-30T09:50:49.424Z"
   },
   {
    "duration": 10,
    "start_time": "2022-03-30T09:50:49.481Z"
   },
   {
    "duration": 25,
    "start_time": "2022-03-30T09:50:49.493Z"
   },
   {
    "duration": 55,
    "start_time": "2022-03-30T09:50:49.521Z"
   },
   {
    "duration": 31,
    "start_time": "2022-03-30T09:50:49.578Z"
   },
   {
    "duration": 21,
    "start_time": "2022-03-30T09:50:49.611Z"
   },
   {
    "duration": 63,
    "start_time": "2022-03-30T09:50:49.635Z"
   },
   {
    "duration": 13,
    "start_time": "2022-03-30T09:50:49.703Z"
   },
   {
    "duration": 12,
    "start_time": "2022-03-30T09:50:49.719Z"
   },
   {
    "duration": 54,
    "start_time": "2022-03-30T09:50:49.734Z"
   },
   {
    "duration": 6,
    "start_time": "2022-03-30T09:50:49.790Z"
   },
   {
    "duration": 15,
    "start_time": "2022-03-30T09:50:49.798Z"
   },
   {
    "duration": 11,
    "start_time": "2022-03-30T09:50:49.816Z"
   },
   {
    "duration": 101,
    "start_time": "2022-03-30T09:50:49.830Z"
   },
   {
    "duration": 47,
    "start_time": "2022-03-30T09:50:49.935Z"
   },
   {
    "duration": 34,
    "start_time": "2022-03-30T09:50:49.986Z"
   },
   {
    "duration": 25,
    "start_time": "2022-03-30T09:50:50.023Z"
   },
   {
    "duration": 26,
    "start_time": "2022-03-30T09:50:50.074Z"
   },
   {
    "duration": 73,
    "start_time": "2022-03-30T09:50:50.102Z"
   },
   {
    "duration": 9,
    "start_time": "2022-03-30T09:50:50.177Z"
   },
   {
    "duration": 11,
    "start_time": "2022-03-30T09:50:50.188Z"
   },
   {
    "duration": 12,
    "start_time": "2022-03-30T09:50:50.201Z"
   },
   {
    "duration": 11,
    "start_time": "2022-03-30T09:50:50.216Z"
   },
   {
    "duration": 26,
    "start_time": "2022-03-30T09:50:50.275Z"
   },
   {
    "duration": 15,
    "start_time": "2022-03-30T09:59:11.100Z"
   },
   {
    "duration": 18,
    "start_time": "2022-03-30T10:05:44.236Z"
   },
   {
    "duration": 17,
    "start_time": "2022-03-30T10:06:39.466Z"
   },
   {
    "duration": 31,
    "start_time": "2022-03-30T10:06:58.346Z"
   },
   {
    "duration": 630,
    "start_time": "2022-03-30T12:48:04.614Z"
   },
   {
    "duration": 22,
    "start_time": "2022-03-30T12:48:05.246Z"
   },
   {
    "duration": 16,
    "start_time": "2022-03-30T12:48:05.270Z"
   },
   {
    "duration": 18,
    "start_time": "2022-03-30T12:48:05.288Z"
   },
   {
    "duration": 15,
    "start_time": "2022-03-30T12:48:05.308Z"
   },
   {
    "duration": 13,
    "start_time": "2022-03-30T12:48:05.325Z"
   },
   {
    "duration": 24,
    "start_time": "2022-03-30T12:48:05.340Z"
   },
   {
    "duration": 12,
    "start_time": "2022-03-30T12:48:05.400Z"
   },
   {
    "duration": 17,
    "start_time": "2022-03-30T12:48:05.413Z"
   },
   {
    "duration": 8,
    "start_time": "2022-03-30T12:48:05.431Z"
   },
   {
    "duration": 6,
    "start_time": "2022-03-30T12:48:05.440Z"
   },
   {
    "duration": 15,
    "start_time": "2022-03-30T12:48:05.448Z"
   },
   {
    "duration": 39,
    "start_time": "2022-03-30T12:48:05.464Z"
   },
   {
    "duration": 8,
    "start_time": "2022-03-30T12:48:05.506Z"
   },
   {
    "duration": 9,
    "start_time": "2022-03-30T12:48:05.516Z"
   },
   {
    "duration": 45,
    "start_time": "2022-03-30T12:48:05.527Z"
   },
   {
    "duration": 16,
    "start_time": "2022-03-30T12:48:05.602Z"
   },
   {
    "duration": 16,
    "start_time": "2022-03-30T12:48:05.620Z"
   },
   {
    "duration": 12,
    "start_time": "2022-03-30T12:48:05.637Z"
   },
   {
    "duration": 19,
    "start_time": "2022-03-30T12:48:05.651Z"
   },
   {
    "duration": 64,
    "start_time": "2022-03-30T12:48:05.671Z"
   },
   {
    "duration": 8,
    "start_time": "2022-03-30T12:48:05.737Z"
   },
   {
    "duration": 11,
    "start_time": "2022-03-30T12:48:05.747Z"
   },
   {
    "duration": 11,
    "start_time": "2022-03-30T12:48:05.760Z"
   },
   {
    "duration": 33,
    "start_time": "2022-03-30T12:48:05.773Z"
   },
   {
    "duration": 19,
    "start_time": "2022-03-30T12:48:05.808Z"
   },
   {
    "duration": 19,
    "start_time": "2022-03-30T12:48:05.828Z"
   },
   {
    "duration": 47,
    "start_time": "2022-03-30T14:17:34.863Z"
   },
   {
    "duration": 445,
    "start_time": "2022-03-30T14:17:41.718Z"
   },
   {
    "duration": 19,
    "start_time": "2022-03-30T14:17:42.165Z"
   },
   {
    "duration": 13,
    "start_time": "2022-03-30T14:17:42.186Z"
   },
   {
    "duration": 6,
    "start_time": "2022-03-30T14:17:42.201Z"
   },
   {
    "duration": 13,
    "start_time": "2022-03-30T14:17:42.209Z"
   },
   {
    "duration": 9,
    "start_time": "2022-03-30T14:17:42.223Z"
   },
   {
    "duration": 13,
    "start_time": "2022-03-30T14:17:42.234Z"
   },
   {
    "duration": 11,
    "start_time": "2022-03-30T14:17:42.249Z"
   },
   {
    "duration": 50,
    "start_time": "2022-03-30T14:17:42.261Z"
   },
   {
    "duration": 7,
    "start_time": "2022-03-30T14:17:42.314Z"
   },
   {
    "duration": 6,
    "start_time": "2022-03-30T14:17:42.323Z"
   },
   {
    "duration": 10,
    "start_time": "2022-03-30T14:17:42.331Z"
   },
   {
    "duration": 4,
    "start_time": "2022-03-30T14:17:42.342Z"
   },
   {
    "duration": 10,
    "start_time": "2022-03-30T14:17:42.348Z"
   },
   {
    "duration": 42,
    "start_time": "2022-03-30T14:17:42.360Z"
   },
   {
    "duration": 29,
    "start_time": "2022-03-30T14:17:42.404Z"
   },
   {
    "duration": 14,
    "start_time": "2022-03-30T14:17:42.434Z"
   },
   {
    "duration": 15,
    "start_time": "2022-03-30T14:17:42.449Z"
   },
   {
    "duration": 39,
    "start_time": "2022-03-30T14:17:42.465Z"
   },
   {
    "duration": 16,
    "start_time": "2022-03-30T14:17:42.506Z"
   },
   {
    "duration": 30,
    "start_time": "2022-03-30T14:17:42.524Z"
   },
   {
    "duration": 6,
    "start_time": "2022-03-30T14:17:42.556Z"
   },
   {
    "duration": 9,
    "start_time": "2022-03-30T14:17:42.563Z"
   },
   {
    "duration": 35,
    "start_time": "2022-03-30T14:17:42.573Z"
   },
   {
    "duration": 7,
    "start_time": "2022-03-30T14:17:42.609Z"
   },
   {
    "duration": 17,
    "start_time": "2022-03-30T14:17:42.618Z"
   },
   {
    "duration": 22,
    "start_time": "2022-03-30T14:17:42.637Z"
   },
   {
    "duration": 51,
    "start_time": "2022-03-30T14:17:42.662Z"
   },
   {
    "duration": 7,
    "start_time": "2022-03-30T14:24:52.109Z"
   },
   {
    "duration": 5,
    "start_time": "2022-03-30T14:26:38.171Z"
   },
   {
    "duration": 17,
    "start_time": "2022-03-30T14:26:52.464Z"
   },
   {
    "duration": 12,
    "start_time": "2022-03-30T14:27:28.725Z"
   },
   {
    "duration": 57,
    "start_time": "2022-03-30T14:27:40.669Z"
   },
   {
    "duration": 12,
    "start_time": "2022-03-30T14:27:40.727Z"
   },
   {
    "duration": 23,
    "start_time": "2022-03-30T14:27:40.740Z"
   },
   {
    "duration": 19,
    "start_time": "2022-03-30T14:27:40.766Z"
   },
   {
    "duration": 27,
    "start_time": "2022-03-30T14:27:40.787Z"
   },
   {
    "duration": 10,
    "start_time": "2022-03-30T14:27:40.816Z"
   },
   {
    "duration": 29,
    "start_time": "2022-03-30T14:27:40.827Z"
   },
   {
    "duration": 21,
    "start_time": "2022-03-30T14:27:40.857Z"
   },
   {
    "duration": 26,
    "start_time": "2022-03-30T14:27:40.880Z"
   },
   {
    "duration": 15,
    "start_time": "2022-03-30T14:27:40.908Z"
   },
   {
    "duration": 28,
    "start_time": "2022-03-30T14:27:40.925Z"
   },
   {
    "duration": 28,
    "start_time": "2022-03-30T14:27:40.955Z"
   },
   {
    "duration": 18,
    "start_time": "2022-03-30T14:27:40.985Z"
   },
   {
    "duration": 30,
    "start_time": "2022-03-30T14:27:41.005Z"
   },
   {
    "duration": 38,
    "start_time": "2022-03-30T14:27:41.036Z"
   },
   {
    "duration": 35,
    "start_time": "2022-03-30T14:27:41.076Z"
   },
   {
    "duration": 13,
    "start_time": "2022-03-30T14:27:41.113Z"
   },
   {
    "duration": 33,
    "start_time": "2022-03-30T14:27:41.128Z"
   },
   {
    "duration": 35,
    "start_time": "2022-03-30T14:27:41.163Z"
   },
   {
    "duration": 30,
    "start_time": "2022-03-30T14:27:41.200Z"
   },
   {
    "duration": 35,
    "start_time": "2022-03-30T14:27:41.232Z"
   },
   {
    "duration": 6,
    "start_time": "2022-03-30T14:27:41.268Z"
   },
   {
    "duration": 24,
    "start_time": "2022-03-30T14:27:41.275Z"
   },
   {
    "duration": 22,
    "start_time": "2022-03-30T14:27:41.301Z"
   },
   {
    "duration": 24,
    "start_time": "2022-03-30T14:27:41.325Z"
   },
   {
    "duration": 30,
    "start_time": "2022-03-30T14:27:41.351Z"
   },
   {
    "duration": 28,
    "start_time": "2022-03-30T14:27:41.383Z"
   },
   {
    "duration": 24,
    "start_time": "2022-03-30T14:27:41.414Z"
   },
   {
    "duration": 60,
    "start_time": "2022-03-30T14:27:53.052Z"
   },
   {
    "duration": 12,
    "start_time": "2022-03-30T14:27:53.114Z"
   },
   {
    "duration": 31,
    "start_time": "2022-03-30T14:27:53.128Z"
   },
   {
    "duration": 15,
    "start_time": "2022-03-30T14:27:53.161Z"
   },
   {
    "duration": 61,
    "start_time": "2022-03-30T14:27:53.177Z"
   },
   {
    "duration": 15,
    "start_time": "2022-03-30T14:27:53.239Z"
   },
   {
    "duration": 25,
    "start_time": "2022-03-30T14:27:53.256Z"
   },
   {
    "duration": 14,
    "start_time": "2022-03-30T14:27:53.283Z"
   },
   {
    "duration": 49,
    "start_time": "2022-03-30T14:27:53.298Z"
   },
   {
    "duration": 8,
    "start_time": "2022-03-30T14:27:53.351Z"
   },
   {
    "duration": 31,
    "start_time": "2022-03-30T14:27:53.360Z"
   },
   {
    "duration": 14,
    "start_time": "2022-03-30T14:27:53.393Z"
   },
   {
    "duration": 19,
    "start_time": "2022-03-30T14:27:53.408Z"
   },
   {
    "duration": 21,
    "start_time": "2022-03-30T14:27:53.428Z"
   },
   {
    "duration": 33,
    "start_time": "2022-03-30T14:27:53.451Z"
   },
   {
    "duration": 44,
    "start_time": "2022-03-30T14:27:53.485Z"
   },
   {
    "duration": 15,
    "start_time": "2022-03-30T14:27:53.530Z"
   },
   {
    "duration": 14,
    "start_time": "2022-03-30T14:27:53.546Z"
   },
   {
    "duration": 17,
    "start_time": "2022-03-30T14:27:53.561Z"
   },
   {
    "duration": 44,
    "start_time": "2022-03-30T14:27:53.579Z"
   },
   {
    "duration": 32,
    "start_time": "2022-03-30T14:27:53.625Z"
   },
   {
    "duration": 6,
    "start_time": "2022-03-30T14:27:53.659Z"
   },
   {
    "duration": 27,
    "start_time": "2022-03-30T14:27:53.667Z"
   },
   {
    "duration": 24,
    "start_time": "2022-03-30T14:27:53.695Z"
   },
   {
    "duration": 21,
    "start_time": "2022-03-30T14:27:53.721Z"
   },
   {
    "duration": 21,
    "start_time": "2022-03-30T14:27:53.744Z"
   },
   {
    "duration": 25,
    "start_time": "2022-03-30T14:27:53.766Z"
   },
   {
    "duration": 28,
    "start_time": "2022-03-30T14:27:53.794Z"
   },
   {
    "duration": 11,
    "start_time": "2022-03-30T14:28:03.390Z"
   },
   {
    "duration": 69,
    "start_time": "2022-03-30T14:28:34.991Z"
   },
   {
    "duration": 12,
    "start_time": "2022-03-30T14:28:35.061Z"
   },
   {
    "duration": 21,
    "start_time": "2022-03-30T14:28:35.074Z"
   },
   {
    "duration": 17,
    "start_time": "2022-03-30T14:28:35.097Z"
   },
   {
    "duration": 30,
    "start_time": "2022-03-30T14:28:35.116Z"
   },
   {
    "duration": 10,
    "start_time": "2022-03-30T14:28:35.147Z"
   },
   {
    "duration": 27,
    "start_time": "2022-03-30T14:28:35.159Z"
   },
   {
    "duration": 13,
    "start_time": "2022-03-30T14:28:35.188Z"
   },
   {
    "duration": 22,
    "start_time": "2022-03-30T14:28:35.203Z"
   },
   {
    "duration": 8,
    "start_time": "2022-03-30T14:28:35.229Z"
   },
   {
    "duration": 19,
    "start_time": "2022-03-30T14:28:35.239Z"
   },
   {
    "duration": 15,
    "start_time": "2022-03-30T14:28:35.259Z"
   },
   {
    "duration": 12,
    "start_time": "2022-03-30T14:28:35.276Z"
   },
   {
    "duration": 18,
    "start_time": "2022-03-30T14:28:35.290Z"
   },
   {
    "duration": 14,
    "start_time": "2022-03-30T14:28:35.310Z"
   },
   {
    "duration": 43,
    "start_time": "2022-03-30T14:28:35.326Z"
   },
   {
    "duration": 14,
    "start_time": "2022-03-30T14:28:35.371Z"
   },
   {
    "duration": 29,
    "start_time": "2022-03-30T14:28:35.387Z"
   },
   {
    "duration": 16,
    "start_time": "2022-03-30T14:28:35.417Z"
   },
   {
    "duration": 27,
    "start_time": "2022-03-30T14:28:35.435Z"
   },
   {
    "duration": 36,
    "start_time": "2022-03-30T14:28:35.464Z"
   },
   {
    "duration": 7,
    "start_time": "2022-03-30T14:28:35.502Z"
   },
   {
    "duration": 31,
    "start_time": "2022-03-30T14:28:35.511Z"
   },
   {
    "duration": 15,
    "start_time": "2022-03-30T14:28:35.544Z"
   },
   {
    "duration": 21,
    "start_time": "2022-03-30T14:28:35.560Z"
   },
   {
    "duration": 37,
    "start_time": "2022-03-30T14:28:35.582Z"
   },
   {
    "duration": 46,
    "start_time": "2022-03-30T14:28:35.621Z"
   },
   {
    "duration": 15,
    "start_time": "2022-03-30T14:28:35.670Z"
   },
   {
    "duration": 10,
    "start_time": "2022-03-30T14:30:34.641Z"
   },
   {
    "duration": 60,
    "start_time": "2022-03-30T14:30:38.561Z"
   },
   {
    "duration": 13,
    "start_time": "2022-03-30T14:30:38.623Z"
   },
   {
    "duration": 18,
    "start_time": "2022-03-30T14:30:38.637Z"
   },
   {
    "duration": 5,
    "start_time": "2022-03-30T14:30:38.657Z"
   },
   {
    "duration": 44,
    "start_time": "2022-03-30T14:30:38.664Z"
   },
   {
    "duration": 10,
    "start_time": "2022-03-30T14:30:38.709Z"
   },
   {
    "duration": 16,
    "start_time": "2022-03-30T14:30:38.720Z"
   },
   {
    "duration": 12,
    "start_time": "2022-03-30T14:30:38.738Z"
   },
   {
    "duration": 21,
    "start_time": "2022-03-30T14:30:38.751Z"
   },
   {
    "duration": 8,
    "start_time": "2022-03-30T14:30:38.803Z"
   },
   {
    "duration": 7,
    "start_time": "2022-03-30T14:30:38.814Z"
   },
   {
    "duration": 12,
    "start_time": "2022-03-30T14:30:38.824Z"
   },
   {
    "duration": 7,
    "start_time": "2022-03-30T14:30:38.838Z"
   },
   {
    "duration": 8,
    "start_time": "2022-03-30T14:30:38.848Z"
   },
   {
    "duration": 48,
    "start_time": "2022-03-30T14:30:38.859Z"
   },
   {
    "duration": 30,
    "start_time": "2022-03-30T14:30:38.909Z"
   },
   {
    "duration": 16,
    "start_time": "2022-03-30T14:30:38.941Z"
   },
   {
    "duration": 44,
    "start_time": "2022-03-30T14:30:38.959Z"
   },
   {
    "duration": 11,
    "start_time": "2022-03-30T14:30:39.005Z"
   },
   {
    "duration": 18,
    "start_time": "2022-03-30T14:30:39.017Z"
   },
   {
    "duration": 36,
    "start_time": "2022-03-30T14:30:39.037Z"
   },
   {
    "duration": 33,
    "start_time": "2022-03-30T14:30:39.074Z"
   },
   {
    "duration": 9,
    "start_time": "2022-03-30T14:30:39.109Z"
   },
   {
    "duration": 8,
    "start_time": "2022-03-30T14:30:39.120Z"
   },
   {
    "duration": 8,
    "start_time": "2022-03-30T14:30:39.129Z"
   },
   {
    "duration": 18,
    "start_time": "2022-03-30T14:30:39.138Z"
   },
   {
    "duration": 47,
    "start_time": "2022-03-30T14:30:39.158Z"
   },
   {
    "duration": 14,
    "start_time": "2022-03-30T14:30:39.208Z"
   },
   {
    "duration": 5,
    "start_time": "2022-03-30T14:40:27.387Z"
   },
   {
    "duration": 58,
    "start_time": "2022-03-30T14:40:38.286Z"
   },
   {
    "duration": 11,
    "start_time": "2022-03-30T14:40:38.346Z"
   },
   {
    "duration": 15,
    "start_time": "2022-03-30T14:40:38.358Z"
   },
   {
    "duration": 30,
    "start_time": "2022-03-30T14:40:38.375Z"
   },
   {
    "duration": 14,
    "start_time": "2022-03-30T14:40:38.406Z"
   },
   {
    "duration": 10,
    "start_time": "2022-03-30T14:40:38.421Z"
   },
   {
    "duration": 13,
    "start_time": "2022-03-30T14:40:38.432Z"
   },
   {
    "duration": 11,
    "start_time": "2022-03-30T14:40:38.446Z"
   },
   {
    "duration": 49,
    "start_time": "2022-03-30T14:40:38.458Z"
   },
   {
    "duration": 10,
    "start_time": "2022-03-30T14:40:38.510Z"
   },
   {
    "duration": 6,
    "start_time": "2022-03-30T14:40:38.522Z"
   },
   {
    "duration": 10,
    "start_time": "2022-03-30T14:40:38.529Z"
   },
   {
    "duration": 4,
    "start_time": "2022-03-30T14:40:38.541Z"
   },
   {
    "duration": 10,
    "start_time": "2022-03-30T14:40:38.547Z"
   },
   {
    "duration": 7,
    "start_time": "2022-03-30T14:40:38.558Z"
   },
   {
    "duration": 59,
    "start_time": "2022-03-30T14:40:38.566Z"
   },
   {
    "duration": 13,
    "start_time": "2022-03-30T14:40:38.627Z"
   },
   {
    "duration": 14,
    "start_time": "2022-03-30T14:40:38.642Z"
   },
   {
    "duration": 11,
    "start_time": "2022-03-30T14:40:38.657Z"
   },
   {
    "duration": 42,
    "start_time": "2022-03-30T14:40:38.669Z"
   },
   {
    "duration": 31,
    "start_time": "2022-03-30T14:40:38.713Z"
   },
   {
    "duration": 7,
    "start_time": "2022-03-30T14:40:38.746Z"
   },
   {
    "duration": 7,
    "start_time": "2022-03-30T14:40:38.754Z"
   },
   {
    "duration": 9,
    "start_time": "2022-03-30T14:40:38.763Z"
   },
   {
    "duration": 32,
    "start_time": "2022-03-30T14:40:38.774Z"
   },
   {
    "duration": 15,
    "start_time": "2022-03-30T14:40:38.808Z"
   },
   {
    "duration": 13,
    "start_time": "2022-03-30T14:40:38.825Z"
   },
   {
    "duration": 15,
    "start_time": "2022-03-30T14:40:38.841Z"
   },
   {
    "duration": 365,
    "start_time": "2022-03-30T14:42:01.027Z"
   },
   {
    "duration": 58,
    "start_time": "2022-03-30T14:42:13.268Z"
   },
   {
    "duration": 13,
    "start_time": "2022-03-30T14:42:13.328Z"
   },
   {
    "duration": 34,
    "start_time": "2022-03-30T14:42:13.342Z"
   },
   {
    "duration": 215,
    "start_time": "2022-03-30T14:42:13.379Z"
   },
   {
    "duration": 0,
    "start_time": "2022-03-30T14:42:13.596Z"
   },
   {
    "duration": 0,
    "start_time": "2022-03-30T14:42:13.597Z"
   },
   {
    "duration": 0,
    "start_time": "2022-03-30T14:42:13.599Z"
   },
   {
    "duration": 0,
    "start_time": "2022-03-30T14:42:13.600Z"
   },
   {
    "duration": 0,
    "start_time": "2022-03-30T14:42:13.602Z"
   },
   {
    "duration": 0,
    "start_time": "2022-03-30T14:42:13.603Z"
   },
   {
    "duration": 0,
    "start_time": "2022-03-30T14:42:13.604Z"
   },
   {
    "duration": 0,
    "start_time": "2022-03-30T14:42:13.643Z"
   },
   {
    "duration": 0,
    "start_time": "2022-03-30T14:42:13.645Z"
   },
   {
    "duration": 0,
    "start_time": "2022-03-30T14:42:13.646Z"
   },
   {
    "duration": 0,
    "start_time": "2022-03-30T14:42:13.647Z"
   },
   {
    "duration": 0,
    "start_time": "2022-03-30T14:42:13.649Z"
   },
   {
    "duration": 0,
    "start_time": "2022-03-30T14:42:13.650Z"
   },
   {
    "duration": 0,
    "start_time": "2022-03-30T14:42:13.651Z"
   },
   {
    "duration": 0,
    "start_time": "2022-03-30T14:42:13.653Z"
   },
   {
    "duration": 0,
    "start_time": "2022-03-30T14:42:13.654Z"
   },
   {
    "duration": 0,
    "start_time": "2022-03-30T14:42:13.655Z"
   },
   {
    "duration": 0,
    "start_time": "2022-03-30T14:42:13.657Z"
   },
   {
    "duration": 0,
    "start_time": "2022-03-30T14:42:13.658Z"
   },
   {
    "duration": 0,
    "start_time": "2022-03-30T14:42:13.659Z"
   },
   {
    "duration": 0,
    "start_time": "2022-03-30T14:42:13.660Z"
   },
   {
    "duration": 0,
    "start_time": "2022-03-30T14:42:13.661Z"
   },
   {
    "duration": 0,
    "start_time": "2022-03-30T14:42:13.702Z"
   },
   {
    "duration": 0,
    "start_time": "2022-03-30T14:42:13.703Z"
   },
   {
    "duration": 324,
    "start_time": "2022-03-30T14:42:52.756Z"
   },
   {
    "duration": 56,
    "start_time": "2022-03-30T14:43:29.931Z"
   },
   {
    "duration": 12,
    "start_time": "2022-03-30T14:43:29.989Z"
   },
   {
    "duration": 19,
    "start_time": "2022-03-30T14:43:30.002Z"
   },
   {
    "duration": 4,
    "start_time": "2022-03-30T14:43:30.023Z"
   },
   {
    "duration": 32,
    "start_time": "2022-03-30T14:43:30.029Z"
   },
   {
    "duration": 10,
    "start_time": "2022-03-30T14:43:30.062Z"
   },
   {
    "duration": 16,
    "start_time": "2022-03-30T14:43:30.073Z"
   },
   {
    "duration": 19,
    "start_time": "2022-03-30T14:43:30.090Z"
   },
   {
    "duration": 16,
    "start_time": "2022-03-30T14:43:30.110Z"
   },
   {
    "duration": 8,
    "start_time": "2022-03-30T14:43:30.129Z"
   },
   {
    "duration": 10,
    "start_time": "2022-03-30T14:43:30.139Z"
   },
   {
    "duration": 17,
    "start_time": "2022-03-30T14:43:30.151Z"
   },
   {
    "duration": 34,
    "start_time": "2022-03-30T14:43:30.170Z"
   },
   {
    "duration": 7,
    "start_time": "2022-03-30T14:43:30.206Z"
   },
   {
    "duration": 20,
    "start_time": "2022-03-30T14:43:30.215Z"
   },
   {
    "duration": 37,
    "start_time": "2022-03-30T14:43:30.237Z"
   },
   {
    "duration": 13,
    "start_time": "2022-03-30T14:43:30.276Z"
   },
   {
    "duration": 27,
    "start_time": "2022-03-30T14:43:30.290Z"
   },
   {
    "duration": 12,
    "start_time": "2022-03-30T14:43:30.318Z"
   },
   {
    "duration": 27,
    "start_time": "2022-03-30T14:43:30.331Z"
   },
   {
    "duration": 31,
    "start_time": "2022-03-30T14:43:30.360Z"
   },
   {
    "duration": 7,
    "start_time": "2022-03-30T14:43:30.401Z"
   },
   {
    "duration": 20,
    "start_time": "2022-03-30T14:43:30.409Z"
   },
   {
    "duration": 19,
    "start_time": "2022-03-30T14:43:30.432Z"
   },
   {
    "duration": 43,
    "start_time": "2022-03-30T14:43:30.452Z"
   },
   {
    "duration": 46,
    "start_time": "2022-03-30T14:43:30.497Z"
   },
   {
    "duration": 30,
    "start_time": "2022-03-30T14:43:30.545Z"
   },
   {
    "duration": 21,
    "start_time": "2022-03-30T14:43:30.578Z"
   },
   {
    "duration": 58,
    "start_time": "2022-03-30T14:44:25.734Z"
   },
   {
    "duration": 12,
    "start_time": "2022-03-30T14:44:25.794Z"
   },
   {
    "duration": 14,
    "start_time": "2022-03-30T14:44:25.807Z"
   },
   {
    "duration": 5,
    "start_time": "2022-03-30T14:44:25.823Z"
   },
   {
    "duration": 13,
    "start_time": "2022-03-30T14:44:25.829Z"
   },
   {
    "duration": 8,
    "start_time": "2022-03-30T14:44:25.843Z"
   },
   {
    "duration": 13,
    "start_time": "2022-03-30T14:44:25.853Z"
   },
   {
    "duration": 42,
    "start_time": "2022-03-30T14:44:25.868Z"
   },
   {
    "duration": 16,
    "start_time": "2022-03-30T14:44:25.912Z"
   },
   {
    "duration": 9,
    "start_time": "2022-03-30T14:44:25.930Z"
   },
   {
    "duration": 6,
    "start_time": "2022-03-30T14:44:25.940Z"
   },
   {
    "duration": 13,
    "start_time": "2022-03-30T14:44:25.947Z"
   },
   {
    "duration": 4,
    "start_time": "2022-03-30T14:44:25.962Z"
   },
   {
    "duration": 8,
    "start_time": "2022-03-30T14:44:26.001Z"
   },
   {
    "duration": 7,
    "start_time": "2022-03-30T14:44:26.011Z"
   },
   {
    "duration": 28,
    "start_time": "2022-03-30T14:44:26.020Z"
   },
   {
    "duration": 16,
    "start_time": "2022-03-30T14:44:26.050Z"
   },
   {
    "duration": 16,
    "start_time": "2022-03-30T14:44:26.100Z"
   },
   {
    "duration": 10,
    "start_time": "2022-03-30T14:44:26.118Z"
   },
   {
    "duration": 16,
    "start_time": "2022-03-30T14:44:26.130Z"
   },
   {
    "duration": 54,
    "start_time": "2022-03-30T14:44:26.147Z"
   },
   {
    "duration": 6,
    "start_time": "2022-03-30T14:44:26.204Z"
   },
   {
    "duration": 7,
    "start_time": "2022-03-30T14:44:26.212Z"
   },
   {
    "duration": 7,
    "start_time": "2022-03-30T14:44:26.221Z"
   },
   {
    "duration": 8,
    "start_time": "2022-03-30T14:44:26.229Z"
   },
   {
    "duration": 18,
    "start_time": "2022-03-30T14:44:26.238Z"
   },
   {
    "duration": 12,
    "start_time": "2022-03-30T14:44:26.258Z"
   },
   {
    "duration": 15,
    "start_time": "2022-03-30T14:44:26.300Z"
   },
   {
    "duration": 8,
    "start_time": "2022-03-30T14:53:18.065Z"
   },
   {
    "duration": 5,
    "start_time": "2022-03-30T14:53:54.075Z"
   },
   {
    "duration": 5,
    "start_time": "2022-03-30T14:54:57.890Z"
   },
   {
    "duration": 5,
    "start_time": "2022-03-30T14:55:30.858Z"
   },
   {
    "duration": 4,
    "start_time": "2022-03-30T14:55:58.675Z"
   },
   {
    "duration": 4,
    "start_time": "2022-03-30T14:56:21.823Z"
   },
   {
    "duration": 3,
    "start_time": "2022-03-30T14:58:51.979Z"
   },
   {
    "duration": 19,
    "start_time": "2022-03-30T15:00:43.269Z"
   },
   {
    "duration": 65,
    "start_time": "2022-03-30T15:09:40.730Z"
   },
   {
    "duration": 13,
    "start_time": "2022-03-30T15:09:40.797Z"
   },
   {
    "duration": 13,
    "start_time": "2022-03-30T15:09:40.812Z"
   },
   {
    "duration": 4,
    "start_time": "2022-03-30T15:09:40.827Z"
   },
   {
    "duration": 14,
    "start_time": "2022-03-30T15:09:40.833Z"
   },
   {
    "duration": 10,
    "start_time": "2022-03-30T15:09:40.848Z"
   },
   {
    "duration": 48,
    "start_time": "2022-03-30T15:09:40.859Z"
   },
   {
    "duration": 12,
    "start_time": "2022-03-30T15:09:40.909Z"
   },
   {
    "duration": 17,
    "start_time": "2022-03-30T15:09:40.922Z"
   },
   {
    "duration": 7,
    "start_time": "2022-03-30T15:09:40.943Z"
   },
   {
    "duration": 7,
    "start_time": "2022-03-30T15:09:40.951Z"
   },
   {
    "duration": 47,
    "start_time": "2022-03-30T15:09:40.960Z"
   },
   {
    "duration": 4,
    "start_time": "2022-03-30T15:09:41.008Z"
   },
   {
    "duration": 9,
    "start_time": "2022-03-30T15:09:41.014Z"
   },
   {
    "duration": 8,
    "start_time": "2022-03-30T15:09:41.025Z"
   },
   {
    "duration": 28,
    "start_time": "2022-03-30T15:09:41.034Z"
   },
   {
    "duration": 42,
    "start_time": "2022-03-30T15:09:41.064Z"
   },
   {
    "duration": 16,
    "start_time": "2022-03-30T15:09:41.107Z"
   },
   {
    "duration": 11,
    "start_time": "2022-03-30T15:09:41.124Z"
   },
   {
    "duration": 17,
    "start_time": "2022-03-30T15:09:41.136Z"
   },
   {
    "duration": 55,
    "start_time": "2022-03-30T15:09:41.154Z"
   },
   {
    "duration": 8,
    "start_time": "2022-03-30T15:09:41.211Z"
   },
   {
    "duration": 18,
    "start_time": "2022-03-30T15:09:41.221Z"
   },
   {
    "duration": 9,
    "start_time": "2022-03-30T15:09:41.241Z"
   },
   {
    "duration": 15,
    "start_time": "2022-03-30T15:09:41.252Z"
   },
   {
    "duration": 32,
    "start_time": "2022-03-30T15:09:41.269Z"
   },
   {
    "duration": 16,
    "start_time": "2022-03-30T15:09:41.303Z"
   },
   {
    "duration": 29,
    "start_time": "2022-03-30T15:09:41.322Z"
   },
   {
    "duration": 78,
    "start_time": "2022-03-30T16:17:25.391Z"
   },
   {
    "duration": 30,
    "start_time": "2022-03-30T16:17:25.471Z"
   },
   {
    "duration": 21,
    "start_time": "2022-03-30T16:17:25.503Z"
   },
   {
    "duration": 6,
    "start_time": "2022-03-30T16:17:25.527Z"
   },
   {
    "duration": 31,
    "start_time": "2022-03-30T16:17:25.535Z"
   },
   {
    "duration": 33,
    "start_time": "2022-03-30T16:17:25.568Z"
   },
   {
    "duration": 21,
    "start_time": "2022-03-30T16:17:25.603Z"
   },
   {
    "duration": 13,
    "start_time": "2022-03-30T16:17:25.626Z"
   },
   {
    "duration": 26,
    "start_time": "2022-03-30T16:17:25.641Z"
   },
   {
    "duration": 33,
    "start_time": "2022-03-30T16:17:25.671Z"
   },
   {
    "duration": 8,
    "start_time": "2022-03-30T16:17:25.706Z"
   },
   {
    "duration": 19,
    "start_time": "2022-03-30T16:17:25.716Z"
   },
   {
    "duration": 12,
    "start_time": "2022-03-30T16:17:25.737Z"
   },
   {
    "duration": 15,
    "start_time": "2022-03-30T16:17:25.751Z"
   },
   {
    "duration": 8,
    "start_time": "2022-03-30T16:17:25.768Z"
   },
   {
    "duration": 60,
    "start_time": "2022-03-30T16:17:25.777Z"
   },
   {
    "duration": 22,
    "start_time": "2022-03-30T16:17:25.839Z"
   },
   {
    "duration": 38,
    "start_time": "2022-03-30T16:17:25.863Z"
   },
   {
    "duration": 16,
    "start_time": "2022-03-30T16:17:25.903Z"
   },
   {
    "duration": 39,
    "start_time": "2022-03-30T16:17:25.922Z"
   },
   {
    "duration": 42,
    "start_time": "2022-03-30T16:17:25.963Z"
   },
   {
    "duration": 8,
    "start_time": "2022-03-30T16:17:26.007Z"
   },
   {
    "duration": 25,
    "start_time": "2022-03-30T16:17:26.017Z"
   },
   {
    "duration": 18,
    "start_time": "2022-03-30T16:17:26.044Z"
   },
   {
    "duration": 27,
    "start_time": "2022-03-30T16:17:26.063Z"
   },
   {
    "duration": 26,
    "start_time": "2022-03-30T16:17:26.092Z"
   },
   {
    "duration": 32,
    "start_time": "2022-03-30T16:17:26.120Z"
   },
   {
    "duration": 20,
    "start_time": "2022-03-30T16:17:26.155Z"
   },
   {
    "duration": 67,
    "start_time": "2022-03-30T16:17:45.385Z"
   },
   {
    "duration": 12,
    "start_time": "2022-03-30T16:17:45.454Z"
   },
   {
    "duration": 23,
    "start_time": "2022-03-30T16:17:45.468Z"
   },
   {
    "duration": 6,
    "start_time": "2022-03-30T16:17:45.501Z"
   },
   {
    "duration": 20,
    "start_time": "2022-03-30T16:17:45.509Z"
   },
   {
    "duration": 12,
    "start_time": "2022-03-30T16:17:45.531Z"
   },
   {
    "duration": 37,
    "start_time": "2022-03-30T16:17:45.545Z"
   },
   {
    "duration": 22,
    "start_time": "2022-03-30T16:17:45.583Z"
   },
   {
    "duration": 16,
    "start_time": "2022-03-30T16:17:45.607Z"
   },
   {
    "duration": 16,
    "start_time": "2022-03-30T16:17:45.625Z"
   },
   {
    "duration": 16,
    "start_time": "2022-03-30T16:17:45.643Z"
   },
   {
    "duration": 26,
    "start_time": "2022-03-30T16:17:45.661Z"
   },
   {
    "duration": 23,
    "start_time": "2022-03-30T16:17:45.688Z"
   },
   {
    "duration": 16,
    "start_time": "2022-03-30T16:17:45.713Z"
   },
   {
    "duration": 26,
    "start_time": "2022-03-30T16:17:45.731Z"
   },
   {
    "duration": 43,
    "start_time": "2022-03-30T16:17:45.758Z"
   },
   {
    "duration": 12,
    "start_time": "2022-03-30T16:17:45.802Z"
   },
   {
    "duration": 19,
    "start_time": "2022-03-30T16:17:45.815Z"
   },
   {
    "duration": 13,
    "start_time": "2022-03-30T16:17:45.835Z"
   },
   {
    "duration": 26,
    "start_time": "2022-03-30T16:17:45.849Z"
   },
   {
    "duration": 38,
    "start_time": "2022-03-30T16:17:45.877Z"
   },
   {
    "duration": 6,
    "start_time": "2022-03-30T16:17:45.916Z"
   },
   {
    "duration": 35,
    "start_time": "2022-03-30T16:17:45.923Z"
   },
   {
    "duration": 26,
    "start_time": "2022-03-30T16:17:45.960Z"
   },
   {
    "duration": 19,
    "start_time": "2022-03-30T16:17:45.988Z"
   },
   {
    "duration": 27,
    "start_time": "2022-03-30T16:17:46.008Z"
   },
   {
    "duration": 16,
    "start_time": "2022-03-30T16:17:46.037Z"
   },
   {
    "duration": 21,
    "start_time": "2022-03-30T16:17:46.056Z"
   },
   {
    "duration": 7,
    "start_time": "2022-03-30T16:18:46.743Z"
   },
   {
    "duration": 10,
    "start_time": "2022-03-30T16:47:23.663Z"
   },
   {
    "duration": 4,
    "start_time": "2022-03-30T16:47:48.589Z"
   },
   {
    "duration": 5,
    "start_time": "2022-03-30T16:48:06.355Z"
   },
   {
    "duration": 62,
    "start_time": "2022-03-30T16:51:09.479Z"
   },
   {
    "duration": 12,
    "start_time": "2022-03-30T16:51:09.543Z"
   },
   {
    "duration": 16,
    "start_time": "2022-03-30T16:51:09.557Z"
   },
   {
    "duration": 29,
    "start_time": "2022-03-30T16:51:09.575Z"
   },
   {
    "duration": 14,
    "start_time": "2022-03-30T16:51:09.605Z"
   },
   {
    "duration": 10,
    "start_time": "2022-03-30T16:51:09.621Z"
   },
   {
    "duration": 15,
    "start_time": "2022-03-30T16:51:09.633Z"
   },
   {
    "duration": 12,
    "start_time": "2022-03-30T16:51:09.650Z"
   },
   {
    "duration": 19,
    "start_time": "2022-03-30T16:51:09.702Z"
   },
   {
    "duration": 8,
    "start_time": "2022-03-30T16:51:09.724Z"
   },
   {
    "duration": 6,
    "start_time": "2022-03-30T16:51:09.734Z"
   },
   {
    "duration": 10,
    "start_time": "2022-03-30T16:51:09.742Z"
   },
   {
    "duration": 4,
    "start_time": "2022-03-30T16:51:09.754Z"
   },
   {
    "duration": 46,
    "start_time": "2022-03-30T16:51:09.760Z"
   },
   {
    "duration": 6,
    "start_time": "2022-03-30T16:51:09.808Z"
   },
   {
    "duration": 29,
    "start_time": "2022-03-30T16:51:09.815Z"
   },
   {
    "duration": 14,
    "start_time": "2022-03-30T16:51:09.846Z"
   },
   {
    "duration": 46,
    "start_time": "2022-03-30T16:51:09.861Z"
   },
   {
    "duration": 11,
    "start_time": "2022-03-30T16:51:09.908Z"
   },
   {
    "duration": 19,
    "start_time": "2022-03-30T16:51:09.921Z"
   },
   {
    "duration": 32,
    "start_time": "2022-03-30T16:51:09.942Z"
   },
   {
    "duration": 7,
    "start_time": "2022-03-30T16:51:10.001Z"
   },
   {
    "duration": 10,
    "start_time": "2022-03-30T16:51:10.009Z"
   },
   {
    "duration": 8,
    "start_time": "2022-03-30T16:51:10.021Z"
   },
   {
    "duration": 18,
    "start_time": "2022-03-30T16:51:10.031Z"
   },
   {
    "duration": 17,
    "start_time": "2022-03-30T16:51:10.051Z"
   },
   {
    "duration": 45,
    "start_time": "2022-03-30T16:51:10.070Z"
   },
   {
    "duration": 19,
    "start_time": "2022-03-30T16:51:10.119Z"
   },
   {
    "duration": 11,
    "start_time": "2022-03-30T16:51:10.140Z"
   },
   {
    "duration": 11,
    "start_time": "2022-03-30T16:51:10.153Z"
   },
   {
    "duration": 21,
    "start_time": "2022-03-30T16:51:26.914Z"
   },
   {
    "duration": 17,
    "start_time": "2022-03-30T16:51:34.398Z"
   },
   {
    "duration": 18,
    "start_time": "2022-03-30T16:52:37.841Z"
   },
   {
    "duration": 20,
    "start_time": "2022-03-30T16:56:12.208Z"
   },
   {
    "duration": 19,
    "start_time": "2022-03-30T16:58:33.821Z"
   },
   {
    "duration": 635,
    "start_time": "2022-03-30T17:10:54.739Z"
   },
   {
    "duration": 31,
    "start_time": "2022-03-30T17:10:55.376Z"
   },
   {
    "duration": 24,
    "start_time": "2022-03-30T17:10:55.410Z"
   },
   {
    "duration": 9,
    "start_time": "2022-03-30T17:10:55.438Z"
   },
   {
    "duration": 25,
    "start_time": "2022-03-30T17:10:55.485Z"
   },
   {
    "duration": 17,
    "start_time": "2022-03-30T17:10:55.513Z"
   },
   {
    "duration": 63,
    "start_time": "2022-03-30T17:10:55.533Z"
   },
   {
    "duration": 18,
    "start_time": "2022-03-30T17:10:55.599Z"
   },
   {
    "duration": 30,
    "start_time": "2022-03-30T17:10:55.619Z"
   },
   {
    "duration": 38,
    "start_time": "2022-03-30T17:10:55.653Z"
   },
   {
    "duration": 9,
    "start_time": "2022-03-30T17:10:55.693Z"
   },
   {
    "duration": 23,
    "start_time": "2022-03-30T17:10:55.704Z"
   },
   {
    "duration": 9,
    "start_time": "2022-03-30T17:10:55.729Z"
   },
   {
    "duration": 19,
    "start_time": "2022-03-30T17:10:55.740Z"
   },
   {
    "duration": 10,
    "start_time": "2022-03-30T17:10:55.785Z"
   },
   {
    "duration": 49,
    "start_time": "2022-03-30T17:10:55.797Z"
   },
   {
    "duration": 42,
    "start_time": "2022-03-30T17:10:55.848Z"
   },
   {
    "duration": 23,
    "start_time": "2022-03-30T17:10:55.892Z"
   },
   {
    "duration": 18,
    "start_time": "2022-03-30T17:10:55.917Z"
   },
   {
    "duration": 61,
    "start_time": "2022-03-30T17:10:55.937Z"
   },
   {
    "duration": 48,
    "start_time": "2022-03-30T17:10:56.001Z"
   },
   {
    "duration": 10,
    "start_time": "2022-03-30T17:10:56.051Z"
   },
   {
    "duration": 10,
    "start_time": "2022-03-30T17:10:56.083Z"
   },
   {
    "duration": 20,
    "start_time": "2022-03-30T17:10:56.095Z"
   },
   {
    "duration": 28,
    "start_time": "2022-03-30T17:10:56.118Z"
   },
   {
    "duration": 40,
    "start_time": "2022-03-30T17:10:56.148Z"
   },
   {
    "duration": 24,
    "start_time": "2022-03-30T17:10:56.190Z"
   },
   {
    "duration": 32,
    "start_time": "2022-03-30T17:10:56.218Z"
   },
   {
    "duration": 35,
    "start_time": "2022-03-30T17:10:56.252Z"
   },
   {
    "duration": 47,
    "start_time": "2022-03-30T17:10:56.289Z"
   },
   {
    "duration": 6,
    "start_time": "2022-03-30T17:17:54.648Z"
   },
   {
    "duration": 105,
    "start_time": "2022-03-30T17:18:35.675Z"
   },
   {
    "duration": 27,
    "start_time": "2022-03-30T17:18:35.783Z"
   },
   {
    "duration": 29,
    "start_time": "2022-03-30T17:18:35.813Z"
   },
   {
    "duration": 9,
    "start_time": "2022-03-30T17:18:35.845Z"
   },
   {
    "duration": 30,
    "start_time": "2022-03-30T17:18:35.886Z"
   },
   {
    "duration": 19,
    "start_time": "2022-03-30T17:18:35.919Z"
   },
   {
    "duration": 60,
    "start_time": "2022-03-30T17:18:35.940Z"
   },
   {
    "duration": 20,
    "start_time": "2022-03-30T17:18:36.002Z"
   },
   {
    "duration": 60,
    "start_time": "2022-03-30T17:18:36.025Z"
   },
   {
    "duration": 14,
    "start_time": "2022-03-30T17:18:36.087Z"
   },
   {
    "duration": 8,
    "start_time": "2022-03-30T17:18:36.104Z"
   },
   {
    "duration": 17,
    "start_time": "2022-03-30T17:18:36.114Z"
   },
   {
    "duration": 50,
    "start_time": "2022-03-30T17:18:36.133Z"
   },
   {
    "duration": 12,
    "start_time": "2022-03-30T17:18:36.187Z"
   },
   {
    "duration": 12,
    "start_time": "2022-03-30T17:18:36.202Z"
   },
   {
    "duration": 81,
    "start_time": "2022-03-30T17:18:36.218Z"
   },
   {
    "duration": 29,
    "start_time": "2022-03-30T17:18:36.301Z"
   },
   {
    "duration": 52,
    "start_time": "2022-03-30T17:18:36.332Z"
   },
   {
    "duration": 23,
    "start_time": "2022-03-30T17:18:36.387Z"
   },
   {
    "duration": 36,
    "start_time": "2022-03-30T17:18:36.412Z"
   },
   {
    "duration": 91,
    "start_time": "2022-03-30T17:18:36.450Z"
   },
   {
    "duration": 13,
    "start_time": "2022-03-30T17:18:36.543Z"
   },
   {
    "duration": 30,
    "start_time": "2022-03-30T17:18:36.558Z"
   },
   {
    "duration": 12,
    "start_time": "2022-03-30T17:18:36.590Z"
   },
   {
    "duration": 24,
    "start_time": "2022-03-30T17:18:36.605Z"
   },
   {
    "duration": 18,
    "start_time": "2022-03-30T17:18:36.631Z"
   },
   {
    "duration": 55,
    "start_time": "2022-03-30T17:18:36.651Z"
   },
   {
    "duration": 34,
    "start_time": "2022-03-30T17:18:36.709Z"
   },
   {
    "duration": 41,
    "start_time": "2022-03-30T17:18:36.745Z"
   },
   {
    "duration": 36,
    "start_time": "2022-03-30T17:18:36.788Z"
   },
   {
    "duration": 7,
    "start_time": "2022-03-30T17:18:36.827Z"
   },
   {
    "duration": 6,
    "start_time": "2022-03-30T17:19:05.843Z"
   },
   {
    "duration": 103,
    "start_time": "2022-03-30T17:20:18.464Z"
   },
   {
    "duration": 15,
    "start_time": "2022-03-30T17:20:46.736Z"
   },
   {
    "duration": 14,
    "start_time": "2022-03-30T17:21:12.546Z"
   },
   {
    "duration": 15,
    "start_time": "2022-03-30T17:21:19.550Z"
   },
   {
    "duration": 14,
    "start_time": "2022-03-30T17:21:29.586Z"
   },
   {
    "duration": 13,
    "start_time": "2022-03-30T17:21:48.718Z"
   },
   {
    "duration": 14,
    "start_time": "2022-03-30T17:22:07.573Z"
   },
   {
    "duration": 29,
    "start_time": "2022-03-30T17:22:28.574Z"
   },
   {
    "duration": 45,
    "start_time": "2022-03-30T17:26:47.878Z"
   },
   {
    "duration": 29,
    "start_time": "2022-03-30T17:27:24.878Z"
   },
   {
    "duration": 27,
    "start_time": "2022-03-30T17:30:56.778Z"
   },
   {
    "duration": 37,
    "start_time": "2022-03-30T17:35:14.222Z"
   },
   {
    "duration": 8,
    "start_time": "2022-03-30T17:36:03.998Z"
   },
   {
    "duration": 15,
    "start_time": "2022-03-30T17:44:00.614Z"
   },
   {
    "duration": 12,
    "start_time": "2022-03-30T17:44:35.575Z"
   },
   {
    "duration": 108,
    "start_time": "2022-03-30T17:57:31.992Z"
   },
   {
    "duration": 103,
    "start_time": "2022-03-30T17:57:57.436Z"
   },
   {
    "duration": 33,
    "start_time": "2022-03-30T17:58:10.223Z"
   },
   {
    "duration": 30,
    "start_time": "2022-03-30T17:59:03.621Z"
   },
   {
    "duration": 13,
    "start_time": "2022-03-30T17:59:16.067Z"
   },
   {
    "duration": 9,
    "start_time": "2022-03-30T17:59:34.172Z"
   },
   {
    "duration": 14,
    "start_time": "2022-03-30T17:59:39.252Z"
   },
   {
    "duration": 30,
    "start_time": "2022-03-30T18:02:41.524Z"
   },
   {
    "duration": 30,
    "start_time": "2022-03-30T18:03:27.718Z"
   },
   {
    "duration": 24,
    "start_time": "2022-03-30T18:03:33.186Z"
   },
   {
    "duration": 28,
    "start_time": "2022-03-30T18:03:57.659Z"
   },
   {
    "duration": 25,
    "start_time": "2022-03-30T18:04:38.312Z"
   },
   {
    "duration": 23,
    "start_time": "2022-03-30T18:05:41.014Z"
   },
   {
    "duration": 29,
    "start_time": "2022-03-30T18:06:16.218Z"
   },
   {
    "duration": 27,
    "start_time": "2022-03-30T18:06:24.264Z"
   },
   {
    "duration": 22,
    "start_time": "2022-03-30T18:06:39.753Z"
   },
   {
    "duration": 23,
    "start_time": "2022-03-30T18:06:58.799Z"
   },
   {
    "duration": 12,
    "start_time": "2022-03-30T18:18:44.179Z"
   },
   {
    "duration": 21,
    "start_time": "2022-03-30T18:20:49.517Z"
   },
   {
    "duration": 14,
    "start_time": "2022-03-30T18:22:39.798Z"
   },
   {
    "duration": 27,
    "start_time": "2022-03-30T18:23:30.291Z"
   },
   {
    "duration": 22,
    "start_time": "2022-03-30T18:24:06.347Z"
   },
   {
    "duration": 40,
    "start_time": "2022-03-30T18:26:50.997Z"
   },
   {
    "duration": 42,
    "start_time": "2022-03-30T18:28:20.378Z"
   },
   {
    "duration": 42,
    "start_time": "2022-03-30T18:28:40.935Z"
   },
   {
    "duration": 605,
    "start_time": "2022-03-31T07:28:30.857Z"
   },
   {
    "duration": 33,
    "start_time": "2022-03-31T07:28:31.464Z"
   },
   {
    "duration": 24,
    "start_time": "2022-03-31T07:28:31.499Z"
   },
   {
    "duration": 8,
    "start_time": "2022-03-31T07:28:31.527Z"
   },
   {
    "duration": 24,
    "start_time": "2022-03-31T07:28:31.574Z"
   },
   {
    "duration": 17,
    "start_time": "2022-03-31T07:28:31.601Z"
   },
   {
    "duration": 62,
    "start_time": "2022-03-31T07:28:31.620Z"
   },
   {
    "duration": 19,
    "start_time": "2022-03-31T07:28:31.684Z"
   },
   {
    "duration": 26,
    "start_time": "2022-03-31T07:28:31.706Z"
   },
   {
    "duration": 45,
    "start_time": "2022-03-31T07:28:31.737Z"
   },
   {
    "duration": 11,
    "start_time": "2022-03-31T07:28:31.784Z"
   },
   {
    "duration": 16,
    "start_time": "2022-03-31T07:28:31.797Z"
   },
   {
    "duration": 20,
    "start_time": "2022-03-31T07:28:31.815Z"
   },
   {
    "duration": 41,
    "start_time": "2022-03-31T07:28:31.838Z"
   },
   {
    "duration": 9,
    "start_time": "2022-03-31T07:28:31.881Z"
   },
   {
    "duration": 48,
    "start_time": "2022-03-31T07:28:31.892Z"
   },
   {
    "duration": 45,
    "start_time": "2022-03-31T07:28:31.942Z"
   },
   {
    "duration": 22,
    "start_time": "2022-03-31T07:28:31.989Z"
   },
   {
    "duration": 17,
    "start_time": "2022-03-31T07:28:32.013Z"
   },
   {
    "duration": 60,
    "start_time": "2022-03-31T07:28:32.032Z"
   },
   {
    "duration": 46,
    "start_time": "2022-03-31T07:28:32.094Z"
   },
   {
    "duration": 36,
    "start_time": "2022-03-31T07:28:32.142Z"
   },
   {
    "duration": 16,
    "start_time": "2022-03-31T07:28:32.180Z"
   },
   {
    "duration": 14,
    "start_time": "2022-03-31T07:28:32.198Z"
   },
   {
    "duration": 24,
    "start_time": "2022-03-31T07:28:32.214Z"
   },
   {
    "duration": 42,
    "start_time": "2022-03-31T07:28:32.240Z"
   },
   {
    "duration": 25,
    "start_time": "2022-03-31T07:28:32.284Z"
   },
   {
    "duration": 32,
    "start_time": "2022-03-31T07:28:32.313Z"
   },
   {
    "duration": 35,
    "start_time": "2022-03-31T07:28:32.347Z"
   },
   {
    "duration": 31,
    "start_time": "2022-03-31T07:28:32.384Z"
   },
   {
    "duration": 74,
    "start_time": "2022-03-31T07:28:32.417Z"
   },
   {
    "duration": 41,
    "start_time": "2022-03-31T07:29:19.841Z"
   },
   {
    "duration": 124,
    "start_time": "2022-03-31T07:37:01.445Z"
   },
   {
    "duration": 60,
    "start_time": "2022-03-31T07:37:31.709Z"
   },
   {
    "duration": 36,
    "start_time": "2022-03-31T07:37:59.747Z"
   },
   {
    "duration": 39,
    "start_time": "2022-03-31T07:38:51.928Z"
   },
   {
    "duration": 552,
    "start_time": "2022-03-31T15:49:00.514Z"
   },
   {
    "duration": 31,
    "start_time": "2022-03-31T15:49:01.069Z"
   },
   {
    "duration": 28,
    "start_time": "2022-03-31T15:49:01.102Z"
   },
   {
    "duration": 8,
    "start_time": "2022-03-31T15:49:01.133Z"
   },
   {
    "duration": 47,
    "start_time": "2022-03-31T15:49:01.143Z"
   },
   {
    "duration": 41,
    "start_time": "2022-03-31T15:49:01.193Z"
   },
   {
    "duration": 27,
    "start_time": "2022-03-31T15:49:01.237Z"
   },
   {
    "duration": 18,
    "start_time": "2022-03-31T15:49:01.266Z"
   },
   {
    "duration": 29,
    "start_time": "2022-03-31T15:49:01.287Z"
   },
   {
    "duration": 10,
    "start_time": "2022-03-31T15:49:01.320Z"
   },
   {
    "duration": 42,
    "start_time": "2022-03-31T15:49:01.333Z"
   },
   {
    "duration": 21,
    "start_time": "2022-03-31T15:49:01.378Z"
   },
   {
    "duration": 6,
    "start_time": "2022-03-31T15:49:01.402Z"
   },
   {
    "duration": 17,
    "start_time": "2022-03-31T15:49:01.410Z"
   },
   {
    "duration": 9,
    "start_time": "2022-03-31T15:49:01.429Z"
   },
   {
    "duration": 76,
    "start_time": "2022-03-31T15:49:01.440Z"
   },
   {
    "duration": 20,
    "start_time": "2022-03-31T15:49:01.518Z"
   },
   {
    "duration": 48,
    "start_time": "2022-03-31T15:49:01.541Z"
   },
   {
    "duration": 22,
    "start_time": "2022-03-31T15:49:01.592Z"
   },
   {
    "duration": 37,
    "start_time": "2022-03-31T15:49:01.615Z"
   },
   {
    "duration": 66,
    "start_time": "2022-03-31T15:49:01.654Z"
   },
   {
    "duration": 9,
    "start_time": "2022-03-31T15:49:01.722Z"
   },
   {
    "duration": 21,
    "start_time": "2022-03-31T15:49:01.733Z"
   },
   {
    "duration": 9,
    "start_time": "2022-03-31T15:49:01.773Z"
   },
   {
    "duration": 30,
    "start_time": "2022-03-31T15:49:01.784Z"
   },
   {
    "duration": 31,
    "start_time": "2022-03-31T15:49:01.817Z"
   },
   {
    "duration": 46,
    "start_time": "2022-03-31T15:49:01.850Z"
   },
   {
    "duration": 32,
    "start_time": "2022-03-31T15:49:01.900Z"
   },
   {
    "duration": 41,
    "start_time": "2022-03-31T15:49:01.934Z"
   },
   {
    "duration": 56,
    "start_time": "2022-03-31T15:49:01.977Z"
   },
   {
    "duration": 48,
    "start_time": "2022-03-31T15:49:02.035Z"
   },
   {
    "duration": 48,
    "start_time": "2022-03-31T15:49:02.085Z"
   },
   {
    "duration": 68,
    "start_time": "2022-03-31T15:49:02.135Z"
   },
   {
    "duration": 71,
    "start_time": "2022-03-31T15:49:02.205Z"
   },
   {
    "duration": 401,
    "start_time": "2022-04-11T14:00:54.122Z"
   },
   {
    "duration": 20,
    "start_time": "2022-04-11T14:00:54.525Z"
   },
   {
    "duration": 14,
    "start_time": "2022-04-11T14:00:54.547Z"
   },
   {
    "duration": 5,
    "start_time": "2022-04-11T14:00:54.570Z"
   },
   {
    "duration": 14,
    "start_time": "2022-04-11T14:00:54.577Z"
   },
   {
    "duration": 11,
    "start_time": "2022-04-11T14:00:54.592Z"
   },
   {
    "duration": 13,
    "start_time": "2022-04-11T14:00:54.605Z"
   },
   {
    "duration": 12,
    "start_time": "2022-04-11T14:00:54.620Z"
   },
   {
    "duration": 16,
    "start_time": "2022-04-11T14:00:54.671Z"
   },
   {
    "duration": 8,
    "start_time": "2022-04-11T14:00:54.690Z"
   },
   {
    "duration": 6,
    "start_time": "2022-04-11T14:00:54.700Z"
   },
   {
    "duration": 10,
    "start_time": "2022-04-11T14:00:54.708Z"
   },
   {
    "duration": 5,
    "start_time": "2022-04-11T14:00:54.720Z"
   },
   {
    "duration": 45,
    "start_time": "2022-04-11T14:00:54.726Z"
   },
   {
    "duration": 7,
    "start_time": "2022-04-11T14:00:54.772Z"
   },
   {
    "duration": 23,
    "start_time": "2022-04-11T14:00:54.780Z"
   },
   {
    "duration": 12,
    "start_time": "2022-04-11T14:00:54.805Z"
   },
   {
    "duration": 13,
    "start_time": "2022-04-11T14:00:54.818Z"
   },
   {
    "duration": 40,
    "start_time": "2022-04-11T14:00:54.832Z"
   },
   {
    "duration": 14,
    "start_time": "2022-04-11T14:00:54.874Z"
   },
   {
    "duration": 28,
    "start_time": "2022-04-11T14:00:54.890Z"
   },
   {
    "duration": 6,
    "start_time": "2022-04-11T14:00:54.919Z"
   },
   {
    "duration": 7,
    "start_time": "2022-04-11T14:00:54.927Z"
   },
   {
    "duration": 8,
    "start_time": "2022-04-11T14:00:54.935Z"
   },
   {
    "duration": 15,
    "start_time": "2022-04-11T14:00:54.971Z"
   },
   {
    "duration": 22,
    "start_time": "2022-04-11T14:00:54.988Z"
   },
   {
    "duration": 15,
    "start_time": "2022-04-11T14:00:55.012Z"
   },
   {
    "duration": 41,
    "start_time": "2022-04-11T14:00:55.030Z"
   },
   {
    "duration": 9,
    "start_time": "2022-04-11T14:00:55.073Z"
   },
   {
    "duration": 17,
    "start_time": "2022-04-11T14:00:55.084Z"
   },
   {
    "duration": 26,
    "start_time": "2022-04-11T14:00:55.102Z"
   },
   {
    "duration": 48,
    "start_time": "2022-04-11T14:00:55.130Z"
   },
   {
    "duration": 27,
    "start_time": "2022-04-11T14:00:55.179Z"
   },
   {
    "duration": 28,
    "start_time": "2022-04-11T14:00:55.208Z"
   },
   {
    "duration": 3,
    "start_time": "2022-04-11T14:07:14.469Z"
   },
   {
    "duration": 57,
    "start_time": "2022-04-11T14:07:21.040Z"
   },
   {
    "duration": 468,
    "start_time": "2022-04-11T14:07:46.032Z"
   },
   {
    "duration": 10,
    "start_time": "2022-04-11T14:07:48.097Z"
   },
   {
    "duration": 5,
    "start_time": "2022-04-11T14:08:05.593Z"
   },
   {
    "duration": 10,
    "start_time": "2022-04-11T14:08:16.877Z"
   },
   {
    "duration": 8,
    "start_time": "2022-04-11T14:08:24.609Z"
   },
   {
    "duration": 7,
    "start_time": "2022-04-11T14:08:31.805Z"
   },
   {
    "duration": 8,
    "start_time": "2022-04-11T14:08:43.376Z"
   },
   {
    "duration": 6,
    "start_time": "2022-04-11T14:08:49.095Z"
   },
   {
    "duration": 57,
    "start_time": "2022-04-11T14:08:56.948Z"
   },
   {
    "duration": 7,
    "start_time": "2022-04-11T14:09:00.451Z"
   },
   {
    "duration": 8,
    "start_time": "2022-04-11T14:09:04.410Z"
   },
   {
    "duration": 404,
    "start_time": "2022-04-11T14:09:25.920Z"
   },
   {
    "duration": 19,
    "start_time": "2022-04-11T14:09:26.326Z"
   },
   {
    "duration": 14,
    "start_time": "2022-04-11T14:09:26.347Z"
   },
   {
    "duration": 11,
    "start_time": "2022-04-11T14:09:26.362Z"
   },
   {
    "duration": 14,
    "start_time": "2022-04-11T14:09:26.375Z"
   },
   {
    "duration": 9,
    "start_time": "2022-04-11T14:09:26.391Z"
   },
   {
    "duration": 13,
    "start_time": "2022-04-11T14:09:26.402Z"
   },
   {
    "duration": 11,
    "start_time": "2022-04-11T14:09:26.416Z"
   },
   {
    "duration": 54,
    "start_time": "2022-04-11T14:09:26.428Z"
   },
   {
    "duration": 7,
    "start_time": "2022-04-11T14:09:26.483Z"
   },
   {
    "duration": 5,
    "start_time": "2022-04-11T14:09:26.492Z"
   },
   {
    "duration": 11,
    "start_time": "2022-04-11T14:09:26.499Z"
   },
   {
    "duration": 3,
    "start_time": "2022-04-11T14:09:26.512Z"
   },
   {
    "duration": 6,
    "start_time": "2022-04-11T14:09:26.518Z"
   },
   {
    "duration": 8,
    "start_time": "2022-04-11T14:09:26.526Z"
   },
   {
    "duration": 27,
    "start_time": "2022-04-11T14:09:26.571Z"
   },
   {
    "duration": 13,
    "start_time": "2022-04-11T14:09:26.600Z"
   },
   {
    "duration": 15,
    "start_time": "2022-04-11T14:09:26.615Z"
   },
   {
    "duration": 11,
    "start_time": "2022-04-11T14:09:26.631Z"
   },
   {
    "duration": 16,
    "start_time": "2022-04-11T14:09:26.670Z"
   },
   {
    "duration": 31,
    "start_time": "2022-04-11T14:09:26.688Z"
   },
   {
    "duration": 7,
    "start_time": "2022-04-11T14:09:26.720Z"
   },
   {
    "duration": 10,
    "start_time": "2022-04-11T14:09:26.729Z"
   },
   {
    "duration": 34,
    "start_time": "2022-04-11T14:09:26.740Z"
   },
   {
    "duration": 17,
    "start_time": "2022-04-11T14:09:26.775Z"
   },
   {
    "duration": 18,
    "start_time": "2022-04-11T14:09:26.794Z"
   },
   {
    "duration": 15,
    "start_time": "2022-04-11T14:09:26.814Z"
   },
   {
    "duration": 42,
    "start_time": "2022-04-11T14:09:26.831Z"
   },
   {
    "duration": 6,
    "start_time": "2022-04-11T14:09:26.875Z"
   },
   {
    "duration": 19,
    "start_time": "2022-04-11T14:09:26.883Z"
   },
   {
    "duration": 27,
    "start_time": "2022-04-11T14:09:26.904Z"
   },
   {
    "duration": 62,
    "start_time": "2022-04-11T14:09:26.932Z"
   },
   {
    "duration": 29,
    "start_time": "2022-04-11T14:09:26.995Z"
   },
   {
    "duration": 29,
    "start_time": "2022-04-11T14:09:27.026Z"
   },
   {
    "duration": 53,
    "start_time": "2022-04-11T14:10:54.066Z"
   },
   {
    "duration": 144,
    "start_time": "2022-04-11T14:10:57.262Z"
   },
   {
    "duration": 4,
    "start_time": "2022-04-11T14:10:59.742Z"
   },
   {
    "duration": 10,
    "start_time": "2022-04-11T14:12:33.925Z"
   },
   {
    "duration": 12,
    "start_time": "2022-04-11T14:12:53.095Z"
   },
   {
    "duration": 26,
    "start_time": "2022-04-11T14:12:57.336Z"
   },
   {
    "duration": 153,
    "start_time": "2022-04-11T14:14:19.900Z"
   },
   {
    "duration": 12,
    "start_time": "2022-04-11T14:14:46.221Z"
   },
   {
    "duration": 6,
    "start_time": "2022-04-11T14:15:24.403Z"
   },
   {
    "duration": 6,
    "start_time": "2022-04-11T14:15:35.169Z"
   },
   {
    "duration": 463,
    "start_time": "2022-04-12T00:44:35.956Z"
   },
   {
    "duration": 18,
    "start_time": "2022-04-12T00:44:36.420Z"
   },
   {
    "duration": 14,
    "start_time": "2022-04-12T00:44:36.439Z"
   },
   {
    "duration": 5,
    "start_time": "2022-04-12T00:44:36.454Z"
   },
   {
    "duration": 30,
    "start_time": "2022-04-12T00:44:36.460Z"
   },
   {
    "duration": 8,
    "start_time": "2022-04-12T00:44:36.492Z"
   },
   {
    "duration": 14,
    "start_time": "2022-04-12T00:44:36.501Z"
   },
   {
    "duration": 10,
    "start_time": "2022-04-12T00:44:36.516Z"
   },
   {
    "duration": 15,
    "start_time": "2022-04-12T00:44:36.527Z"
   },
   {
    "duration": 37,
    "start_time": "2022-04-12T00:44:36.544Z"
   },
   {
    "duration": 6,
    "start_time": "2022-04-12T00:44:36.582Z"
   },
   {
    "duration": 11,
    "start_time": "2022-04-12T00:44:36.590Z"
   },
   {
    "duration": 4,
    "start_time": "2022-04-12T00:44:36.602Z"
   },
   {
    "duration": 6,
    "start_time": "2022-04-12T00:44:36.608Z"
   },
   {
    "duration": 6,
    "start_time": "2022-04-12T00:44:36.616Z"
   },
   {
    "duration": 62,
    "start_time": "2022-04-12T00:44:36.623Z"
   },
   {
    "duration": 12,
    "start_time": "2022-04-12T00:44:36.687Z"
   },
   {
    "duration": 13,
    "start_time": "2022-04-12T00:44:36.701Z"
   },
   {
    "duration": 9,
    "start_time": "2022-04-12T00:44:36.716Z"
   },
   {
    "duration": 15,
    "start_time": "2022-04-12T00:44:36.727Z"
   },
   {
    "duration": 52,
    "start_time": "2022-04-12T00:44:36.744Z"
   },
   {
    "duration": 5,
    "start_time": "2022-04-12T00:44:36.798Z"
   },
   {
    "duration": 9,
    "start_time": "2022-04-12T00:44:36.804Z"
   },
   {
    "duration": 9,
    "start_time": "2022-04-12T00:44:36.814Z"
   },
   {
    "duration": 16,
    "start_time": "2022-04-12T00:44:36.824Z"
   },
   {
    "duration": 41,
    "start_time": "2022-04-12T00:44:36.841Z"
   },
   {
    "duration": 16,
    "start_time": "2022-04-12T00:44:36.883Z"
   },
   {
    "duration": 17,
    "start_time": "2022-04-12T00:44:36.901Z"
   },
   {
    "duration": 9,
    "start_time": "2022-04-12T00:44:36.920Z"
   },
   {
    "duration": 18,
    "start_time": "2022-04-12T00:44:36.930Z"
   },
   {
    "duration": 51,
    "start_time": "2022-04-12T00:44:36.949Z"
   },
   {
    "duration": 26,
    "start_time": "2022-04-12T00:44:37.001Z"
   },
   {
    "duration": 27,
    "start_time": "2022-04-12T00:44:37.028Z"
   },
   {
    "duration": 46,
    "start_time": "2022-04-12T00:44:37.057Z"
   },
   {
    "duration": 615,
    "start_time": "2022-04-13T02:03:43.007Z"
   },
   {
    "duration": 35,
    "start_time": "2022-04-13T02:03:43.624Z"
   },
   {
    "duration": 21,
    "start_time": "2022-04-13T02:03:43.661Z"
   },
   {
    "duration": 7,
    "start_time": "2022-04-13T02:03:43.685Z"
   },
   {
    "duration": 59,
    "start_time": "2022-04-13T02:03:43.694Z"
   },
   {
    "duration": 14,
    "start_time": "2022-04-13T02:03:43.755Z"
   },
   {
    "duration": 22,
    "start_time": "2022-04-13T02:03:43.771Z"
   },
   {
    "duration": 16,
    "start_time": "2022-04-13T02:03:43.796Z"
   },
   {
    "duration": 24,
    "start_time": "2022-04-13T02:03:43.852Z"
   },
   {
    "duration": 10,
    "start_time": "2022-04-13T02:03:43.880Z"
   },
   {
    "duration": 8,
    "start_time": "2022-04-13T02:03:43.892Z"
   },
   {
    "duration": 57,
    "start_time": "2022-04-13T02:03:43.902Z"
   },
   {
    "duration": 6,
    "start_time": "2022-04-13T02:03:43.960Z"
   },
   {
    "duration": 13,
    "start_time": "2022-04-13T02:03:43.968Z"
   },
   {
    "duration": 9,
    "start_time": "2022-04-13T02:03:43.983Z"
   },
   {
    "duration": 91,
    "start_time": "2022-04-13T02:03:43.994Z"
   },
   {
    "duration": 19,
    "start_time": "2022-04-13T02:03:44.087Z"
   },
   {
    "duration": 51,
    "start_time": "2022-04-13T02:03:44.108Z"
   },
   {
    "duration": 16,
    "start_time": "2022-04-13T02:03:44.161Z"
   },
   {
    "duration": 26,
    "start_time": "2022-04-13T02:03:44.179Z"
   },
   {
    "duration": 83,
    "start_time": "2022-04-13T02:03:44.207Z"
   },
   {
    "duration": 9,
    "start_time": "2022-04-13T02:03:44.292Z"
   },
   {
    "duration": 12,
    "start_time": "2022-04-13T02:03:44.303Z"
   },
   {
    "duration": 39,
    "start_time": "2022-04-13T02:03:44.317Z"
   },
   {
    "duration": 25,
    "start_time": "2022-04-13T02:03:44.358Z"
   },
   {
    "duration": 28,
    "start_time": "2022-04-13T02:03:44.385Z"
   },
   {
    "duration": 58,
    "start_time": "2022-04-13T02:03:44.415Z"
   },
   {
    "duration": 30,
    "start_time": "2022-04-13T02:03:44.477Z"
   },
   {
    "duration": 49,
    "start_time": "2022-04-13T02:03:44.509Z"
   },
   {
    "duration": 30,
    "start_time": "2022-04-13T02:03:44.560Z"
   },
   {
    "duration": 75,
    "start_time": "2022-04-13T02:03:44.592Z"
   },
   {
    "duration": 46,
    "start_time": "2022-04-13T02:03:44.669Z"
   },
   {
    "duration": 70,
    "start_time": "2022-04-13T02:03:44.717Z"
   },
   {
    "duration": 66,
    "start_time": "2022-04-13T02:03:44.789Z"
   },
   {
    "duration": 3,
    "start_time": "2022-04-13T02:19:41.738Z"
   },
   {
    "duration": 3,
    "start_time": "2022-04-13T02:19:47.118Z"
   },
   {
    "duration": 74,
    "start_time": "2022-04-13T02:19:47.124Z"
   },
   {
    "duration": 19,
    "start_time": "2022-04-13T02:19:47.201Z"
   },
   {
    "duration": 48,
    "start_time": "2022-04-13T02:19:47.222Z"
   },
   {
    "duration": 8,
    "start_time": "2022-04-13T02:19:47.273Z"
   },
   {
    "duration": 21,
    "start_time": "2022-04-13T02:19:47.283Z"
   },
   {
    "duration": 15,
    "start_time": "2022-04-13T02:19:47.352Z"
   },
   {
    "duration": 24,
    "start_time": "2022-04-13T02:19:47.369Z"
   },
   {
    "duration": 56,
    "start_time": "2022-04-13T02:19:47.396Z"
   },
   {
    "duration": 23,
    "start_time": "2022-04-13T02:19:47.454Z"
   },
   {
    "duration": 10,
    "start_time": "2022-04-13T02:19:47.481Z"
   },
   {
    "duration": 9,
    "start_time": "2022-04-13T02:19:47.493Z"
   },
   {
    "duration": 16,
    "start_time": "2022-04-13T02:19:47.551Z"
   },
   {
    "duration": 6,
    "start_time": "2022-04-13T02:19:47.569Z"
   },
   {
    "duration": 10,
    "start_time": "2022-04-13T02:19:47.578Z"
   },
   {
    "duration": 9,
    "start_time": "2022-04-13T02:19:47.591Z"
   },
   {
    "duration": 42,
    "start_time": "2022-04-13T02:19:47.652Z"
   },
   {
    "duration": 56,
    "start_time": "2022-04-13T02:19:47.697Z"
   },
   {
    "duration": 27,
    "start_time": "2022-04-13T02:19:47.756Z"
   },
   {
    "duration": 20,
    "start_time": "2022-04-13T02:19:47.785Z"
   },
   {
    "duration": 63,
    "start_time": "2022-04-13T02:19:47.807Z"
   },
   {
    "duration": 50,
    "start_time": "2022-04-13T02:19:47.872Z"
   },
   {
    "duration": 10,
    "start_time": "2022-04-13T02:19:47.951Z"
   },
   {
    "duration": 10,
    "start_time": "2022-04-13T02:19:47.963Z"
   },
   {
    "duration": 10,
    "start_time": "2022-04-13T02:19:47.975Z"
   },
   {
    "duration": 66,
    "start_time": "2022-04-13T02:19:47.987Z"
   },
   {
    "duration": 28,
    "start_time": "2022-04-13T02:19:48.055Z"
   },
   {
    "duration": 23,
    "start_time": "2022-04-13T02:19:48.085Z"
   },
   {
    "duration": 67,
    "start_time": "2022-04-13T02:19:48.112Z"
   },
   {
    "duration": 9,
    "start_time": "2022-04-13T02:19:48.181Z"
   },
   {
    "duration": 68,
    "start_time": "2022-04-13T02:19:48.192Z"
   },
   {
    "duration": 42,
    "start_time": "2022-04-13T02:19:48.262Z"
   },
   {
    "duration": 75,
    "start_time": "2022-04-13T02:19:48.306Z"
   },
   {
    "duration": 47,
    "start_time": "2022-04-13T02:19:48.383Z"
   },
   {
    "duration": 66,
    "start_time": "2022-04-13T02:19:48.432Z"
   },
   {
    "duration": 74,
    "start_time": "2022-04-13T07:29:27.110Z"
   },
   {
    "duration": 556,
    "start_time": "2022-04-13T07:29:38.598Z"
   },
   {
    "duration": 83,
    "start_time": "2022-04-13T07:29:39.157Z"
   },
   {
    "duration": 32,
    "start_time": "2022-04-13T07:29:39.242Z"
   },
   {
    "duration": 23,
    "start_time": "2022-04-13T07:29:39.276Z"
   },
   {
    "duration": 65,
    "start_time": "2022-04-13T07:29:39.303Z"
   },
   {
    "duration": 8,
    "start_time": "2022-04-13T07:29:39.370Z"
   },
   {
    "duration": 52,
    "start_time": "2022-04-13T07:29:39.380Z"
   },
   {
    "duration": 15,
    "start_time": "2022-04-13T07:29:39.434Z"
   },
   {
    "duration": 23,
    "start_time": "2022-04-13T07:29:39.452Z"
   },
   {
    "duration": 48,
    "start_time": "2022-04-13T07:29:39.477Z"
   },
   {
    "duration": 26,
    "start_time": "2022-04-13T07:29:39.527Z"
   },
   {
    "duration": 11,
    "start_time": "2022-04-13T07:29:39.555Z"
   },
   {
    "duration": 10,
    "start_time": "2022-04-13T07:29:39.568Z"
   },
   {
    "duration": 53,
    "start_time": "2022-04-13T07:29:39.582Z"
   },
   {
    "duration": 6,
    "start_time": "2022-04-13T07:29:39.638Z"
   },
   {
    "duration": 13,
    "start_time": "2022-04-13T07:29:39.646Z"
   },
   {
    "duration": 9,
    "start_time": "2022-04-13T07:29:39.661Z"
   },
   {
    "duration": 80,
    "start_time": "2022-04-13T07:29:39.672Z"
   },
   {
    "duration": 20,
    "start_time": "2022-04-13T07:29:39.754Z"
   },
   {
    "duration": 48,
    "start_time": "2022-04-13T07:29:39.776Z"
   },
   {
    "duration": 17,
    "start_time": "2022-04-13T07:29:39.827Z"
   },
   {
    "duration": 33,
    "start_time": "2022-04-13T07:29:39.846Z"
   },
   {
    "duration": 76,
    "start_time": "2022-04-13T07:29:39.881Z"
   },
   {
    "duration": 9,
    "start_time": "2022-04-13T07:29:39.960Z"
   },
   {
    "duration": 14,
    "start_time": "2022-04-13T07:29:39.971Z"
   },
   {
    "duration": 37,
    "start_time": "2022-04-13T07:29:39.987Z"
   },
   {
    "duration": 23,
    "start_time": "2022-04-13T07:29:40.027Z"
   },
   {
    "duration": 45,
    "start_time": "2022-04-13T07:29:40.052Z"
   },
   {
    "duration": 42,
    "start_time": "2022-04-13T07:29:40.100Z"
   },
   {
    "duration": 31,
    "start_time": "2022-04-13T07:29:40.144Z"
   },
   {
    "duration": 23,
    "start_time": "2022-04-13T07:29:40.177Z"
   },
   {
    "duration": 50,
    "start_time": "2022-04-13T07:29:40.202Z"
   },
   {
    "duration": 50,
    "start_time": "2022-04-13T07:29:40.254Z"
   },
   {
    "duration": 50,
    "start_time": "2022-04-13T07:29:40.325Z"
   },
   {
    "duration": 69,
    "start_time": "2022-04-13T07:29:40.377Z"
   },
   {
    "duration": 54,
    "start_time": "2022-04-13T07:29:40.448Z"
   },
   {
    "duration": 8,
    "start_time": "2022-04-13T07:34:11.677Z"
   },
   {
    "duration": 6,
    "start_time": "2022-04-13T07:35:51.772Z"
   },
   {
    "duration": 8,
    "start_time": "2022-04-13T07:37:19.111Z"
   },
   {
    "duration": 8,
    "start_time": "2022-04-13T08:06:44.136Z"
   },
   {
    "duration": 10,
    "start_time": "2022-04-13T08:08:40.018Z"
   },
   {
    "duration": 120,
    "start_time": "2022-04-13T08:09:48.286Z"
   },
   {
    "duration": 126,
    "start_time": "2022-04-13T08:09:56.005Z"
   },
   {
    "duration": 9,
    "start_time": "2022-04-13T08:10:04.621Z"
   },
   {
    "duration": 8,
    "start_time": "2022-04-13T08:10:28.059Z"
   },
   {
    "duration": 99,
    "start_time": "2022-04-13T08:14:38.053Z"
   },
   {
    "duration": 8,
    "start_time": "2022-04-13T08:15:03.703Z"
   },
   {
    "duration": 97,
    "start_time": "2022-04-13T08:15:19.187Z"
   },
   {
    "duration": 8,
    "start_time": "2022-04-13T08:15:32.370Z"
   },
   {
    "duration": 9,
    "start_time": "2022-04-13T08:16:03.568Z"
   },
   {
    "duration": 551,
    "start_time": "2022-04-13T08:16:16.713Z"
   },
   {
    "duration": 84,
    "start_time": "2022-04-13T08:16:17.267Z"
   },
   {
    "duration": 32,
    "start_time": "2022-04-13T08:16:17.353Z"
   },
   {
    "duration": 46,
    "start_time": "2022-04-13T08:16:17.388Z"
   },
   {
    "duration": 46,
    "start_time": "2022-04-13T08:16:17.437Z"
   },
   {
    "duration": 9,
    "start_time": "2022-04-13T08:16:17.485Z"
   },
   {
    "duration": 51,
    "start_time": "2022-04-13T08:16:17.496Z"
   },
   {
    "duration": 20,
    "start_time": "2022-04-13T08:16:17.549Z"
   },
   {
    "duration": 62,
    "start_time": "2022-04-13T08:16:17.571Z"
   },
   {
    "duration": 20,
    "start_time": "2022-04-13T08:16:17.638Z"
   },
   {
    "duration": 37,
    "start_time": "2022-04-13T08:16:17.661Z"
   },
   {
    "duration": 33,
    "start_time": "2022-04-13T08:16:17.701Z"
   },
   {
    "duration": 15,
    "start_time": "2022-04-13T08:16:17.736Z"
   },
   {
    "duration": 22,
    "start_time": "2022-04-13T08:16:17.753Z"
   },
   {
    "duration": 20,
    "start_time": "2022-04-13T08:16:17.778Z"
   },
   {
    "duration": 10,
    "start_time": "2022-04-13T08:16:17.826Z"
   },
   {
    "duration": 33,
    "start_time": "2022-04-13T08:16:17.838Z"
   },
   {
    "duration": 60,
    "start_time": "2022-04-13T08:16:17.873Z"
   },
   {
    "duration": 22,
    "start_time": "2022-04-13T08:16:17.935Z"
   },
   {
    "duration": 24,
    "start_time": "2022-04-13T08:16:17.959Z"
   },
   {
    "duration": 52,
    "start_time": "2022-04-13T08:16:17.986Z"
   },
   {
    "duration": 29,
    "start_time": "2022-04-13T08:16:18.041Z"
   },
   {
    "duration": 77,
    "start_time": "2022-04-13T08:16:18.072Z"
   },
   {
    "duration": 10,
    "start_time": "2022-04-13T08:16:18.152Z"
   },
   {
    "duration": 22,
    "start_time": "2022-04-13T08:16:18.164Z"
   },
   {
    "duration": 27,
    "start_time": "2022-04-13T08:16:18.189Z"
   },
   {
    "duration": 44,
    "start_time": "2022-04-13T08:16:18.224Z"
   },
   {
    "duration": 33,
    "start_time": "2022-04-13T08:16:18.273Z"
   },
   {
    "duration": 29,
    "start_time": "2022-04-13T08:16:18.308Z"
   },
   {
    "duration": 37,
    "start_time": "2022-04-13T08:16:18.339Z"
   },
   {
    "duration": 12,
    "start_time": "2022-04-13T08:16:18.378Z"
   },
   {
    "duration": 63,
    "start_time": "2022-04-13T08:16:18.392Z"
   },
   {
    "duration": 69,
    "start_time": "2022-04-13T08:16:18.457Z"
   },
   {
    "duration": 53,
    "start_time": "2022-04-13T08:16:18.529Z"
   },
   {
    "duration": 79,
    "start_time": "2022-04-13T08:16:18.585Z"
   },
   {
    "duration": 74,
    "start_time": "2022-04-13T08:16:18.667Z"
   },
   {
    "duration": 557,
    "start_time": "2022-04-13T08:21:01.489Z"
   },
   {
    "duration": 85,
    "start_time": "2022-04-13T08:21:02.049Z"
   },
   {
    "duration": 34,
    "start_time": "2022-04-13T08:21:02.137Z"
   },
   {
    "duration": 52,
    "start_time": "2022-04-13T08:21:02.176Z"
   },
   {
    "duration": 48,
    "start_time": "2022-04-13T08:21:02.230Z"
   },
   {
    "duration": 47,
    "start_time": "2022-04-13T08:21:02.280Z"
   },
   {
    "duration": 24,
    "start_time": "2022-04-13T08:21:02.330Z"
   },
   {
    "duration": 16,
    "start_time": "2022-04-13T08:21:02.356Z"
   },
   {
    "duration": 65,
    "start_time": "2022-04-13T08:21:02.374Z"
   },
   {
    "duration": 17,
    "start_time": "2022-04-13T08:21:02.443Z"
   },
   {
    "duration": 37,
    "start_time": "2022-04-13T08:21:02.462Z"
   },
   {
    "duration": 33,
    "start_time": "2022-04-13T08:21:02.501Z"
   },
   {
    "duration": 9,
    "start_time": "2022-04-13T08:21:02.537Z"
   },
   {
    "duration": 25,
    "start_time": "2022-04-13T08:21:02.549Z"
   },
   {
    "duration": 28,
    "start_time": "2022-04-13T08:21:02.576Z"
   },
   {
    "duration": 23,
    "start_time": "2022-04-13T08:21:02.606Z"
   },
   {
    "duration": 19,
    "start_time": "2022-04-13T08:21:02.631Z"
   },
   {
    "duration": 49,
    "start_time": "2022-04-13T08:21:02.653Z"
   },
   {
    "duration": 36,
    "start_time": "2022-04-13T08:21:02.705Z"
   },
   {
    "duration": 27,
    "start_time": "2022-04-13T08:21:02.743Z"
   },
   {
    "duration": 17,
    "start_time": "2022-04-13T08:21:02.772Z"
   },
   {
    "duration": 56,
    "start_time": "2022-04-13T08:21:02.791Z"
   },
   {
    "duration": 51,
    "start_time": "2022-04-13T08:21:02.850Z"
   },
   {
    "duration": 27,
    "start_time": "2022-04-13T08:21:02.903Z"
   },
   {
    "duration": 21,
    "start_time": "2022-04-13T08:21:02.932Z"
   },
   {
    "duration": 17,
    "start_time": "2022-04-13T08:21:02.955Z"
   },
   {
    "duration": 33,
    "start_time": "2022-04-13T08:21:02.975Z"
   },
   {
    "duration": 31,
    "start_time": "2022-04-13T08:21:03.025Z"
   },
   {
    "duration": 23,
    "start_time": "2022-04-13T08:21:03.058Z"
   },
   {
    "duration": 65,
    "start_time": "2022-04-13T08:21:03.083Z"
   },
   {
    "duration": 16,
    "start_time": "2022-04-13T08:21:03.150Z"
   },
   {
    "duration": 59,
    "start_time": "2022-04-13T08:21:03.168Z"
   },
   {
    "duration": 51,
    "start_time": "2022-04-13T08:21:03.229Z"
   },
   {
    "duration": 74,
    "start_time": "2022-04-13T08:21:03.283Z"
   },
   {
    "duration": 65,
    "start_time": "2022-04-13T08:21:03.360Z"
   },
   {
    "duration": 53,
    "start_time": "2022-04-13T08:21:03.427Z"
   },
   {
    "duration": 19,
    "start_time": "2022-04-13T08:23:40.350Z"
   },
   {
    "duration": 4,
    "start_time": "2022-04-13T08:24:00.259Z"
   },
   {
    "duration": 80,
    "start_time": "2022-04-13T08:24:00.266Z"
   },
   {
    "duration": 20,
    "start_time": "2022-04-13T08:24:00.348Z"
   },
   {
    "duration": 23,
    "start_time": "2022-04-13T08:24:00.371Z"
   },
   {
    "duration": 67,
    "start_time": "2022-04-13T08:24:00.398Z"
   },
   {
    "duration": 20,
    "start_time": "2022-04-13T08:24:00.468Z"
   },
   {
    "duration": 538,
    "start_time": "2022-04-13T08:29:37.823Z"
   },
   {
    "duration": 1600,
    "start_time": "2022-04-13T08:29:38.364Z"
   },
   {
    "duration": 30,
    "start_time": "2022-04-13T08:29:39.966Z"
   },
   {
    "duration": 38,
    "start_time": "2022-04-13T08:29:39.998Z"
   },
   {
    "duration": 46,
    "start_time": "2022-04-13T08:29:40.039Z"
   },
   {
    "duration": 42,
    "start_time": "2022-04-13T08:29:40.087Z"
   },
   {
    "duration": 23,
    "start_time": "2022-04-13T08:29:40.131Z"
   },
   {
    "duration": 18,
    "start_time": "2022-04-13T08:29:40.156Z"
   },
   {
    "duration": 57,
    "start_time": "2022-04-13T08:29:40.176Z"
   },
   {
    "duration": 15,
    "start_time": "2022-04-13T08:29:40.235Z"
   },
   {
    "duration": 30,
    "start_time": "2022-04-13T08:29:40.252Z"
   },
   {
    "duration": 11,
    "start_time": "2022-04-13T08:29:40.284Z"
   },
   {
    "duration": 9,
    "start_time": "2022-04-13T08:29:40.324Z"
   },
   {
    "duration": 15,
    "start_time": "2022-04-13T08:29:40.337Z"
   },
   {
    "duration": 8,
    "start_time": "2022-04-13T08:29:40.354Z"
   },
   {
    "duration": 11,
    "start_time": "2022-04-13T08:29:40.364Z"
   },
   {
    "duration": 50,
    "start_time": "2022-04-13T08:29:40.377Z"
   },
   {
    "duration": 44,
    "start_time": "2022-04-13T08:29:40.429Z"
   },
   {
    "duration": 21,
    "start_time": "2022-04-13T08:29:40.475Z"
   },
   {
    "duration": 25,
    "start_time": "2022-04-13T08:29:40.525Z"
   },
   {
    "duration": 18,
    "start_time": "2022-04-13T08:29:40.552Z"
   },
   {
    "duration": 57,
    "start_time": "2022-04-13T08:29:40.572Z"
   },
   {
    "duration": 51,
    "start_time": "2022-04-13T08:29:40.632Z"
   },
   {
    "duration": 10,
    "start_time": "2022-04-13T08:29:40.686Z"
   },
   {
    "duration": 10,
    "start_time": "2022-04-13T08:29:40.725Z"
   },
   {
    "duration": 11,
    "start_time": "2022-04-13T08:29:40.737Z"
   },
   {
    "duration": 27,
    "start_time": "2022-04-13T08:29:40.750Z"
   },
   {
    "duration": 58,
    "start_time": "2022-04-13T08:29:40.779Z"
   },
   {
    "duration": 24,
    "start_time": "2022-04-13T08:29:40.839Z"
   },
   {
    "duration": 30,
    "start_time": "2022-04-13T08:29:40.865Z"
   },
   {
    "duration": 10,
    "start_time": "2022-04-13T08:29:40.925Z"
   },
   {
    "duration": 32,
    "start_time": "2022-04-13T08:29:40.937Z"
   },
   {
    "duration": 73,
    "start_time": "2022-04-13T08:29:40.971Z"
   },
   {
    "duration": 48,
    "start_time": "2022-04-13T08:29:41.046Z"
   },
   {
    "duration": 68,
    "start_time": "2022-04-13T08:29:41.096Z"
   },
   {
    "duration": 74,
    "start_time": "2022-04-13T08:29:41.167Z"
   },
   {
    "duration": 21,
    "start_time": "2022-04-13T08:30:08.103Z"
   },
   {
    "duration": 560,
    "start_time": "2022-04-13T08:30:15.879Z"
   },
   {
    "duration": 81,
    "start_time": "2022-04-13T08:30:16.442Z"
   },
   {
    "duration": 32,
    "start_time": "2022-04-13T08:30:16.525Z"
   },
   {
    "duration": 22,
    "start_time": "2022-04-13T08:30:16.559Z"
   },
   {
    "duration": 75,
    "start_time": "2022-04-13T08:30:16.584Z"
   },
   {
    "duration": 20,
    "start_time": "2022-04-13T08:30:16.661Z"
   },
   {
    "duration": 52,
    "start_time": "2022-04-13T08:30:16.683Z"
   },
   {
    "duration": 17,
    "start_time": "2022-04-13T08:30:16.737Z"
   },
   {
    "duration": 23,
    "start_time": "2022-04-13T08:30:16.756Z"
   },
   {
    "duration": 51,
    "start_time": "2022-04-13T08:30:16.782Z"
   },
   {
    "duration": 25,
    "start_time": "2022-04-13T08:30:16.836Z"
   },
   {
    "duration": 14,
    "start_time": "2022-04-13T08:30:16.863Z"
   },
   {
    "duration": 48,
    "start_time": "2022-04-13T08:30:16.880Z"
   },
   {
    "duration": 18,
    "start_time": "2022-04-13T08:30:16.935Z"
   },
   {
    "duration": 8,
    "start_time": "2022-04-13T08:30:16.956Z"
   },
   {
    "duration": 10,
    "start_time": "2022-04-13T08:30:16.967Z"
   },
   {
    "duration": 54,
    "start_time": "2022-04-13T08:30:16.980Z"
   },
   {
    "duration": 47,
    "start_time": "2022-04-13T08:30:17.037Z"
   },
   {
    "duration": 51,
    "start_time": "2022-04-13T08:30:17.086Z"
   },
   {
    "duration": 23,
    "start_time": "2022-04-13T08:30:17.139Z"
   },
   {
    "duration": 17,
    "start_time": "2022-04-13T08:30:17.164Z"
   },
   {
    "duration": 58,
    "start_time": "2022-04-13T08:30:17.183Z"
   },
   {
    "duration": 49,
    "start_time": "2022-04-13T08:30:17.243Z"
   },
   {
    "duration": 33,
    "start_time": "2022-04-13T08:30:17.294Z"
   },
   {
    "duration": 13,
    "start_time": "2022-04-13T08:30:17.329Z"
   },
   {
    "duration": 10,
    "start_time": "2022-04-13T08:30:17.344Z"
   },
   {
    "duration": 27,
    "start_time": "2022-04-13T08:30:17.356Z"
   },
   {
    "duration": 64,
    "start_time": "2022-04-13T08:30:17.385Z"
   },
   {
    "duration": 25,
    "start_time": "2022-04-13T08:30:17.451Z"
   },
   {
    "duration": 60,
    "start_time": "2022-04-13T08:30:17.478Z"
   },
   {
    "duration": 11,
    "start_time": "2022-04-13T08:30:17.540Z"
   },
   {
    "duration": 34,
    "start_time": "2022-04-13T08:30:17.554Z"
   },
   {
    "duration": 76,
    "start_time": "2022-04-13T08:30:17.590Z"
   },
   {
    "duration": 63,
    "start_time": "2022-04-13T08:30:17.669Z"
   },
   {
    "duration": 47,
    "start_time": "2022-04-13T08:30:17.735Z"
   },
   {
    "duration": 75,
    "start_time": "2022-04-13T08:30:17.784Z"
   },
   {
    "duration": 3,
    "start_time": "2022-04-13T08:30:49.452Z"
   },
   {
    "duration": 72,
    "start_time": "2022-04-13T08:30:49.458Z"
   },
   {
    "duration": 19,
    "start_time": "2022-04-13T08:30:49.532Z"
   },
   {
    "duration": 36,
    "start_time": "2022-04-13T08:30:49.553Z"
   },
   {
    "duration": 54,
    "start_time": "2022-04-13T08:30:49.591Z"
   },
   {
    "duration": 4,
    "start_time": "2022-04-13T08:31:08.846Z"
   },
   {
    "duration": 77,
    "start_time": "2022-04-13T08:31:08.852Z"
   },
   {
    "duration": 20,
    "start_time": "2022-04-13T08:31:08.931Z"
   },
   {
    "duration": 37,
    "start_time": "2022-04-13T08:31:08.953Z"
   },
   {
    "duration": 54,
    "start_time": "2022-04-13T08:31:08.993Z"
   },
   {
    "duration": 19,
    "start_time": "2022-04-13T08:31:09.049Z"
   },
   {
    "duration": 16,
    "start_time": "2022-04-13T08:42:46.697Z"
   },
   {
    "duration": 16,
    "start_time": "2022-04-13T08:43:47.468Z"
   },
   {
    "duration": 16,
    "start_time": "2022-04-13T08:44:32.974Z"
   },
   {
    "duration": 4,
    "start_time": "2022-04-13T08:44:47.489Z"
   },
   {
    "duration": 70,
    "start_time": "2022-04-13T08:44:47.496Z"
   },
   {
    "duration": 20,
    "start_time": "2022-04-13T08:44:47.569Z"
   },
   {
    "duration": 35,
    "start_time": "2022-04-13T08:44:47.591Z"
   },
   {
    "duration": 44,
    "start_time": "2022-04-13T08:44:47.629Z"
   },
   {
    "duration": 19,
    "start_time": "2022-04-13T08:44:47.675Z"
   },
   {
    "duration": 21,
    "start_time": "2022-04-13T08:44:47.725Z"
   },
   {
    "duration": 17,
    "start_time": "2022-04-13T08:44:47.748Z"
   },
   {
    "duration": 947,
    "start_time": "2022-04-13T08:47:35.048Z"
   },
   {
    "duration": 819,
    "start_time": "2022-04-13T08:47:47.526Z"
   },
   {
    "duration": 33,
    "start_time": "2022-04-13T08:48:15.783Z"
   },
   {
    "duration": 28,
    "start_time": "2022-04-13T08:48:35.915Z"
   },
   {
    "duration": 13,
    "start_time": "2022-04-13T08:49:21.301Z"
   },
   {
    "duration": 8,
    "start_time": "2022-04-13T08:50:01.264Z"
   },
   {
    "duration": 533,
    "start_time": "2022-04-13T08:50:14.742Z"
   },
   {
    "duration": 81,
    "start_time": "2022-04-13T08:50:15.278Z"
   },
   {
    "duration": 31,
    "start_time": "2022-04-13T08:50:15.361Z"
   },
   {
    "duration": 38,
    "start_time": "2022-04-13T08:50:15.395Z"
   },
   {
    "duration": 45,
    "start_time": "2022-04-13T08:50:15.435Z"
   },
   {
    "duration": 46,
    "start_time": "2022-04-13T08:50:15.482Z"
   },
   {
    "duration": 22,
    "start_time": "2022-04-13T08:50:15.531Z"
   },
   {
    "duration": 12,
    "start_time": "2022-04-13T08:50:15.556Z"
   },
   {
    "duration": 68,
    "start_time": "2022-04-13T08:50:15.570Z"
   },
   {
    "duration": 17,
    "start_time": "2022-04-13T08:50:15.641Z"
   },
   {
    "duration": 26,
    "start_time": "2022-04-13T08:50:15.660Z"
   },
   {
    "duration": 43,
    "start_time": "2022-04-13T08:50:15.688Z"
   },
   {
    "duration": 9,
    "start_time": "2022-04-13T08:50:15.733Z"
   },
   {
    "duration": 18,
    "start_time": "2022-04-13T08:50:15.745Z"
   },
   {
    "duration": 7,
    "start_time": "2022-04-13T08:50:15.766Z"
   },
   {
    "duration": 55,
    "start_time": "2022-04-13T08:50:15.776Z"
   },
   {
    "duration": 11,
    "start_time": "2022-04-13T08:50:15.833Z"
   },
   {
    "duration": 43,
    "start_time": "2022-04-13T08:50:15.846Z"
   },
   {
    "duration": 25,
    "start_time": "2022-04-13T08:50:15.924Z"
   },
   {
    "duration": 25,
    "start_time": "2022-04-13T08:50:15.951Z"
   },
   {
    "duration": 60,
    "start_time": "2022-04-13T08:50:15.979Z"
   },
   {
    "duration": 52,
    "start_time": "2022-04-13T08:50:16.041Z"
   },
   {
    "duration": 80,
    "start_time": "2022-04-13T08:50:16.096Z"
   },
   {
    "duration": 14,
    "start_time": "2022-04-13T08:50:16.178Z"
   },
   {
    "duration": 31,
    "start_time": "2022-04-13T08:50:16.195Z"
   },
   {
    "duration": 17,
    "start_time": "2022-04-13T08:50:16.229Z"
   },
   {
    "duration": 50,
    "start_time": "2022-04-13T08:50:16.249Z"
   },
   {
    "duration": 58,
    "start_time": "2022-04-13T08:50:16.306Z"
   },
   {
    "duration": 33,
    "start_time": "2022-04-13T08:50:16.368Z"
   },
   {
    "duration": 47,
    "start_time": "2022-04-13T08:50:16.424Z"
   },
   {
    "duration": 21,
    "start_time": "2022-04-13T08:50:16.473Z"
   },
   {
    "duration": 58,
    "start_time": "2022-04-13T08:50:16.496Z"
   },
   {
    "duration": 57,
    "start_time": "2022-04-13T08:50:16.556Z"
   },
   {
    "duration": 48,
    "start_time": "2022-04-13T08:50:16.623Z"
   },
   {
    "duration": 70,
    "start_time": "2022-04-13T08:50:16.673Z"
   },
   {
    "duration": 52,
    "start_time": "2022-04-13T08:50:16.745Z"
   },
   {
    "duration": 544,
    "start_time": "2022-04-13T10:07:32.108Z"
   },
   {
    "duration": 82,
    "start_time": "2022-04-13T10:07:32.655Z"
   },
   {
    "duration": 32,
    "start_time": "2022-04-13T10:07:32.739Z"
   },
   {
    "duration": 21,
    "start_time": "2022-04-13T10:07:32.774Z"
   },
   {
    "duration": 69,
    "start_time": "2022-04-13T10:07:32.797Z"
   },
   {
    "duration": 21,
    "start_time": "2022-04-13T10:07:32.868Z"
   },
   {
    "duration": 54,
    "start_time": "2022-04-13T10:07:32.892Z"
   },
   {
    "duration": 12,
    "start_time": "2022-04-13T10:07:32.949Z"
   },
   {
    "duration": 25,
    "start_time": "2022-04-13T10:07:32.963Z"
   },
   {
    "duration": 17,
    "start_time": "2022-04-13T10:07:33.029Z"
   },
   {
    "duration": 37,
    "start_time": "2022-04-13T10:07:33.049Z"
   },
   {
    "duration": 46,
    "start_time": "2022-04-13T10:07:33.089Z"
   },
   {
    "duration": 14,
    "start_time": "2022-04-13T10:07:33.137Z"
   },
   {
    "duration": 10,
    "start_time": "2022-04-13T10:07:33.154Z"
   },
   {
    "duration": 58,
    "start_time": "2022-04-13T10:07:33.167Z"
   },
   {
    "duration": 7,
    "start_time": "2022-04-13T10:07:33.228Z"
   },
   {
    "duration": 18,
    "start_time": "2022-04-13T10:07:33.238Z"
   },
   {
    "duration": 12,
    "start_time": "2022-04-13T10:07:33.259Z"
   },
   {
    "duration": 85,
    "start_time": "2022-04-13T10:07:33.274Z"
   },
   {
    "duration": 23,
    "start_time": "2022-04-13T10:07:33.362Z"
   },
   {
    "duration": 54,
    "start_time": "2022-04-13T10:07:33.388Z"
   },
   {
    "duration": 18,
    "start_time": "2022-04-13T10:07:33.445Z"
   },
   {
    "duration": 31,
    "start_time": "2022-04-13T10:07:33.466Z"
   },
   {
    "duration": 53,
    "start_time": "2022-04-13T10:07:33.525Z"
   },
   {
    "duration": 11,
    "start_time": "2022-04-13T10:07:33.581Z"
   },
   {
    "duration": 39,
    "start_time": "2022-04-13T10:07:33.594Z"
   },
   {
    "duration": 19,
    "start_time": "2022-04-13T10:07:33.636Z"
   },
   {
    "duration": 25,
    "start_time": "2022-04-13T10:07:33.659Z"
   },
   {
    "duration": 57,
    "start_time": "2022-04-13T10:07:33.686Z"
   },
   {
    "duration": 24,
    "start_time": "2022-04-13T10:07:33.745Z"
   },
   {
    "duration": 60,
    "start_time": "2022-04-13T10:07:33.771Z"
   },
   {
    "duration": 22,
    "start_time": "2022-04-13T10:07:33.833Z"
   },
   {
    "duration": 32,
    "start_time": "2022-04-13T10:07:33.858Z"
   },
   {
    "duration": 68,
    "start_time": "2022-04-13T10:07:33.892Z"
   },
   {
    "duration": 63,
    "start_time": "2022-04-13T10:07:33.962Z"
   },
   {
    "duration": 50,
    "start_time": "2022-04-13T10:07:34.027Z"
   },
   {
    "duration": 74,
    "start_time": "2022-04-13T10:07:34.079Z"
   },
   {
    "duration": 24,
    "start_time": "2022-04-13T10:13:10.280Z"
   },
   {
    "duration": 4,
    "start_time": "2022-04-13T10:13:40.734Z"
   },
   {
    "duration": 95,
    "start_time": "2022-04-13T10:13:40.742Z"
   },
   {
    "duration": 20,
    "start_time": "2022-04-13T10:13:40.839Z"
   },
   {
    "duration": 30,
    "start_time": "2022-04-13T10:13:40.861Z"
   },
   {
    "duration": 69,
    "start_time": "2022-04-13T10:13:40.894Z"
   },
   {
    "duration": 19,
    "start_time": "2022-04-13T10:13:40.965Z"
   },
   {
    "duration": 50,
    "start_time": "2022-04-13T10:13:40.986Z"
   },
   {
    "duration": 9,
    "start_time": "2022-04-13T10:13:41.038Z"
   },
   {
    "duration": 29,
    "start_time": "2022-04-13T10:13:41.049Z"
   },
   {
    "duration": 46,
    "start_time": "2022-04-13T10:13:41.080Z"
   },
   {
    "duration": 37,
    "start_time": "2022-04-13T10:13:41.131Z"
   },
   {
    "duration": 14,
    "start_time": "2022-04-13T10:13:41.170Z"
   },
   {
    "duration": 43,
    "start_time": "2022-04-13T10:13:41.187Z"
   },
   {
    "duration": 20,
    "start_time": "2022-04-13T10:13:41.233Z"
   },
   {
    "duration": 11,
    "start_time": "2022-04-13T10:13:41.255Z"
   },
   {
    "duration": 12,
    "start_time": "2022-04-13T10:13:41.269Z"
   },
   {
    "duration": 49,
    "start_time": "2022-04-13T10:13:41.284Z"
   },
   {
    "duration": 67,
    "start_time": "2022-04-13T10:13:41.336Z"
   },
   {
    "duration": 31,
    "start_time": "2022-04-13T10:13:41.425Z"
   },
   {
    "duration": 25,
    "start_time": "2022-04-13T10:13:41.458Z"
   },
   {
    "duration": 42,
    "start_time": "2022-04-13T10:13:41.485Z"
   },
   {
    "duration": 441,
    "start_time": "2022-04-13T19:15:05.685Z"
   },
   {
    "duration": 60,
    "start_time": "2022-04-13T19:15:06.128Z"
   },
   {
    "duration": 26,
    "start_time": "2022-04-13T19:15:06.190Z"
   },
   {
    "duration": 16,
    "start_time": "2022-04-13T19:15:06.218Z"
   },
   {
    "duration": 43,
    "start_time": "2022-04-13T19:15:06.236Z"
   },
   {
    "duration": 28,
    "start_time": "2022-04-13T19:15:06.280Z"
   },
   {
    "duration": 16,
    "start_time": "2022-04-13T19:15:06.310Z"
   },
   {
    "duration": 7,
    "start_time": "2022-04-13T19:15:06.328Z"
   },
   {
    "duration": 21,
    "start_time": "2022-04-13T19:15:06.336Z"
   },
   {
    "duration": 13,
    "start_time": "2022-04-13T19:15:06.360Z"
   },
   {
    "duration": 49,
    "start_time": "2022-04-13T19:15:06.374Z"
   },
   {
    "duration": 7,
    "start_time": "2022-04-13T19:15:06.424Z"
   },
   {
    "duration": 6,
    "start_time": "2022-04-13T19:15:06.433Z"
   },
   {
    "duration": 22,
    "start_time": "2022-04-13T19:15:06.441Z"
   },
   {
    "duration": 14,
    "start_time": "2022-04-13T19:15:06.465Z"
   },
   {
    "duration": 10,
    "start_time": "2022-04-13T19:15:06.481Z"
   },
   {
    "duration": 7,
    "start_time": "2022-04-13T19:15:06.507Z"
   },
   {
    "duration": 34,
    "start_time": "2022-04-13T19:15:06.516Z"
   },
   {
    "duration": 15,
    "start_time": "2022-04-13T19:15:06.552Z"
   },
   {
    "duration": 38,
    "start_time": "2022-04-13T19:15:06.569Z"
   },
   {
    "duration": 12,
    "start_time": "2022-04-13T19:15:06.610Z"
   },
   {
    "duration": 25,
    "start_time": "2022-04-13T19:15:06.624Z"
   },
   {
    "duration": 37,
    "start_time": "2022-04-13T19:15:06.650Z"
   },
   {
    "duration": 24,
    "start_time": "2022-04-13T19:15:06.689Z"
   },
   {
    "duration": 13,
    "start_time": "2022-04-13T19:15:06.714Z"
   },
   {
    "duration": 12,
    "start_time": "2022-04-13T19:15:06.728Z"
   },
   {
    "duration": 28,
    "start_time": "2022-04-13T19:15:06.741Z"
   },
   {
    "duration": 36,
    "start_time": "2022-04-13T19:15:06.772Z"
   },
   {
    "duration": 18,
    "start_time": "2022-04-13T19:15:06.810Z"
   },
   {
    "duration": 22,
    "start_time": "2022-04-13T19:15:06.830Z"
   },
   {
    "duration": 13,
    "start_time": "2022-04-13T19:15:06.854Z"
   },
   {
    "duration": 49,
    "start_time": "2022-04-13T19:15:06.869Z"
   },
   {
    "duration": 56,
    "start_time": "2022-04-13T19:15:06.920Z"
   },
   {
    "duration": 34,
    "start_time": "2022-04-13T19:15:06.978Z"
   },
   {
    "duration": 35,
    "start_time": "2022-04-13T19:15:07.015Z"
   },
   {
    "duration": 34,
    "start_time": "2022-04-13T19:15:07.052Z"
   }
  ],
  "kernelspec": {
   "display_name": "Python 3 (ipykernel)",
   "language": "python",
   "name": "python3"
  },
  "language_info": {
   "codemirror_mode": {
    "name": "ipython",
    "version": 3
   },
   "file_extension": ".py",
   "mimetype": "text/x-python",
   "name": "python",
   "nbconvert_exporter": "python",
   "pygments_lexer": "ipython3",
   "version": "3.9.7"
  },
  "toc": {
   "base_numbering": 1,
   "nav_menu": {},
   "number_sections": true,
   "sideBar": true,
   "skip_h1_title": true,
   "title_cell": "Table of Contents",
   "title_sidebar": "Contents",
   "toc_cell": false,
   "toc_position": {},
   "toc_section_display": true,
   "toc_window_display": false
  }
 },
 "nbformat": 4,
 "nbformat_minor": 5
}
