{
 "cells": [
  {
   "cell_type": "code",
   "execution_count": 10,
   "id": "3e4f844d",
   "metadata": {},
   "outputs": [
    {
     "data": {
      "text/html": [
       "<div>\n",
       "<style scoped>\n",
       "    .dataframe tbody tr th:only-of-type {\n",
       "        vertical-align: middle;\n",
       "    }\n",
       "\n",
       "    .dataframe tbody tr th {\n",
       "        vertical-align: top;\n",
       "    }\n",
       "\n",
       "    .dataframe thead th {\n",
       "        text-align: right;\n",
       "    }\n",
       "</style>\n",
       "<table border=\"1\" class=\"dataframe\">\n",
       "  <thead>\n",
       "    <tr style=\"text-align: right;\">\n",
       "      <th></th>\n",
       "      <th>total_images\\tlast_price\\ttotal_area\\tfirst_day_exposition\\trooms\\tceiling_height\\tfloors_total\\tliving_area\\tfloor\\tis_apartment\\tstudio\\topen_plan\\tkitchen_area\\tbalcony\\tlocality_name\\tairports_nearest\\tcityCenters_nearest\\tparks_around3000\\tparks_nearest\\tponds_around3000\\tponds_nearest\\tdays_exposition</th>\n",
       "    </tr>\n",
       "  </thead>\n",
       "  <tbody>\n",
       "    <tr>\n",
       "      <th>0</th>\n",
       "      <td>20\\t13000000.0\\t108.0\\t2019-03-07T00:00:00\\t3\\...</td>\n",
       "    </tr>\n",
       "    <tr>\n",
       "      <th>1</th>\n",
       "      <td>7\\t3350000.0\\t40.4\\t2018-12-04T00:00:00\\t1\\t\\t...</td>\n",
       "    </tr>\n",
       "    <tr>\n",
       "      <th>2</th>\n",
       "      <td>10\\t5196000.0\\t56.0\\t2015-08-20T00:00:00\\t2\\t\\...</td>\n",
       "    </tr>\n",
       "    <tr>\n",
       "      <th>3</th>\n",
       "      <td>0\\t64900000.0\\t159.0\\t2015-07-24T00:00:00\\t3\\t...</td>\n",
       "    </tr>\n",
       "    <tr>\n",
       "      <th>4</th>\n",
       "      <td>2\\t10000000.0\\t100.0\\t2018-06-19T00:00:00\\t2\\t...</td>\n",
       "    </tr>\n",
       "    <tr>\n",
       "      <th>5</th>\n",
       "      <td>10\\t2890000.0\\t30.4\\t2018-09-10T00:00:00\\t1\\t\\...</td>\n",
       "    </tr>\n",
       "    <tr>\n",
       "      <th>6</th>\n",
       "      <td>6\\t3700000.0\\t37.3\\t2017-11-02T00:00:00\\t1\\t\\t...</td>\n",
       "    </tr>\n",
       "    <tr>\n",
       "      <th>7</th>\n",
       "      <td>5\\t7915000.0\\t71.6\\t2019-04-18T00:00:00\\t2\\t\\t...</td>\n",
       "    </tr>\n",
       "    <tr>\n",
       "      <th>8</th>\n",
       "      <td>20\\t2900000.0\\t33.16\\t2018-05-23T00:00:00\\t1\\t...</td>\n",
       "    </tr>\n",
       "    <tr>\n",
       "      <th>9</th>\n",
       "      <td>18\\t5400000.0\\t61.0\\t2017-02-26T00:00:00\\t3\\t2...</td>\n",
       "    </tr>\n",
       "  </tbody>\n",
       "</table>\n",
       "</div>"
      ],
      "text/plain": [
       "  total_images\\tlast_price\\ttotal_area\\tfirst_day_exposition\\trooms\\tceiling_height\\tfloors_total\\tliving_area\\tfloor\\tis_apartment\\tstudio\\topen_plan\\tkitchen_area\\tbalcony\\tlocality_name\\tairports_nearest\\tcityCenters_nearest\\tparks_around3000\\tparks_nearest\\tponds_around3000\\tponds_nearest\\tdays_exposition\n",
       "0  20\\t13000000.0\\t108.0\\t2019-03-07T00:00:00\\t3\\...                                                                                                                                                                                                                                                                  \n",
       "1  7\\t3350000.0\\t40.4\\t2018-12-04T00:00:00\\t1\\t\\t...                                                                                                                                                                                                                                                                  \n",
       "2  10\\t5196000.0\\t56.0\\t2015-08-20T00:00:00\\t2\\t\\...                                                                                                                                                                                                                                                                  \n",
       "3  0\\t64900000.0\\t159.0\\t2015-07-24T00:00:00\\t3\\t...                                                                                                                                                                                                                                                                  \n",
       "4  2\\t10000000.0\\t100.0\\t2018-06-19T00:00:00\\t2\\t...                                                                                                                                                                                                                                                                  \n",
       "5  10\\t2890000.0\\t30.4\\t2018-09-10T00:00:00\\t1\\t\\...                                                                                                                                                                                                                                                                  \n",
       "6  6\\t3700000.0\\t37.3\\t2017-11-02T00:00:00\\t1\\t\\t...                                                                                                                                                                                                                                                                  \n",
       "7  5\\t7915000.0\\t71.6\\t2019-04-18T00:00:00\\t2\\t\\t...                                                                                                                                                                                                                                                                  \n",
       "8  20\\t2900000.0\\t33.16\\t2018-05-23T00:00:00\\t1\\t...                                                                                                                                                                                                                                                                  \n",
       "9  18\\t5400000.0\\t61.0\\t2017-02-26T00:00:00\\t3\\t2...                                                                                                                                                                                                                                                                  "
      ]
     },
     "metadata": {},
     "output_type": "display_data"
    },
    {
     "name": "stdout",
     "output_type": "stream",
     "text": [
      "<class 'pandas.core.frame.DataFrame'>\n",
      "RangeIndex: 23699 entries, 0 to 23698\n",
      "Data columns (total 1 columns):\n",
      " #   Column                                                                                                                                                                                                                                                                                           Non-Null Count  Dtype \n",
      "---  ------                                                                                                                                                                                                                                                                                           --------------  ----- \n",
      " 0   total_images\tlast_price\ttotal_area\tfirst_day_exposition\trooms\tceiling_height\tfloors_total\tliving_area\tfloor\tis_apartment\tstudio\topen_plan\tkitchen_area\tbalcony\tlocality_name\tairports_nearest\tcityCenters_nearest\tparks_around3000\tparks_nearest\tponds_around3000\tponds_nearest\tdays_exposition  23699 non-null  object\n",
      "dtypes: object(1)\n",
      "memory usage: 185.3+ KB\n"
     ]
    }
   ],
   "source": [
    "import pandas as pd\n",
    "data = pd.read_csv('E:/OneDrive/python/projects/project_3/datasets/real_estate_data.csv')\n",
    "display(data.head(10))\n",
    "data.info()"
   ]
  },
  {
   "cell_type": "code",
   "execution_count": null,
   "id": "be3cbe73",
   "metadata": {},
   "outputs": [],
   "source": []
  }
 ],
 "metadata": {
  "kernelspec": {
   "display_name": "Python 3 (ipykernel)",
   "language": "python",
   "name": "python3"
  },
  "language_info": {
   "codemirror_mode": {
    "name": "ipython",
    "version": 3
   },
   "file_extension": ".py",
   "mimetype": "text/x-python",
   "name": "python",
   "nbconvert_exporter": "python",
   "pygments_lexer": "ipython3",
   "version": "3.9.7"
  }
 },
 "nbformat": 4,
 "nbformat_minor": 5
}
